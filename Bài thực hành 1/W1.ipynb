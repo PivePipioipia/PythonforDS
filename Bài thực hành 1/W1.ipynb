{
 "cells": [
  {
   "cell_type": "markdown",
   "id": "ad0f03f3",
   "metadata": {},
   "source": [
    "# Bài số 1: Cú pháp cơ bản và các phép toán\n"
   ]
  },
  {
   "cell_type": "markdown",
   "id": "6a40d834",
   "metadata": {},
   "source": [
    "## Phần A. Nhận biết – Ghi nhớ (30 yêu cầu)"
   ]
  },
  {
   "cell_type": "code",
   "execution_count": 1,
   "id": "cdf80187",
   "metadata": {},
   "outputs": [
    {
     "name": "stdout",
     "output_type": "stream",
     "text": [
      "Hello Python\n",
      "2025\n",
      "12\n"
     ]
    }
   ],
   "source": [
    "# Bài 1\n",
    "# 1\n",
    "print(\"Hello Python\")\n",
    "\n",
    "# 2\n",
    "print(2025)\n",
    "\n",
    "# 3\n",
    "print(5+7)"
   ]
  },
  {
   "cell_type": "code",
   "execution_count": 2,
   "id": "1110b1c4",
   "metadata": {},
   "outputs": [
    {
     "name": "stdout",
     "output_type": "stream",
     "text": [
      "Yen\n",
      "20\n",
      "<class 'float'>\n"
     ]
    }
   ],
   "source": [
    "# Bài 2\n",
    "# 1\n",
    "name = \"Yen\"\n",
    "print(name)\n",
    "\n",
    "# 2\n",
    "age = 20\n",
    "print(age)\n",
    "\n",
    "# 3\n",
    "pi = 3.14159\n",
    "print(type(pi))"
   ]
  },
  {
   "cell_type": "code",
   "execution_count": 3,
   "id": "405f1d68",
   "metadata": {},
   "outputs": [
    {
     "name": "stdout",
     "output_type": "stream",
     "text": [
      "Tong:  19\n",
      "Hieu:  11\n",
      "Tich:  60\n",
      "Thuong:  3.75\n",
      "15//4 =  3\n",
      "15 % 4 =  3\n",
      "2**5 =  32\n"
     ]
    }
   ],
   "source": [
    "# Bài 3\n",
    "# 1\n",
    "a = 15\n",
    "b = 4\n",
    "\n",
    "tong = a+b\n",
    "hieu = a- b\n",
    "tich = a*b\n",
    "thuong = a/b\n",
    "\n",
    "print(\"Tong: \", tong)\n",
    "print(\"Hieu: \", hieu)\n",
    "print(\"Tich: \", tich)\n",
    "print(\"Thuong: \", thuong)\n",
    "\n",
    "# 2. Chia lấy phần nguyên và phần dư\n",
    "\n",
    "print(\"15//4 = \", a//b)\n",
    "print(\"15 % 4 = \", a%b)\n",
    "\n",
    "# 3. Lũy thừa\n",
    "print(\"2**5 = \", 2**5)"
   ]
  },
  {
   "cell_type": "code",
   "execution_count": 4,
   "id": "f34c2382",
   "metadata": {},
   "outputs": [
    {
     "name": "stdout",
     "output_type": "stream",
     "text": [
      "x ban đầu:  10\n",
      "x sau khi tăng thêm 5:  15\n",
      "x sau khi giảm đi 3:  12\n",
      "x sau khi nhân 2:  24\n"
     ]
    }
   ],
   "source": [
    "# Bài 4: Phép toán gán\n",
    "\n",
    "\n",
    "# 1. Tạo biến x = 10, sau đó tăng x thêm 5 bằng +=.\n",
    "x = 10\n",
    "print(\"x ban đầu: \", x)\n",
    "\n",
    "x += 5\n",
    "print (\"x sau khi tăng thêm 5: \", x)\n",
    "# 2. Giảm x đi 3 bằng -=.\n",
    "x-= 3\n",
    "print(\"x sau khi giảm đi 3: \", x)\n",
    "\n",
    "# 3. Nhân x với 2 bằng *=.\n",
    "x*= 2\n",
    "print(\"x sau khi nhân 2: \", x)"
   ]
  },
  {
   "cell_type": "markdown",
   "id": "51d44228",
   "metadata": {},
   "source": []
  },
  {
   "cell_type": "code",
   "execution_count": 5,
   "id": "c20b60bc",
   "metadata": {},
   "outputs": [
    {
     "name": "stdout",
     "output_type": "stream",
     "text": [
      "False\n",
      "True\n",
      "False\n",
      "False\n",
      "True\n",
      "False\n",
      "True\n",
      "False\n"
     ]
    }
   ],
   "source": [
    "#Bài 5: Phép so sánh\n",
    "\n",
    "#1. So sánh 10 và 20.\n",
    "print(10 > 20)\n",
    "print(10 < 20)\n",
    "print(10 == 20)\n",
    "\n",
    "#2. So sánh chuỗi \"apple\" và \"banana\".\n",
    "print(\"apple\" > \"banana\")\n",
    "print(\"apple\" < \"banana\")\n",
    "print(\"apple\" == \"banana\")\n",
    "\n",
    "#3. Kiểm tra 5 >= 5 và 7 <= 3.\n",
    "print(5 >= 5)\n",
    "print(7 <= 3)"
   ]
  },
  {
   "cell_type": "code",
   "execution_count": 6,
   "id": "a51edf99",
   "metadata": {},
   "outputs": [
    {
     "name": "stdout",
     "output_type": "stream",
     "text": [
      "a and b: False\n",
      "a or b: True\n",
      "not a: False\n"
     ]
    }
   ],
   "source": [
    "#Bài 6: Phép logic\n",
    "\n",
    "#1. Với a = True, b = False, tính a and b.\n",
    "#2. Tính a or b.\n",
    "#3. Tính not a.\n",
    "\n",
    "a, b = True, False\n",
    "\n",
    "print(\"a and b:\", a and b)\n",
    "print(\"a or b:\", a or b)\n",
    "print(\"not a:\", not a)\n"
   ]
  },
  {
   "cell_type": "code",
   "execution_count": 7,
   "id": "3e4bceee",
   "metadata": {},
   "outputs": [
    {
     "name": "stdout",
     "output_type": "stream",
     "text": [
      "5 & 3 = 1\n",
      "5 | 3 = 7\n",
      "5 ^ 3 = 6\n"
     ]
    }
   ],
   "source": [
    "#Bài 7: Phép toán bitwise\n",
    "#1. Tính 5 & 3.\n",
    "#2. Tính 5 | 3.\n",
    "#3. Tính 5 ^ 3.\n",
    "\n",
    "print(\"5 & 3 =\", 5 & 3)\n",
    "print(\"5 | 3 =\", 5 | 3)\n",
    "print(\"5 ^ 3 =\", 5 ^ 3)\n"
   ]
  },
  {
   "cell_type": "code",
   "execution_count": 8,
   "id": "250f9319",
   "metadata": {},
   "outputs": [
    {
     "name": "stdout",
     "output_type": "stream",
     "text": [
      "x is y: True\n",
      "x is z: False\n",
      "x is not z: True\n"
     ]
    }
   ],
   "source": [
    "#Bài 8: Phép toán định danh\n",
    "\n",
    "#1. Tạo x = [1,2,3], y = x. Kiểm tra x is y.\n",
    "#2. Tạo z = [1,2,3]. Kiểm tra x is z.\n",
    "#3. Kiểm tra x is not z.\n",
    "\n",
    "x = [1, 2, 3]\n",
    "y = x\n",
    "z = [1, 2, 3]\n",
    "\n",
    "print(\"x is y:\", x is y)\n",
    "print(\"x is z:\", x is z)\n",
    "print(\"x is not z:\", x is not z)\n"
   ]
  },
  {
   "cell_type": "code",
   "execution_count": 9,
   "id": "eb7b6b6f",
   "metadata": {},
   "outputs": [
    {
     "name": "stdout",
     "output_type": "stream",
     "text": [
      "2 + 3 * 4 = 14\n",
      "(2 + 3) * 4 = 20\n",
      "2 ** 3 ** 2 = 512\n"
     ]
    }
   ],
   "source": [
    "#Bài 9: Thứ tự ưu tiên toán tử\n",
    "#1. Tính 2 + 3 * 4.\n",
    "#2. Tính (2 + 3) * 4.\n",
    "#3. Tính 2 ** 3 ** 2.\n",
    "\n",
    "print(\"2 + 3 * 4 =\", 2 + 3 * 4)\n",
    "print(\"(2 + 3) * 4 =\", (2 + 3) * 4)\n",
    "print(\"2 ** 3 ** 2 =\", 2 ** 3 ** 2)  # = 2^(3^2) = 2^9 = 512\n"
   ]
  },
  {
   "cell_type": "code",
   "execution_count": 13,
   "id": "5a1eb87c",
   "metadata": {},
   "outputs": [
    {
     "name": "stdout",
     "output_type": "stream",
     "text": [
      "(a+b)*(a-b) = 91\n",
      "Giá trị cuối cùng của a: 25\n"
     ]
    }
   ],
   "source": [
    "#Bài 10: Kết hợp nhiều thao tác\n",
    "\n",
    "#1. Với a=10, b=3, tính (a+b) * (a-b).\n",
    "#2. Dùng phép gán kết hợp để tăng a lên gấp 3 rồi trừ đi 5.\n",
    "#3. In ra kết quả cuối cùng của a.\n",
    "\n",
    "a, b = 10, 3\n",
    "kq1 = (a + b) * (a - b)\n",
    "print(\"(a+b)*(a-b) =\", kq1)\n",
    "\n",
    "a *= 3\n",
    "a -= 5\n",
    "\n",
    "print(\"Giá trị cuối cùng của a:\", a)\n"
   ]
  },
  {
   "cell_type": "markdown",
   "id": "9bc5c50c",
   "metadata": {},
   "source": [
    "## Phần B. Vận dụng (20 yêu cầu)"
   ]
  },
  {
   "cell_type": "code",
   "execution_count": 16,
   "id": "fc7d1f8e",
   "metadata": {},
   "outputs": [
    {
     "name": "stdout",
     "output_type": "stream",
     "text": [
      "Tổng: 9\n",
      "Hiệu: 1\n",
      "Tích: 20\n",
      "Thương: 1.25\n",
      "Bình phương: 4\n",
      "Lập phương: 8\n"
     ]
    }
   ],
   "source": [
    "#Bài 1: Tính toán với dữ liệu nhập vào\n",
    "\n",
    "#1. Nhập vào 2 số nguyên, in ra tổng, hiệu, tích, thương.\n",
    "\n",
    "a = int(input(\"Nhập số thứ nhất: \"))\n",
    "b = int(input(\"Nhập số thứ hai: \"))\n",
    "\n",
    "print(\"Tổng:\", a + b)\n",
    "print(\"Hiệu:\", a - b)\n",
    "print(\"Tích:\", a * b)\n",
    "print(\"Thương:\", a / b)\n",
    "\n",
    "#2. Nhập vào một số, in ra bình phương và lập phương.\n",
    "n = int(input(\"Nhập số nguyên n: \"))\n",
    "print(\"Bình phương:\", n**2)\n",
    "print(\"Lập phương:\", n**3)"
   ]
  },
  {
   "cell_type": "code",
   "execution_count": 17,
   "id": "aab5b6af",
   "metadata": {},
   "outputs": [
    {
     "name": "stdout",
     "output_type": "stream",
     "text": [
      "True\n",
      "False\n",
      "False\n"
     ]
    }
   ],
   "source": [
    "#Bài 2: Ứng dụng so sánh và logic\n",
    "\n",
    "#1. Nhập vào tuổi, in ra True nếu ≥ 18, ngược lại False.\n",
    "age = int(input(\"Nhập tuổi của bạn: \"))\n",
    "print(age >= 18)\n",
    "\n",
    "#2. Kiểm tra một số có nằm trong [10,50] hay không.\n",
    "x = int(input(\"Nhập một số: \"))\n",
    "print(10 <= x <= 50)\n",
    "\n",
    "#3. Kiểm tra một số có phải số chẵn không.\n",
    "n = int(input(\"Nhập số nguyên n: \"))\n",
    "print(n % 2 == 0)\n",
    "\n",
    "\n"
   ]
  },
  {
   "cell_type": "code",
   "execution_count": 18,
   "id": "e5242b11",
   "metadata": {},
   "outputs": [
    {
     "name": "stdout",
     "output_type": "stream",
     "text": [
      "Dạng nhị phân: 0b111000\n",
      "Số chẵn? True\n",
      "Trước hoán đổi: 3 4\n",
      "Sau hoán đổi: 4 3\n"
     ]
    }
   ],
   "source": [
    "#Bài 3: Ứng dụng bitwise\n",
    "\n",
    "#1. Nhập vào một số, in ra dạng nhị phân (dùng bin()).\n",
    "n = int(input(\"Nhập số nguyên: \"))\n",
    "print(\"Dạng nhị phân:\", bin(n))\n",
    "\n",
    "#2. Dùng bitwise kiểm tra bit cuối của số (chẵn/lẻ).\n",
    "n = int(input(\"Nhập số nguyên: \"))\n",
    "print(\"Số chẵn?\", (n & 1) == 0)\n",
    "\n",
    "#3. Hoán đổi 2 biến bằng XOR.\n",
    "a = int(input(\"Nhập a: \"))\n",
    "b = int(input(\"Nhập b: \"))\n",
    "print(\"Trước hoán đổi:\", a, b)\n",
    "\n",
    "a = a ^ b\n",
    "b = a ^ b\n",
    "a = a ^ b\n",
    "\n",
    "print(\"Sau hoán đổi:\", a, b)\n"
   ]
  },
  {
   "cell_type": "code",
   "execution_count": 19,
   "id": "c3a62068",
   "metadata": {},
   "outputs": [
    {
     "name": "stdout",
     "output_type": "stream",
     "text": [
      "Diện tích HCN: 30.0\n",
      "Chu vi: 18.84955592153876\n",
      "Diện tích: 28.274333882308138\n",
      "Điểm trung bình: 9.0\n",
      "Đạt yêu cầu? True\n"
     ]
    }
   ],
   "source": [
    "#Bài 4: Kết hợp nhiều phép toán\n",
    "\n",
    "#1. Nhập chiều dài, rộng. Tính diện tích HCN.\n",
    "dai = float(input(\"Nhập chiều dài: \"))\n",
    "rong = float(input(\"Nhập chiều rộng: \"))\n",
    "print(\"Diện tích HCN:\", dai * rong)\n",
    "\n",
    "#2. Nhập bán kính, tính chu vi và diện tích hình tròn.\n",
    "import math\n",
    "r = float(input(\"Nhập bán kính r: \"))\n",
    "chu_vi = 2 * math.pi * r\n",
    "dien_tich = math.pi * r**2\n",
    "print(\"Chu vi:\", chu_vi)\n",
    "print(\"Diện tích:\", dien_tich)\n",
    "\n",
    "#3. Nhập điểm Toán, Lý, Hóa. Tính trung bình và kiểm tra ≥ 5.\n",
    "toan = float(input(\"Điểm Toán: \"))\n",
    "ly = float(input(\"Điểm Lý: \"))\n",
    "hoa = float(input(\"Điểm Hóa: \"))\n",
    "\n",
    "tb = (toan + ly + hoa) / 3\n",
    "print(\"Điểm trung bình:\", round(tb, 2))\n",
    "print(\"Đạt yêu cầu?\", tb >= 5)\n",
    "\n"
   ]
  },
  {
   "cell_type": "code",
   "execution_count": 20,
   "id": "9a0b5ea8",
   "metadata": {},
   "outputs": [
    {
     "name": "stdout",
     "output_type": "stream",
     "text": [
      "23\n",
      "11.0\n"
     ]
    }
   ],
   "source": [
    "#Bài 5: Vận dụng thứ tự ưu tiên\n",
    "\n",
    "# 1. Với a=5, b=2, c=3, tính a + b * c ** 2\n",
    "a, b, c = 5, 2, 3\n",
    "print(a + b * c ** 2)\n",
    "\n",
    "# 2. Với x=7, y=4, tính (x+y) * (x-y) / (x % y)\n",
    "x, y = 7, 4\n",
    "print((x + y) * (x - y) / (x % y))\n"
   ]
  },
  {
   "cell_type": "code",
   "execution_count": 21,
   "id": "27ad84f8",
   "metadata": {},
   "outputs": [
    {
     "name": "stdout",
     "output_type": "stream",
     "text": [
      "36\n",
      "Số lớn nhất là: 4\n",
      "Chuỗi rỗng? False\n",
      "Xin chào, yen!\n",
      "Chia hết cho 2 và 3? False\n",
      "239\n",
      "Tổng: 10\n",
      "Hiệu: -2\n",
      "a > b ? False\n",
      "a < b ? True\n",
      "a == b ? False\n"
     ]
    }
   ],
   "source": [
    "#Bài 6: Tổng hợp nhỏ\n",
    "# 1. Nhập số nguyên n, tính n**2 + 2n + 1\n",
    "n = int(input(\"Nhập n: \"))\n",
    "print(n**2 + 2*n + 1)\n",
    "\n",
    "# 2. Nhập 2 số, in ra số lớn nhất\n",
    "a = int(input(\"Nhập a: \"))\n",
    "b = int(input(\"Nhập b: \"))\n",
    "print(\"Số lớn nhất là:\", a if a > b else b)\n",
    "\n",
    "# 3. Nhập chuỗi, kiểm tra có rỗng không\n",
    "s = input(\"Nhập chuỗi: \")\n",
    "print(\"Chuỗi rỗng?\", s == \"\")\n",
    "\n",
    "# 4. Nhập tên, in ra “Xin chào, tên!”\n",
    "name = input(\"Nhập tên của bạn: \")\n",
    "print(\"Xin chào,\", name + \"!\")\n",
    "\n",
    "# 5. Nhập số nguyên, kiểm tra chia hết cho cả 2 và 3\n",
    "n = int(input(\"Nhập n: \"))\n",
    "print(\"Chia hết cho 2 và 3?\", n % 2 == 0 and n % 3 == 0)\n",
    "\n",
    "# 6. Nhập số nguyên, in ra n**3 + 5n - 7\n",
    "n = int(input(\"Nhập n: \"))\n",
    "print(n**3 + 5*n - 7)\n",
    "\n",
    "# 7. Nhập 2 số, in ra tổng, hiệu, và so sánh >, <, ==\n",
    "a = int(input(\"Nhập a: \"))\n",
    "b = int(input(\"Nhập b: \"))\n",
    "\n",
    "print(\"Tổng:\", a + b)\n",
    "print(\"Hiệu:\", a - b)\n",
    "print(\"a > b ?\", a > b)\n",
    "print(\"a < b ?\", a < b)\n",
    "print(\"a == b ?\", a == b)\n"
   ]
  },
  {
   "cell_type": "markdown",
   "id": "79ab5f20",
   "metadata": {},
   "source": [
    "# Bài số 2: Input, Comment, Making Decision, Control Flow"
   ]
  },
  {
   "cell_type": "markdown",
   "id": "5fa0c94a",
   "metadata": {},
   "source": [
    "## Phần A. Nhận biết – Ghi nhớ (30 yêu cầu)"
   ]
  },
  {
   "cell_type": "code",
   "execution_count": 22,
   "id": "fa3be0b4",
   "metadata": {},
   "outputs": [
    {
     "name": "stdout",
     "output_type": "stream",
     "text": [
      "Tên của bạn là:  yen\n",
      "Số nguyên vừa nhập là:  6\n",
      "Số thực vừa nhập là:  4.5\n"
     ]
    }
   ],
   "source": [
    "# 1. Nhập tên và in ra\n",
    "name = input(\"Nhập tên của bạn: \")\n",
    "print(\"Tên của bạn là: \", name)\n",
    "\n",
    "# 2. Nhập số nguyên và in ra\n",
    "n = int(input(\"Nhập số nguyên: \"))\n",
    "print(\"Số nguyên vừa nhập là: \", n)\n",
    "\n",
    "# 3. Nhập số thực và in ra\n",
    "x = float(input(\"Nhập số thực: \"))\n",
    "print(\"Số thực vừa nhập là: \", x)"
   ]
  },
  {
   "cell_type": "code",
   "execution_count": 23,
   "id": "f164e264",
   "metadata": {},
   "outputs": [
    {
     "name": "stdout",
     "output_type": "stream",
     "text": [
      "Toi ten la Yen Nguyen\n",
      "Hello World!\n",
      "Dòng này sẽ in ra bình thường\n"
     ]
    }
   ],
   "source": [
    "# 2. Comment trong Python\n",
    "\n",
    "# 1. Comment một dòng\n",
    "# Đây là chương trình in ra tên của tôi \n",
    "print(\"Toi ten la Yen Nguyen\")\n",
    "\n",
    "# 2. Comment nhiều dòng\n",
    "\"\"\"\n",
    "Chương trình này\n",
    "dùng để in ra một câu chào đơn giản.\n",
    "\"\"\"\n",
    "print(\"Hello World!\")\n",
    "\n",
    "# 3. Dùng comment để giải thích sự khác biệt\n",
    "# Comment chỉ để ghi chú, không được thực thi.\n",
    "# Ví dụ dòng dưới bị comment sẽ không chạy:\n",
    "# print(\"Dòng này sẽ không in ra\")\n",
    "print(\"Dòng này sẽ in ra bình thường\")\n"
   ]
  },
  {
   "cell_type": "code",
   "execution_count": 28,
   "id": "ef39cdd2",
   "metadata": {},
   "outputs": [
    {
     "name": "stdout",
     "output_type": "stream",
     "text": [
      "Số dương\n",
      "Số chẵn\n",
      "Số âm\n"
     ]
    }
   ],
   "source": [
    "# Bài 3: Cấu trúc rẽ nhánh đơn\n",
    "# 1. Kiểm tra số nguyên dương\n",
    "n = int(input(\"Nhập số n: \"))\n",
    "if n > 0:\n",
    "    print(\"Số dương\")\n",
    "\n",
    "# 2. In ra “Số chẵn” nếu chia hết cho 2\n",
    "n = int(input(\"Nhập số n: \"))\n",
    "if n % 2 == 0:\n",
    "    print(\"Số chẵn\")\n",
    "\n",
    "# 3. In ra “Số âm” nếu nhỏ hơn 0\n",
    "n = int(input(\"Nhập số n: \"))\n",
    "if n < 0:\n",
    "    print(\"Số âm\")\n"
   ]
  },
  {
   "cell_type": "code",
   "execution_count": 29,
   "id": "3c7a04e7",
   "metadata": {},
   "outputs": [
    {
     "name": "stdout",
     "output_type": "stream",
     "text": [
      "Số lẻ\n",
      "Đủ 18 tuổi\n",
      "Đậu\n"
     ]
    }
   ],
   "source": [
    "# Bài 4: Cấu trúc rẽ nhánh if-else\n",
    "# 1. Nhập số, in ra chẵn hoặc lẻ\n",
    "n = int(input(\"Nhập số n: \"))\n",
    "if n % 2 == 0:\n",
    "    print(\"Số chẵn\")\n",
    "else:\n",
    "    print(\"Số lẻ\")\n",
    "\n",
    "# 2. Nhập tuổi, in ra đủ 18 tuổi hay chưa\n",
    "age = int(input(\"Nhập tuổi: \"))\n",
    "if age >= 18:\n",
    "    print(\"Đủ 18 tuổi\")\n",
    "else:\n",
    "    print(\"Chưa đủ 18 tuổi\")\n",
    "\n",
    "# 3. Nhập điểm, in “Đậu” hoặc “Rớt”\n",
    "score = float(input(\"Nhập điểm: \"))\n",
    "if score >= 5:\n",
    "    print(\"Đậu\")\n",
    "else:\n",
    "    print(\"Rớt\")\n",
    "\n",
    "\n"
   ]
  },
  {
   "cell_type": "code",
   "execution_count": 30,
   "id": "336b3d92",
   "metadata": {},
   "outputs": [
    {
     "name": "stdout",
     "output_type": "stream",
     "text": [
      "Giỏi\n",
      "Số âm\n",
      "Mùa Xuân\n"
     ]
    }
   ],
   "source": [
    "# Bài 5: Rẽ nhánh nhiều điều kiện\n",
    "# 1. Phân loại điểm\n",
    "score = float(input(\"Nhập điểm: \"))\n",
    "if score >= 8:\n",
    "    print(\"Giỏi\")\n",
    "elif score >= 6.5:\n",
    "    print(\"Khá\")\n",
    "elif score >= 5:\n",
    "    print(\"Trung bình\")\n",
    "else:\n",
    "    print(\"Yếu\")\n",
    "\n",
    "\n",
    "# 2. Phân loại số: âm, dương, hay 0\n",
    "n = int(input(\"Nhập số: \"))\n",
    "if n > 0:\n",
    "    print(\"Số dương\")\n",
    "elif n < 0:\n",
    "    print(\"Số âm\")\n",
    "else:\n",
    "    print(\"Bằng 0\")\n",
    "\n",
    "\n",
    "# 3. Nhập tháng, in ra mùa\n",
    "thang = int(input(\"Nhập tháng (1–12): \"))\n",
    "if thang in [1, 2, 3]:\n",
    "    print(\"Mùa Xuân\")\n",
    "elif thang in [4, 5, 6]:\n",
    "    print(\"Mùa Hạ\")\n",
    "elif thang in [7, 8, 9]:\n",
    "    print(\"Mùa Thu\")\n",
    "elif thang in [10, 11, 12]:\n",
    "    print(\"Mùa Đông\")\n",
    "else:\n",
    "    print(\"Tháng không hợp lệ!\")\n"
   ]
  },
  {
   "cell_type": "code",
   "execution_count": 31,
   "id": "5a0f9b63",
   "metadata": {},
   "outputs": [
    {
     "name": "stdout",
     "output_type": "stream",
     "text": [
      "1\n",
      "2\n",
      "3\n",
      "4\n",
      "5\n",
      "6\n",
      "7\n",
      "8\n",
      "9\n",
      "10\n",
      "1^2 = 1\n",
      "2^2 = 4\n",
      "3^2 = 9\n",
      "4^2 = 16\n",
      "5^2 = 25\n",
      "2\n",
      "4\n",
      "6\n",
      "8\n",
      "10\n",
      "12\n",
      "14\n",
      "16\n",
      "18\n",
      "20\n"
     ]
    }
   ],
   "source": [
    "# Bài 6: Vòng lặp for\n",
    "# 1. In ra các số từ 1 đến 10\n",
    "for i in range(1, 11):\n",
    "    print(i)\n",
    "\n",
    "# 2. In ra bình phương các số từ 1 đến 5\n",
    "for i in range(1, 6):\n",
    "    print(f\"{i}^2 = {i**2}\")\n",
    "\n",
    "# 3. In ra các số chẵn từ 2 đến 20\n",
    "for i in range(2, 21, 2):\n",
    "    print(i)\n"
   ]
  },
  {
   "cell_type": "code",
   "execution_count": 32,
   "id": "e27024ef",
   "metadata": {},
   "outputs": [
    {
     "name": "stdout",
     "output_type": "stream",
     "text": [
      "1\n",
      "2\n",
      "3\n",
      "4\n",
      "5\n",
      "Tổng = 55\n",
      "10\n",
      "9\n",
      "8\n",
      "7\n",
      "6\n",
      "5\n",
      "4\n",
      "3\n",
      "2\n",
      "1\n"
     ]
    }
   ],
   "source": [
    "# Bài 7: Vòng lặp while\n",
    "# 1. In các số từ 1 đến 5\n",
    "i = 1\n",
    "while i <= 5:\n",
    "    print(i)\n",
    "    i += 1\n",
    "\n",
    "# 2. Tổng các số từ 1 đến 10\n",
    "i = 1\n",
    "tong = 0\n",
    "while i <= 10:\n",
    "    tong += i\n",
    "    i += 1\n",
    "print(\"Tổng =\", tong)\n",
    "\n",
    "# 3. Dãy số giảm từ 10 về 1\n",
    "i = 10\n",
    "while i >= 1:\n",
    "    print(i)\n",
    "    i -= 1\n"
   ]
  },
  {
   "cell_type": "markdown",
   "id": "2707b6a8",
   "metadata": {},
   "source": [
    "### Bài 8: Lồng vòng lặp"
   ]
  },
  {
   "cell_type": "code",
   "execution_count": 33,
   "id": "33a6eeb3",
   "metadata": {},
   "outputs": [
    {
     "name": "stdout",
     "output_type": "stream",
     "text": [
      "2 x 1 = 2\n",
      "2 x 2 = 4\n",
      "2 x 3 = 6\n",
      "2 x 4 = 8\n",
      "2 x 5 = 10\n",
      "2 x 6 = 12\n",
      "2 x 7 = 14\n",
      "2 x 8 = 16\n",
      "2 x 9 = 18\n",
      "2 x 10 = 20\n"
     ]
    }
   ],
   "source": [
    "# 1. Bảng cửu chương 2\n",
    "for i in range(1, 11):\n",
    "    print(f\"2 x {i} = {2 * i}\")\n"
   ]
  },
  {
   "cell_type": "code",
   "execution_count": 34,
   "id": "346700de",
   "metadata": {},
   "outputs": [
    {
     "name": "stdout",
     "output_type": "stream",
     "text": [
      "5 x 1 = 5\n",
      "5 x 2 = 10\n",
      "5 x 3 = 15\n",
      "5 x 4 = 20\n",
      "5 x 5 = 25\n",
      "5 x 6 = 30\n",
      "5 x 7 = 35\n",
      "5 x 8 = 40\n",
      "5 x 9 = 45\n",
      "5 x 10 = 50\n"
     ]
    }
   ],
   "source": [
    "# 2. Bảng cửu chương 5\n",
    "for i in range(1, 11):\n",
    "    print(f\"5 x {i} = {5 * i}\")\n"
   ]
  },
  {
   "cell_type": "code",
   "execution_count": 35,
   "id": "8fc6d1cb",
   "metadata": {},
   "outputs": [
    {
     "name": "stdout",
     "output_type": "stream",
     "text": [
      "*\n",
      "**\n",
      "***\n",
      "****\n",
      "*****\n"
     ]
    }
   ],
   "source": [
    "# 3. Tam giác vuông bằng dấu *\n",
    "for i in range(1, 6):\n",
    "    print(\"*\" * i)\n"
   ]
  },
  {
   "cell_type": "markdown",
   "id": "76590770",
   "metadata": {},
   "source": [
    "### Bài 9: Kết hợp input và vòng lặp"
   ]
  },
  {
   "cell_type": "code",
   "execution_count": 36,
   "id": "90de3fda",
   "metadata": {},
   "outputs": [
    {
     "name": "stdout",
     "output_type": "stream",
     "text": [
      "1\n",
      "2\n",
      "3\n",
      "4\n",
      "5\n",
      "6\n",
      "7\n"
     ]
    }
   ],
   "source": [
    "# 1. Nhập n, in ra các số từ 1 đến n\n",
    "n = int(input(\"Nhập n: \"))\n",
    "for i in range(1, n + 1):\n",
    "    print(i)\n"
   ]
  },
  {
   "cell_type": "code",
   "execution_count": 37,
   "id": "bb5189ee",
   "metadata": {},
   "outputs": [
    {
     "name": "stdout",
     "output_type": "stream",
     "text": [
      "Tổng = 21\n"
     ]
    }
   ],
   "source": [
    "# 2. Nhập n, in ra tổng từ 1 đến n\n",
    "n = int(input(\"Nhập n: \"))\n",
    "tong = 0\n",
    "for i in range(1, n + 1):\n",
    "    tong += i\n",
    "print(\"Tổng =\", tong)\n"
   ]
  },
  {
   "cell_type": "code",
   "execution_count": 38,
   "id": "84373ec0",
   "metadata": {},
   "outputs": [
    {
     "name": "stdout",
     "output_type": "stream",
     "text": [
      "3! = 6\n"
     ]
    }
   ],
   "source": [
    "# 3. Nhập n, tính giai thừa n!\n",
    "n = int(input(\"Nhập n: \"))\n",
    "gt = 1\n",
    "for i in range(1, n + 1):\n",
    "    gt *= i\n",
    "print(f\"{n}! = {gt}\")\n"
   ]
  },
  {
   "cell_type": "markdown",
   "id": "e1a48d9e",
   "metadata": {},
   "source": [
    "### Bài 10: Ôn tập nhỏ"
   ]
  },
  {
   "cell_type": "code",
   "execution_count": 39,
   "id": "cac53e88",
   "metadata": {},
   "outputs": [
    {
     "name": "stdout",
     "output_type": "stream",
     "text": [
      "Bình phương = 49\n"
     ]
    }
   ],
   "source": [
    "# 1. Nhập số nguyên, in ra bình phương\n",
    "n = int(input(\"Nhập n: \"))\n",
    "print(\"Bình phương =\", n**2)\n"
   ]
  },
  {
   "cell_type": "code",
   "execution_count": 40,
   "id": "1b9b3148",
   "metadata": {},
   "outputs": [
    {
     "name": "stdout",
     "output_type": "stream",
     "text": [
      "Độ dài chuỗi: 3\n"
     ]
    }
   ],
   "source": [
    "# 2. Nhập chuỗi, in ra độ dài\n",
    "s = input(\"Nhập chuỗi: \")\n",
    "print(\"Độ dài chuỗi:\", len(s))\n"
   ]
  },
  {
   "cell_type": "code",
   "execution_count": 41,
   "id": "3a784709",
   "metadata": {},
   "outputs": [
    {
     "name": "stdout",
     "output_type": "stream",
     "text": [
      "Xin chào, pi!\n"
     ]
    }
   ],
   "source": [
    "# 3. Nhập tên, in ra “Xin chào, tên!”\n",
    "name = input(\"Nhập tên của bạn: \")\n",
    "print(\"Xin chào,\", name + \"!\")\n"
   ]
  },
  {
   "cell_type": "markdown",
   "id": "28235d8b",
   "metadata": {},
   "source": [
    "## Phần B. Vận dụng (20 yêu cầu)"
   ]
  },
  {
   "cell_type": "markdown",
   "id": "541df277",
   "metadata": {},
   "source": [
    "### Bài 1: Ứng dụng if-else"
   ]
  },
  {
   "cell_type": "code",
   "execution_count": 42,
   "id": "8ee27e01",
   "metadata": {},
   "outputs": [
    {
     "name": "stdout",
     "output_type": "stream",
     "text": [
      "Số lớn nhất là: 654.0\n"
     ]
    }
   ],
   "source": [
    "# 1. Nhập 3 số, in ra số lớn nhất\n",
    "a = float(input(\"Nhập a: \"))\n",
    "b = float(input(\"Nhập b: \"))\n",
    "c = float(input(\"Nhập c: \"))\n",
    "\n",
    "max_num = a\n",
    "if b > max_num:\n",
    "    max_num = b\n",
    "if c > max_num:\n",
    "    max_num = c\n",
    "\n",
    "print(\"Số lớn nhất là:\", max_num)\n"
   ]
  },
  {
   "cell_type": "code",
   "execution_count": 43,
   "id": "5e7af38c",
   "metadata": {},
   "outputs": [
    {
     "name": "stdout",
     "output_type": "stream",
     "text": [
      "2024 là năm nhuận\n"
     ]
    }
   ],
   "source": [
    "# 2. Nhập một năm, kiểm tra năm nhuận\n",
    "year = int(input(\"Nhập năm: \"))\n",
    "\n",
    "if (year % 400 == 0) or (year % 4 == 0 and year % 100 != 0):\n",
    "    print(year, \"là năm nhuận\")\n",
    "else:\n",
    "    print(year, \"không phải năm nhuận\")\n"
   ]
  },
  {
   "cell_type": "code",
   "execution_count": 46,
   "id": "5db718b9",
   "metadata": {},
   "outputs": [
    {
     "name": "stdout",
     "output_type": "stream",
     "text": [
      "Nguyên âm\n"
     ]
    }
   ],
   "source": [
    "# 3. Nhập ký tự, kiểm tra nguyên âm\n",
    "ch = input(\"Nhập một ký tự: \").lower()\n",
    "if ch in ['a', 'e', 'i', 'o', 'u']:\n",
    "    print(\"Nguyên âm\")\n",
    "else: \n",
    "    print(\"Phụ âm hoặc ký tự khác\")"
   ]
  },
  {
   "cell_type": "markdown",
   "id": "4c3982af",
   "metadata": {},
   "source": [
    "### Bài 2: Ứng dụng vòng lặp for"
   ]
  },
  {
   "cell_type": "code",
   "execution_count": 50,
   "id": "79710641",
   "metadata": {},
   "outputs": [
    {
     "name": "stdout",
     "output_type": "stream",
     "text": [
      "0 1 1 2 3 5 8 13 21 34 "
     ]
    }
   ],
   "source": [
    "# 1. Nhập n, in dãy Fibonacci có n phần tử\n",
    "\n",
    "n = int(input(\"Nhập n: \"))\n",
    "a, b = 0, 1\n",
    "for i in range(n):\n",
    "    print(a, end=\" \")\n",
    "    a, b = b, a+ b"
   ]
  },
  {
   "cell_type": "code",
   "execution_count": 53,
   "id": "0fa1911e",
   "metadata": {},
   "outputs": [
    {
     "name": "stdout",
     "output_type": "stream",
     "text": [
      "2 3 5 7 11 13 17 19 "
     ]
    }
   ],
   "source": [
    "# 2. Nhập n, in các số nguyên tố nhỏ hơn n\n",
    "n = int(input(\"Nhập n: \"))\n",
    "for i in range(2, n):\n",
    "    is_prime = True\n",
    "    for j in range(2, int(i**0.5) + 1):\n",
    "        if i % j == 0:\n",
    "            is_prime = False\n",
    "            break\n",
    "    if is_prime:\n",
    "        print(i, end=\" \")\n"
   ]
  },
  {
   "cell_type": "code",
   "execution_count": 54,
   "id": "27877bbc",
   "metadata": {},
   "outputs": [
    {
     "name": "stdout",
     "output_type": "stream",
     "text": [
      "\n",
      " Bảng cửu chương 1\n",
      "1 x 1 = 1\n",
      "1 x 2 = 2\n",
      "1 x 3 = 3\n",
      "1 x 4 = 4\n",
      "1 x 5 = 5\n",
      "1 x 6 = 6\n",
      "1 x 7 = 7\n",
      "1 x 8 = 8\n",
      "1 x 9 = 9\n",
      "1 x 10 = 10\n",
      "\n",
      " Bảng cửu chương 2\n",
      "2 x 1 = 2\n",
      "2 x 2 = 4\n",
      "2 x 3 = 6\n",
      "2 x 4 = 8\n",
      "2 x 5 = 10\n",
      "2 x 6 = 12\n",
      "2 x 7 = 14\n",
      "2 x 8 = 16\n",
      "2 x 9 = 18\n",
      "2 x 10 = 20\n",
      "\n",
      " Bảng cửu chương 3\n",
      "3 x 1 = 3\n",
      "3 x 2 = 6\n",
      "3 x 3 = 9\n",
      "3 x 4 = 12\n",
      "3 x 5 = 15\n",
      "3 x 6 = 18\n",
      "3 x 7 = 21\n",
      "3 x 8 = 24\n",
      "3 x 9 = 27\n",
      "3 x 10 = 30\n",
      "\n",
      " Bảng cửu chương 4\n",
      "4 x 1 = 4\n",
      "4 x 2 = 8\n",
      "4 x 3 = 12\n",
      "4 x 4 = 16\n",
      "4 x 5 = 20\n",
      "4 x 6 = 24\n",
      "4 x 7 = 28\n",
      "4 x 8 = 32\n",
      "4 x 9 = 36\n",
      "4 x 10 = 40\n"
     ]
    }
   ],
   "source": [
    "# 3. Nhập n, in bảng cửu chương từ 1 đến n\n",
    "\n",
    "n = int(input(\"Nhập n: \"))\n",
    "for i in range(1, n+1):\n",
    "    print(f\"\\n Bảng cửu chương {i}\")\n",
    "    for j in range(1,11):\n",
    "        print(f\"{i} x {j} = {i*j}\")"
   ]
  },
  {
   "cell_type": "markdown",
   "id": "a4a3ad74",
   "metadata": {},
   "source": [
    "### Bài 3: Ứng dụng vòng lặp while"
   ]
  },
  {
   "cell_type": "code",
   "execution_count": 58,
   "id": "38ec1640",
   "metadata": {},
   "outputs": [
    {
     "name": "stdout",
     "output_type": "stream",
     "text": [
      "Giảm xuống\n",
      "Chính xác 2\n"
     ]
    }
   ],
   "source": [
    "# 1. Trò chơi đoán số\n",
    "import random\n",
    "secret = random.randint(1, 10)\n",
    "guess = 0\n",
    "\n",
    "while guess != secret:\n",
    "    guess = int(input(\"Đoán số (1-10): \"))\n",
    "    if guess < secret:\n",
    "        print(\"Tăng lên\")\n",
    "    elif guess > secret:\n",
    "        print(\"Giảm xuống\")\n",
    "    else:\n",
    "        print(\"Chính xác\", secret)\n"
   ]
  },
  {
   "cell_type": "code",
   "execution_count": 60,
   "id": "28e5a50e",
   "metadata": {},
   "outputs": [
    {
     "name": "stdout",
     "output_type": "stream",
     "text": [
      "Tổng các chữ số của 45 là: 9\n"
     ]
    }
   ],
   "source": [
    "# 2. Nhập n, tính tổng các chữ số\n",
    "n = int(input(\"Nhập n: \"))\n",
    "tong = 0\n",
    "temp = n\n",
    "while temp > 0:\n",
    "    tong += temp % 10\n",
    "    temp //= 10\n",
    "print(\"Tổng các chữ số của\", n, \"là:\", tong)\n"
   ]
  },
  {
   "cell_type": "code",
   "execution_count": 62,
   "id": "d4644984",
   "metadata": {},
   "outputs": [
    {
     "name": "stdout",
     "output_type": "stream",
     "text": [
      "Là số nguyên tố \n"
     ]
    }
   ],
   "source": [
    "# 3. Kiểm tra số nguyên tố bằng while\n",
    "\n",
    "n = int(input(\"Nhập n: \"))\n",
    "if n<2:\n",
    "    print(\"Không là số nguyên tố\")\n",
    "else:\n",
    "    i = 2\n",
    "    is_prime = True\n",
    "    while i <= int (n**0.5):\n",
    "        if n % i == 0:\n",
    "            is_prime = False\n",
    "            break\n",
    "        i+= 1\n",
    "    print(\"Là số nguyên tố \" if is_prime else \"Không phải số nguyên tố\")"
   ]
  },
  {
   "cell_type": "markdown",
   "id": "4789f164",
   "metadata": {},
   "source": [
    "### Bài 4: Kết hợp điều kiện và vòng lặp"
   ]
  },
  {
   "cell_type": "code",
   "execution_count": 63,
   "id": "cd267f9c",
   "metadata": {},
   "outputs": [
    {
     "name": "stdout",
     "output_type": "stream",
     "text": [
      "3 6 "
     ]
    }
   ],
   "source": [
    "# 1. In ra các số chia hết cho 3 nhưng không chia hết cho 5 (1 → n)\n",
    "n = int(input(\"Nhập n: \"))\n",
    "for i in range(1, n + 1):\n",
    "    if i % 3 == 0 and i % 5 != 0:\n",
    "        print(i, end=\" \")\n"
   ]
  },
  {
   "cell_type": "code",
   "execution_count": 64,
   "id": "28060bd2",
   "metadata": {},
   "outputs": [
    {
     "name": "stdout",
     "output_type": "stream",
     "text": [
      "1 \n",
      "1 1 \n",
      "1 2 1 \n",
      "1 3 3 1 \n",
      "1 4 6 4 1 \n",
      "1 5 10 10 5 1 \n",
      "1 6 15 20 15 6 1 \n"
     ]
    }
   ],
   "source": [
    "# 2. In tam giác Pascal có n dòng\n",
    "n = int(input(\"Nhập số dòng: \"))\n",
    "for i in range(n):\n",
    "    num = 1\n",
    "    for j in range(i + 1):\n",
    "        print(num, end=\" \")\n",
    "        num = num * (i - j) // (j + 1)\n",
    "    print()\n"
   ]
  },
  {
   "cell_type": "code",
   "execution_count": 66,
   "id": "c4027eda",
   "metadata": {},
   "outputs": [
    {
     "name": "stdout",
     "output_type": "stream",
     "text": [
      "In hoa: 2 | In thường: 5\n"
     ]
    }
   ],
   "source": [
    "# 3. Đếm ký tự in hoa và in thường trong chuỗi\n",
    "s = input(\"Nhập chuỗi: \")\n",
    "hoa = thuong = 0\n",
    "for ch in s:\n",
    "    if ch.isupper():\n",
    "        hoa += 1\n",
    "    elif ch.islower():\n",
    "        thuong += 1\n",
    "print(\"In hoa:\", hoa, \"| In thường:\", thuong)\n"
   ]
  },
  {
   "cell_type": "markdown",
   "id": "b2c2683c",
   "metadata": {},
   "source": [
    "### Bài 5: Tổng hợp"
   ]
  },
  {
   "cell_type": "code",
   "execution_count": 67,
   "id": "46fa6730",
   "metadata": {},
   "outputs": [
    {
     "name": "stdout",
     "output_type": "stream",
     "text": [
      "Các ước của 20:\n",
      "1 2 4 5 10 20 "
     ]
    }
   ],
   "source": [
    "# 1. In tất cả các ước của n\n",
    "n = int(input(\"Nhập n: \"))\n",
    "print(f\"Các ước của {n}:\")\n",
    "for i in range(1, n + 1):\n",
    "    if n % i == 0:\n",
    "        print(i, end=\" \")\n"
   ]
  },
  {
   "cell_type": "code",
   "execution_count": 68,
   "id": "5891fa43",
   "metadata": {},
   "outputs": [
    {
     "name": "stdout",
     "output_type": "stream",
     "text": [
      "  *\n",
      " ***\n",
      "*****\n"
     ]
    }
   ],
   "source": [
    "# 2. Tam giác sao cân có n dòng\n",
    "n = int(input(\"Nhập số dòng: \"))\n",
    "for i in range(1, n + 1):\n",
    "    print(\" \" * (n - i) + \"*\" * (2 * i - 1))\n"
   ]
  },
  {
   "cell_type": "code",
   "execution_count": 69,
   "id": "1324afad",
   "metadata": {},
   "outputs": [
    {
     "name": "stdout",
     "output_type": "stream",
     "text": [
      "Đăng nhập thành công!\n"
     ]
    }
   ],
   "source": [
    "# 3. Quản lý đăng nhập (3 lần thử)\n",
    "user = \"pi\"\n",
    "password = \"140205\"\n",
    "\n",
    "for attempt in range(3):\n",
    "    u = input(\"Nhập username: \")\n",
    "    p = input(\"Nhập password: \")\n",
    "    if u == user and p == password:\n",
    "        print(\"Đăng nhập thành công!\")\n",
    "        break\n",
    "    else:\n",
    "        print(\"Sai thông tin! Còn\", 2 - attempt, \"lần thử.\")\n",
    "else:\n",
    "    print(\"Tài khoản bị khóa do nhập sai quá 3 lần.\")\n"
   ]
  },
  {
   "cell_type": "code",
   "execution_count": 70,
   "id": "5666f6ee",
   "metadata": {},
   "outputs": [
    {
     "name": "stdout",
     "output_type": "stream",
     "text": [
      "Số lớn nhất: 456.0\n",
      "Số nhỏ nhất: 3.0\n"
     ]
    }
   ],
   "source": [
    "# 4. Nhập danh sách số, in ra max và min\n",
    "nums = input(\"Nhập các số (cách nhau bởi dấu cách): \")\n",
    "lst = list(map(float, nums.split()))\n",
    "print(\"Số lớn nhất:\", max(lst))\n",
    "print(\"Số nhỏ nhất:\", min(lst))\n"
   ]
  },
  {
   "cell_type": "code",
   "execution_count": 71,
   "id": "eef614dd",
   "metadata": {},
   "outputs": [
    {
     "name": "stdout",
     "output_type": "stream",
     "text": [
      "Tổng các số lẻ < 100 là: 2500\n"
     ]
    }
   ],
   "source": [
    "# 5. Tổng tất cả số lẻ nhỏ hơn 100\n",
    "tong = 0\n",
    "for i in range(1, 100, 2):\n",
    "    tong += i\n",
    "print(\"Tổng các số lẻ < 100 là:\", tong)\n"
   ]
  },
  {
   "cell_type": "markdown",
   "id": "99be6f32",
   "metadata": {},
   "source": [
    "# Bài số 3: Nested if, Match case, for-else loops, Break, continue, pass, statement, Nested Loops"
   ]
  },
  {
   "cell_type": "markdown",
   "id": "38dfae32",
   "metadata": {},
   "source": [
    "## Phần A. Nhận biết – Ghi nhớ (30 yêu cầu)"
   ]
  },
  {
   "cell_type": "markdown",
   "id": "0f6b7ce9",
   "metadata": {},
   "source": [
    "### Bài 1: Nested if cơ bản"
   ]
  },
  {
   "cell_type": "code",
   "execution_count": 72,
   "id": "18a380aa",
   "metadata": {},
   "outputs": [
    {
     "name": "stdout",
     "output_type": "stream",
     "text": [
      "Số dương và chẵn\n"
     ]
    }
   ],
   "source": [
    "# 1. Nhập số, nếu dương thì kiểm tra thêm chẵn hay không\n",
    "n = int(input(\"Nhập số: \"))\n",
    "if n > 0:\n",
    "    if n % 2 == 0:\n",
    "        print(\"Số dương và chẵn\")\n",
    "    else:\n",
    "        print(\"Số dương và lẻ\")\n"
   ]
  },
  {
   "cell_type": "code",
   "execution_count": 82,
   "id": "36b3eb04",
   "metadata": {},
   "outputs": [
    {
     "name": "stdout",
     "output_type": "stream",
     "text": [
      "Đạt\n"
     ]
    }
   ],
   "source": [
    "# 2. Nhập điểm, nếu ≥5 thì kiểm tra thêm ≥8 không\n",
    "score = float(input(\"Nhập điểm: \"))\n",
    "if score >= 5:\n",
    "    if score >= 8:\n",
    "        print(\"Giỏi\")\n",
    "    else:\n",
    "        print(\"Đạt\")\n",
    "else:\n",
    "    print(\"Rớt\")\n"
   ]
  },
  {
   "cell_type": "code",
   "execution_count": 84,
   "id": "e0c1b5ef",
   "metadata": {},
   "outputs": [
    {
     "name": "stdout",
     "output_type": "stream",
     "text": [
      "Người cao tuổi\n"
     ]
    }
   ],
   "source": [
    "# 3. Nhập tuổi, nếu ≥18 thì kiểm tra ≥60 không\n",
    "age = int(input(\"Nhập tuổi: \"))\n",
    "if age >= 18:\n",
    "    if age >= 60:\n",
    "        print(\"Người cao tuổi\")\n",
    "    else:\n",
    "        print(\"Người trưởng thành\")\n"
   ]
  },
  {
   "cell_type": "markdown",
   "id": "a36a0439",
   "metadata": {},
   "source": [
    "### Bài 2: Nested if mở rộng"
   ]
  },
  {
   "cell_type": "code",
   "execution_count": 86,
   "id": "0a64d59a",
   "metadata": {},
   "outputs": [
    {
     "name": "stdout",
     "output_type": "stream",
     "text": [
      "Chẵn và chia hết cho 4\n"
     ]
    }
   ],
   "source": [
    "# 1. Nhập số, nếu chẵn thì kiểm tra chia hết cho 4\n",
    "n = int(input(\"Nhập số nguyên: \"))\n",
    "if n % 2 == 0:\n",
    "    if n % 4 == 0:\n",
    "        print(\"Chẵn và chia hết cho 4\")\n",
    "    else:\n",
    "        print(\"Chẵn nhưng không chia hết cho 4\")\n"
   ]
  },
  {
   "cell_type": "code",
   "execution_count": 90,
   "id": "7be318e2",
   "metadata": {},
   "outputs": [
    {
     "name": "stdout",
     "output_type": "stream",
     "text": [
      "Âm nhưng không quá nhỏ\n"
     ]
    }
   ],
   "source": [
    "# 2. Nhập số, nếu âm thì kiểm tra nhỏ hơn -100 không\n",
    "x = float(input(\"Nhập số: \"))\n",
    "if x < 0:\n",
    "    if x < -100:\n",
    "        print(\"Rất nhỏ (< -100)\")\n",
    "    else:\n",
    "        print(\"Âm nhưng không quá nhỏ\")\n"
   ]
  },
  {
   "cell_type": "code",
   "execution_count": 91,
   "id": "07f6c422",
   "metadata": {},
   "outputs": [
    {
     "name": "stdout",
     "output_type": "stream",
     "text": [
      "Tam giác đều\n"
     ]
    }
   ],
   "source": [
    "# 3. Nhập 3 cạnh, nếu hợp lệ thì kiểm tra tam giác đều\n",
    "a, b, c = map(float, input(\"Nhập 3 cạnh cách nhau bởi dấu cách: \").split())\n",
    "if a + b > c and a + c > b and b + c > a:\n",
    "    if a == b == c:\n",
    "        print(\"Tam giác đều\")\n",
    "    else:\n",
    "        print(\"Tam giác hợp lệ nhưng không đều\")\n",
    "else:\n",
    "    print(\"Không tạo thành tam giác\")\n"
   ]
  },
  {
   "cell_type": "markdown",
   "id": "d88899d5",
   "metadata": {},
   "source": [
    "### Bài 3: Match case cơ bản"
   ]
  },
  {
   "cell_type": "code",
   "execution_count": 93,
   "id": "ec483f13",
   "metadata": {},
   "outputs": [
    {
     "name": "stdout",
     "output_type": "stream",
     "text": [
      "Thứ Bảy\n"
     ]
    }
   ],
   "source": [
    "# 1. Nhập số (1–7) -> thứ trong tuần\n",
    "n = int(input(\"Nhập số (1–7): \"))\n",
    "match n:\n",
    "    case 1: print(\"Thứ Hai\")\n",
    "    case 2: print(\"Thứ Ba\")\n",
    "    case 3: print(\"Thứ Tư\")\n",
    "    case 4: print(\"Thứ Năm\")\n",
    "    case 5: print(\"Thứ Sáu\")\n",
    "    case 6: print(\"Thứ Bảy\")\n",
    "    case 7: print(\"Chủ Nhật\")\n",
    "    case _: print(\"Không hợp lệ\")\n"
   ]
  },
  {
   "cell_type": "code",
   "execution_count": 95,
   "id": "5d2e7e69",
   "metadata": {},
   "outputs": [
    {
     "name": "stdout",
     "output_type": "stream",
     "text": [
      "Tháng Bảy\n"
     ]
    }
   ],
   "source": [
    "# 2. Nhập số (1–12) -> tháng\n",
    "thang = int(input(\"Nhập tháng (1–12): \"))\n",
    "match thang:\n",
    "    case 1: print(\"Tháng Một\")\n",
    "    case 2: print(\"Tháng Hai\")\n",
    "    case 3: print(\"Tháng Ba\")\n",
    "    case 4: print(\"Tháng Tư\")\n",
    "    case 5: print(\"Tháng Năm\")\n",
    "    case 6: print(\"Tháng Sáu\")\n",
    "    case 7: print(\"Tháng Bảy\")\n",
    "    case 8: print(\"Tháng Tám\")\n",
    "    case 9: print(\"Tháng Chín\")\n",
    "    case 10: print(\"Tháng Mười\")\n",
    "    case 11: print(\"Tháng Mười Một\")\n",
    "    case 12: print(\"Tháng Mười Hai\")\n",
    "    case _: print(\"Tháng không hợp lệ\")\n"
   ]
  },
  {
   "cell_type": "code",
   "execution_count": 97,
   "id": "81cd5326",
   "metadata": {},
   "outputs": [
    {
     "name": "stdout",
     "output_type": "stream",
     "text": [
      "Zero\n"
     ]
    }
   ],
   "source": [
    "# 3. Nhập 0,1,2 -> chữ\n",
    "n = int(input(\"Nhập số (0–2): \"))\n",
    "match n:\n",
    "    case 0: print(\"Zero\")\n",
    "    case 1: print(\"One\")\n",
    "    case 2: print(\"Two\")\n",
    "    case _: print(\"Không hợp lệ\")\n"
   ]
  },
  {
   "cell_type": "markdown",
   "id": "32351f9f",
   "metadata": {},
   "source": [
    "### Bài 4: Match case mở rộng"
   ]
  },
  {
   "cell_type": "code",
   "execution_count": 98,
   "id": "2815f368",
   "metadata": {},
   "outputs": [
    {
     "name": "stdout",
     "output_type": "stream",
     "text": [
      "Phép cộng\n"
     ]
    }
   ],
   "source": [
    "# 1. Nhập toán tử (+,-,*,/)\n",
    "op = input(\"Nhập toán tử (+,-,*,/): \")\n",
    "match op:\n",
    "    case '+': print(\"Phép cộng\")\n",
    "    case '-': print(\"Phép trừ\")\n",
    "    case '*': print(\"Phép nhân\")\n",
    "    case '/': print(\"Phép chia\")\n",
    "    case _: print(\"Toán tử không hợp lệ\")\n"
   ]
  },
  {
   "cell_type": "code",
   "execution_count": 99,
   "id": "70656f23",
   "metadata": {},
   "outputs": [
    {
     "name": "stdout",
     "output_type": "stream",
     "text": [
      "Xuất sắc\n"
     ]
    }
   ],
   "source": [
    "# 2. Nhập điểm chữ (A,B,C,D,F)\n",
    "grade = input(\"Nhập điểm chữ (A,B,C,D,F): \").upper()\n",
    "match grade:\n",
    "    case 'A': print(\"Xuất sắc\")\n",
    "    case 'B': print(\"Giỏi\")\n",
    "    case 'C': print(\"Khá\")\n",
    "    case 'D': print(\"Trung bình\")\n",
    "    case 'F': print(\"Yếu\")\n",
    "    case _: print(\"Không hợp lệ\")\n"
   ]
  },
  {
   "cell_type": "code",
   "execution_count": 100,
   "id": "a2e2cfd2",
   "metadata": {},
   "outputs": [
    {
     "name": "stdout",
     "output_type": "stream",
     "text": [
      "Hợp lệ (1–3)\n"
     ]
    }
   ],
   "source": [
    "# 3. Nhập số bất kỳ\n",
    "n = input(\"Nhập số: \")\n",
    "match n:\n",
    "    case \"1\" | \"2\" | \"3\": print(\"Hợp lệ (1–3)\")\n",
    "    case _: print(\"Không hợp lệ\")\n"
   ]
  },
  {
   "cell_type": "markdown",
   "id": "273e613d",
   "metadata": {},
   "source": [
    "### Bài 5: For–else cơ bản"
   ]
  },
  {
   "cell_type": "code",
   "execution_count": 101,
   "id": "ce990426",
   "metadata": {},
   "outputs": [
    {
     "name": "stdout",
     "output_type": "stream",
     "text": [
      "Tìm thấy số chia hết cho 7: 7\n"
     ]
    }
   ],
   "source": [
    "# 1. Tìm số chia hết cho 7 trong [1,20]\n",
    "for i in range(1, 21):\n",
    "    if i % 7 == 0:\n",
    "        print(\"Tìm thấy số chia hết cho 7:\", i)\n",
    "        break\n",
    "else:\n",
    "    print(\"Không tìm thấy\")\n"
   ]
  },
  {
   "cell_type": "code",
   "execution_count": 102,
   "id": "157ac77e",
   "metadata": {},
   "outputs": [
    {
     "name": "stdout",
     "output_type": "stream",
     "text": [
      "Là số nguyên tố\n"
     ]
    }
   ],
   "source": [
    "# 2. Kiểm tra số nguyên tố (for–else)\n",
    "n = int(input(\"Nhập n: \"))\n",
    "for i in range(2, int(n**0.5) + 1):\n",
    "    if n % i == 0:\n",
    "        print(\"Không phải số nguyên tố\")\n",
    "        break\n",
    "else:\n",
    "    print(\"Là số nguyên tố\")\n"
   ]
  },
  {
   "cell_type": "code",
   "execution_count": 103,
   "id": "9aec1f0a",
   "metadata": {},
   "outputs": [
    {
     "name": "stdout",
     "output_type": "stream",
     "text": [
      "Không có số chẵn\n"
     ]
    }
   ],
   "source": [
    "# 3. Tìm số chẵn trong danh sách\n",
    "lst = [1, 3, 5, 7]\n",
    "for num in lst:\n",
    "    if num % 2 == 0:\n",
    "        print(\"Có số chẵn:\", num)\n",
    "        break\n",
    "else:\n",
    "    print(\"Không có số chẵn\")\n"
   ]
  },
  {
   "cell_type": "markdown",
   "id": "4a190ab3",
   "metadata": {},
   "source": [
    "### Bài 6: Break statement"
   ]
  },
  {
   "cell_type": "code",
   "execution_count": 104,
   "id": "5c955e40",
   "metadata": {},
   "outputs": [
    {
     "name": "stdout",
     "output_type": "stream",
     "text": [
      "1\n",
      "2\n",
      "3\n",
      "4\n"
     ]
    }
   ],
   "source": [
    "# 1. In 1→10, dừng khi gặp 5\n",
    "for i in range(1, 11):\n",
    "    if i == 5:\n",
    "        break\n",
    "    print(i)\n"
   ]
  },
  {
   "cell_type": "code",
   "execution_count": 105,
   "id": "d1a69d57",
   "metadata": {},
   "outputs": [
    {
     "name": "stdout",
     "output_type": "stream",
     "text": [
      "3\n",
      "5\n",
      "Gặp số âm: -1\n"
     ]
    }
   ],
   "source": [
    "# 2. Duyệt danh sách, dừng khi gặp số âm\n",
    "nums = [3, 5, -1, 4]\n",
    "for x in nums:\n",
    "    if x < 0:\n",
    "        print(\"Gặp số âm:\", x)\n",
    "        break\n",
    "    print(x)\n"
   ]
  },
  {
   "cell_type": "code",
   "execution_count": 106,
   "id": "adf5cb31",
   "metadata": {},
   "outputs": [
    {
     "name": "stdout",
     "output_type": "stream",
     "text": [
      "Sai mật khẩu, thử lại.\n",
      "Sai mật khẩu, thử lại.\n",
      "Đăng nhập thành công!\n"
     ]
    }
   ],
   "source": [
    "# 3. Nhập mật khẩu, dừng khi đúng\n",
    "while True:\n",
    "    pwd = input(\"Nhập mật khẩu: \")\n",
    "    if pwd == \"12345\":\n",
    "        print(\"Đăng nhập thành công!\")\n",
    "        break\n",
    "    print(\"Sai mật khẩu, thử lại.\")\n"
   ]
  },
  {
   "cell_type": "markdown",
   "id": "b148d867",
   "metadata": {},
   "source": [
    "### Bài 7: Continue statement"
   ]
  },
  {
   "cell_type": "code",
   "execution_count": 107,
   "id": "6b025cb2",
   "metadata": {},
   "outputs": [
    {
     "name": "stdout",
     "output_type": "stream",
     "text": [
      "1\n",
      "2\n",
      "3\n",
      "4\n",
      "6\n",
      "7\n",
      "8\n",
      "9\n",
      "10\n"
     ]
    }
   ],
   "source": [
    "# 1. In 1→10, bỏ qua 5\n",
    "for i in range(1, 11):\n",
    "    if i == 5:\n",
    "        continue\n",
    "    print(i)\n"
   ]
  },
  {
   "cell_type": "code",
   "execution_count": 108,
   "id": "62ccf4b1",
   "metadata": {},
   "outputs": [
    {
     "name": "stdout",
     "output_type": "stream",
     "text": [
      "1\n",
      "3\n",
      "5\n",
      "7\n",
      "9\n",
      "11\n",
      "13\n",
      "15\n",
      "17\n",
      "19\n"
     ]
    }
   ],
   "source": [
    "# 2. In chỉ số lẻ từ 1→20\n",
    "for i in range(1, 21):\n",
    "    if i % 2 == 0:\n",
    "        continue\n",
    "    print(i)\n"
   ]
  },
  {
   "cell_type": "code",
   "execution_count": 109,
   "id": "3d8a27ca",
   "metadata": {},
   "outputs": [
    {
     "name": "stdout",
     "output_type": "stream",
     "text": [
      "HelloPythonWorld"
     ]
    }
   ],
   "source": [
    "# 3. Duyệt chuỗi, bỏ qua khoảng trắng\n",
    "s = \"Hello Python World\"\n",
    "for ch in s:\n",
    "    if ch == \" \":\n",
    "        continue\n",
    "    print(ch, end=\"\")\n"
   ]
  },
  {
   "cell_type": "markdown",
   "id": "45d7a272",
   "metadata": {},
   "source": [
    "### Bài 8: Pass statement"
   ]
  },
  {
   "cell_type": "code",
   "execution_count": 110,
   "id": "075c8d51",
   "metadata": {},
   "outputs": [],
   "source": [
    "# 1. If với pass\n",
    "x = 5\n",
    "if x > 0:\n",
    "    pass  # sẽ xử lý sau\n",
    "else:\n",
    "    print(\"Âm\")\n"
   ]
  },
  {
   "cell_type": "code",
   "execution_count": 111,
   "id": "e4bdf7fc",
   "metadata": {},
   "outputs": [],
   "source": [
    "# 2. For với pass\n",
    "for i in range(3):\n",
    "    pass\n"
   ]
  },
  {
   "cell_type": "code",
   "execution_count": 112,
   "id": "ed1d8b21",
   "metadata": {},
   "outputs": [],
   "source": [
    "# 3. Hàm với pass\n",
    "def chua_xong():\n",
    "    pass\n"
   ]
  },
  {
   "cell_type": "markdown",
   "id": "f8eb7d4b",
   "metadata": {},
   "source": [
    "### Bài 9: Nested loops cơ bản"
   ]
  },
  {
   "cell_type": "code",
   "execution_count": 113,
   "id": "e7d52f3e",
   "metadata": {},
   "outputs": [
    {
     "name": "stdout",
     "output_type": "stream",
     "text": [
      "* * * * * \n",
      "* * * * * \n",
      "* * * * * \n",
      "* * * * * \n",
      "* * * * * \n"
     ]
    }
   ],
   "source": [
    "# 1. Hình vuông 5x5\n",
    "for i in range(5):\n",
    "    for j in range(5):\n",
    "        print(\"*\", end=\" \")\n",
    "    print()\n"
   ]
  },
  {
   "cell_type": "code",
   "execution_count": 114,
   "id": "1b3faefe",
   "metadata": {},
   "outputs": [
    {
     "name": "stdout",
     "output_type": "stream",
     "text": [
      "*\n",
      "**\n",
      "***\n",
      "****\n",
      "*****\n"
     ]
    }
   ],
   "source": [
    "# 2. Tam giác vuông *\n",
    "for i in range(1, 6):\n",
    "    print(\"*\" * i)\n"
   ]
  },
  {
   "cell_type": "code",
   "execution_count": 115,
   "id": "beb9933f",
   "metadata": {},
   "outputs": [
    {
     "name": "stdout",
     "output_type": "stream",
     "text": [
      "\n",
      "Bảng 2\n",
      "2 x 1 = 2\n",
      "2 x 2 = 4\n",
      "2 x 3 = 6\n",
      "2 x 4 = 8\n",
      "2 x 5 = 10\n",
      "2 x 6 = 12\n",
      "2 x 7 = 14\n",
      "2 x 8 = 16\n",
      "2 x 9 = 18\n",
      "2 x 10 = 20\n",
      "\n",
      "Bảng 3\n",
      "3 x 1 = 3\n",
      "3 x 2 = 6\n",
      "3 x 3 = 9\n",
      "3 x 4 = 12\n",
      "3 x 5 = 15\n",
      "3 x 6 = 18\n",
      "3 x 7 = 21\n",
      "3 x 8 = 24\n",
      "3 x 9 = 27\n",
      "3 x 10 = 30\n"
     ]
    }
   ],
   "source": [
    "# 3. Bảng cửu chương 2–3\n",
    "for i in range(2, 4):\n",
    "    print(f\"\\nBảng {i}\")\n",
    "    for j in range(1, 11):\n",
    "        print(f\"{i} x {j} = {i * j}\")\n"
   ]
  },
  {
   "cell_type": "markdown",
   "id": "97f58b78",
   "metadata": {},
   "source": [
    "### Bài 10: Nested loops nâng cao"
   ]
  },
  {
   "cell_type": "code",
   "execution_count": 116,
   "id": "709628a6",
   "metadata": {},
   "outputs": [
    {
     "name": "stdout",
     "output_type": "stream",
     "text": [
      "1\n",
      "12\n",
      "123\n",
      "1234\n",
      "12345\n"
     ]
    }
   ],
   "source": [
    "# 1. Tam giác số\n",
    "for i in range(1, 6):\n",
    "    for j in range(1, i + 1):\n",
    "        print(j, end=\"\")\n",
    "    print()\n"
   ]
  },
  {
   "cell_type": "code",
   "execution_count": 117,
   "id": "09fc7a97",
   "metadata": {},
   "outputs": [
    {
     "name": "stdout",
     "output_type": "stream",
     "text": [
      "**********\n",
      "*        *\n",
      "*        *\n",
      "*        *\n",
      "**********\n"
     ]
    }
   ],
   "source": [
    "# 2. Hình chữ nhật rỗng *\n",
    "rows, cols = 5, 10\n",
    "for i in range(rows):\n",
    "    for j in range(cols):\n",
    "        if i == 0 or i == rows - 1 or j == 0 or j == cols - 1:\n",
    "            print(\"*\", end=\"\")\n",
    "        else:\n",
    "            print(\" \", end=\"\")\n",
    "    print()\n"
   ]
  },
  {
   "cell_type": "code",
   "execution_count": 118,
   "id": "8fcf8f4c",
   "metadata": {},
   "outputs": [
    {
     "name": "stdout",
     "output_type": "stream",
     "text": [
      "    *\n",
      "   ***\n",
      "  *****\n",
      " *******\n",
      "*********\n"
     ]
    }
   ],
   "source": [
    "# 3. Tam giác cân *\n",
    "n = 5\n",
    "for i in range(1, n + 1):\n",
    "    print(\" \" * (n - i) + \"*\" * (2 * i - 1))\n"
   ]
  },
  {
   "cell_type": "markdown",
   "id": "932ffc5c",
   "metadata": {},
   "source": [
    "## Phần B. Vận dụng (20 yêu cầu)"
   ]
  },
  {
   "cell_type": "markdown",
   "id": "5bbf5e72",
   "metadata": {},
   "source": [
    "### Bài 1: Nested if ứng dụng"
   ]
  },
  {
   "cell_type": "code",
   "execution_count": 121,
   "id": "ece093a1",
   "metadata": {},
   "outputs": [
    {
     "name": "stdout",
     "output_type": "stream",
     "text": [
      "→ Là tam giác thường\n"
     ]
    }
   ],
   "source": [
    "# 1. Kiểm tra 3 cạnh tạo tam giác và phân loại\n",
    "a, b, c = map(float, input(\"Nhập 3 cạnh cách nhau bởi dấu cách: \").split())\n",
    "\n",
    "if a + b > c and a + c > b and b + c > a:\n",
    "    print(\"→ Là tam giác\", end=\" \")\n",
    "    if a == b == c:\n",
    "        print(\"đều\")\n",
    "    elif a == b or b == c or a == c:\n",
    "        print(\"cân\")\n",
    "    elif abs(a**2 + b**2 - c**2) < 1e-9 or abs(a**2 + c**2 - b**2) < 1e-9 or abs(b**2 + c**2 - a**2) < 1e-9:\n",
    "        print(\"vuông\")\n",
    "    else:\n",
    "        print(\"thường\")\n",
    "else:\n",
    "    print(\"→ Không phải tam giác\")\n"
   ]
  },
  {
   "cell_type": "code",
   "execution_count": 122,
   "id": "4e16fbff",
   "metadata": {},
   "outputs": [
    {
     "name": "stdout",
     "output_type": "stream",
     "text": [
      "Giỏi\n"
     ]
    }
   ],
   "source": [
    "# 2. Phân loại học lực theo điểm\n",
    "score = float(input(\"Nhập điểm trung bình: \"))\n",
    "if score >= 8:\n",
    "    print(\"Giỏi\")\n",
    "elif score >= 6.5:\n",
    "    print(\"Khá\")\n",
    "elif score >= 5:\n",
    "    print(\"Trung bình\")\n",
    "else:\n",
    "    print(\"Yếu\")\n"
   ]
  },
  {
   "cell_type": "code",
   "execution_count": 123,
   "id": "3e335677",
   "metadata": {},
   "outputs": [
    {
     "name": "stdout",
     "output_type": "stream",
     "text": [
      "Số dương, lẻ\n"
     ]
    }
   ],
   "source": [
    "# 3. Kiểm tra dương/âm/0 và chẵn/lẻ\n",
    "n = int(input(\"Nhập số nguyên: \"))\n",
    "if n > 0:\n",
    "    print(\"Số dương\", end=\", \")\n",
    "elif n < 0:\n",
    "    print(\"Số âm\", end=\", \")\n",
    "else:\n",
    "    print(\"Bằng 0\", end=\", \")\n",
    "\n",
    "if n % 2 == 0:\n",
    "    print(\"chẵn\")\n",
    "else:\n",
    "    print(\"lẻ\")\n"
   ]
  },
  {
   "cell_type": "markdown",
   "id": "b53f7e8e",
   "metadata": {},
   "source": [
    "### Bài 2: Match case ứng dụng"
   ]
  },
  {
   "cell_type": "code",
   "execution_count": 124,
   "id": "36b788dc",
   "metadata": {},
   "outputs": [
    {
     "name": "stdout",
     "output_type": "stream",
     "text": [
      "=== MENU ===\n",
      "1: Cộng\n",
      "2: Trừ\n",
      "3: Nhân\n",
      "4: Chia\n",
      "Kết quả: 13.0\n"
     ]
    }
   ],
   "source": [
    "# 1. Menu phép toán đơn giản\n",
    "print(\"=== MENU ===\")\n",
    "print(\"1: Cộng\\n2: Trừ\\n3: Nhân\\n4: Chia\")\n",
    "\n",
    "choice = int(input(\"Chọn thao tác (1–4): \"))\n",
    "a = float(input(\"Nhập a: \"))\n",
    "b = float(input(\"Nhập b: \"))\n",
    "\n",
    "match choice:\n",
    "    case 1: print(\"Kết quả:\", a + b)\n",
    "    case 2: print(\"Kết quả:\", a - b)\n",
    "    case 3: print(\"Kết quả:\", a * b)\n",
    "    case 4:\n",
    "        if b != 0:\n",
    "            print(\"Kết quả:\", a / b)\n",
    "        else:\n",
    "            print(\"Không thể chia cho 0\")\n",
    "    case _: print(\"Lựa chọn không hợp lệ!\")\n"
   ]
  },
  {
   "cell_type": "code",
   "execution_count": 125,
   "id": "43eeaac9",
   "metadata": {},
   "outputs": [
    {
     "name": "stdout",
     "output_type": "stream",
     "text": [
      "Oxygen – Oxi\n"
     ]
    }
   ],
   "source": [
    "# 2. Nhập ký hiệu hóa học → in tên nguyên tố\n",
    "symbol = input(\"Nhập ký hiệu (H, O, N, C): \").upper()\n",
    "match symbol:\n",
    "    case \"H\": print(\"Hydrogen – Hiđrô\")\n",
    "    case \"O\": print(\"Oxygen – Oxi\")\n",
    "    case \"N\": print(\"Nitrogen – Nitơ\")\n",
    "    case \"C\": print(\"Carbon – Cacbon\")\n",
    "    case _: print(\"Không hợp lệ\")\n"
   ]
  },
  {
   "cell_type": "code",
   "execution_count": 127,
   "id": "da418767",
   "metadata": {},
   "outputs": [
    {
     "name": "stdout",
     "output_type": "stream",
     "text": [
      "Số không hợp lệ\n"
     ]
    }
   ],
   "source": [
    "# 3. Nhập số 1–7 → in thứ trong tuần\n",
    "day = int(input(\"Nhập số (1–7): \"))\n",
    "match day:\n",
    "    case 1: print(\"Thứ Hai\")\n",
    "    case 2: print(\"Thứ Ba\")\n",
    "    case 3: print(\"Thứ Tư\")\n",
    "    case 4: print(\"Thứ Năm\")\n",
    "    case 5: print(\"Thứ Sáu\")\n",
    "    case 6: print(\"Thứ Bảy\")\n",
    "    case 7: print(\"Chủ Nhật\")\n",
    "    case _: print(\"Số không hợp lệ\")\n"
   ]
  },
  {
   "cell_type": "markdown",
   "id": "7e558e6d",
   "metadata": {},
   "source": [
    "### Bài 3: For–else kết hợp break"
   ]
  },
  {
   "cell_type": "code",
   "execution_count": 128,
   "id": "4fc268b8",
   "metadata": {},
   "outputs": [
    {
     "name": "stdout",
     "output_type": "stream",
     "text": [
      "Là số nguyên tố\n"
     ]
    }
   ],
   "source": [
    "# 1. Kiểm tra số nguyên tố (for–else + break)\n",
    "n = int(input(\"Nhập n: \"))\n",
    "if n < 2:\n",
    "    print(\"Không phải số nguyên tố\")\n",
    "else:\n",
    "    for i in range(2, int(n**0.5) + 1):\n",
    "        if n % i == 0:\n",
    "            print(\"Không phải số nguyên tố\")\n",
    "            break\n",
    "    else:\n",
    "        print(\"Là số nguyên tố\")\n"
   ]
  },
  {
   "cell_type": "code",
   "execution_count": 129,
   "id": "a1759e77",
   "metadata": {},
   "outputs": [
    {
     "name": "stdout",
     "output_type": "stream",
     "text": [
      "Found: 8\n"
     ]
    }
   ],
   "source": [
    "# 2. Tìm phần tử x trong danh sách\n",
    "lst = [2, 4, 6, 8, 10]\n",
    "x = int(input(\"Nhập số cần tìm: \"))\n",
    "for num in lst:\n",
    "    if num == x:\n",
    "        print(\"Found:\", x)\n",
    "        break\n",
    "else:\n",
    "    print(\"Not found\")\n"
   ]
  },
  {
   "cell_type": "code",
   "execution_count": 130,
   "id": "eda7ea84",
   "metadata": {},
   "outputs": [
    {
     "name": "stdout",
     "output_type": "stream",
     "text": [
      "Gặp số âm: -2\n"
     ]
    }
   ],
   "source": [
    "# 3. Duyệt dãy số, dừng khi gặp số âm\n",
    "nums = [3, 5, 9, -2, 4]\n",
    "for n in nums:\n",
    "    if n < 0:\n",
    "        print(\"Gặp số âm:\", n)\n",
    "        break\n",
    "else:\n",
    "    print(\"All positive\")\n"
   ]
  },
  {
   "cell_type": "markdown",
   "id": "ad45b29c",
   "metadata": {},
   "source": [
    "### Bài 4: Nested loops nâng cao"
   ]
  },
  {
   "cell_type": "code",
   "execution_count": 131,
   "id": "468f19f3",
   "metadata": {},
   "outputs": [
    {
     "name": "stdout",
     "output_type": "stream",
     "text": [
      "\n",
      " Bảng cửu chương 2\n",
      "2 x 1 = 2\n",
      "2 x 2 = 4\n",
      "2 x 3 = 6\n",
      "2 x 4 = 8\n",
      "2 x 5 = 10\n",
      "2 x 6 = 12\n",
      "2 x 7 = 14\n",
      "2 x 8 = 16\n",
      "2 x 9 = 18\n",
      "2 x 10 = 20\n",
      "\n",
      " Bảng cửu chương 3\n",
      "3 x 1 = 3\n",
      "3 x 2 = 6\n",
      "3 x 3 = 9\n",
      "3 x 4 = 12\n",
      "3 x 5 = 15\n",
      "3 x 6 = 18\n",
      "3 x 7 = 21\n",
      "3 x 8 = 24\n",
      "3 x 9 = 27\n",
      "3 x 10 = 30\n",
      "\n",
      " Bảng cửu chương 4\n",
      "4 x 1 = 4\n",
      "4 x 2 = 8\n",
      "4 x 3 = 12\n",
      "4 x 4 = 16\n",
      "4 x 5 = 20\n",
      "4 x 6 = 24\n",
      "4 x 7 = 28\n",
      "4 x 8 = 32\n",
      "4 x 9 = 36\n",
      "4 x 10 = 40\n",
      "\n",
      " Bảng cửu chương 5\n",
      "5 x 1 = 5\n",
      "5 x 2 = 10\n",
      "5 x 3 = 15\n",
      "5 x 4 = 20\n",
      "5 x 5 = 25\n",
      "5 x 6 = 30\n",
      "5 x 7 = 35\n",
      "5 x 8 = 40\n",
      "5 x 9 = 45\n",
      "5 x 10 = 50\n",
      "\n",
      " Bảng cửu chương 6\n",
      "6 x 1 = 6\n",
      "6 x 2 = 12\n",
      "6 x 3 = 18\n",
      "6 x 4 = 24\n",
      "6 x 5 = 30\n",
      "6 x 6 = 36\n",
      "6 x 7 = 42\n",
      "6 x 8 = 48\n",
      "6 x 9 = 54\n",
      "6 x 10 = 60\n",
      "\n",
      " Bảng cửu chương 7\n",
      "7 x 1 = 7\n",
      "7 x 2 = 14\n",
      "7 x 3 = 21\n",
      "7 x 4 = 28\n",
      "7 x 5 = 35\n",
      "7 x 6 = 42\n",
      "7 x 7 = 49\n",
      "7 x 8 = 56\n",
      "7 x 9 = 63\n",
      "7 x 10 = 70\n",
      "\n",
      " Bảng cửu chương 8\n",
      "8 x 1 = 8\n",
      "8 x 2 = 16\n",
      "8 x 3 = 24\n",
      "8 x 4 = 32\n",
      "8 x 5 = 40\n",
      "8 x 6 = 48\n",
      "8 x 7 = 56\n",
      "8 x 8 = 64\n",
      "8 x 9 = 72\n",
      "8 x 10 = 80\n",
      "\n",
      " Bảng cửu chương 9\n",
      "9 x 1 = 9\n",
      "9 x 2 = 18\n",
      "9 x 3 = 27\n",
      "9 x 4 = 36\n",
      "9 x 5 = 45\n",
      "9 x 6 = 54\n",
      "9 x 7 = 63\n",
      "9 x 8 = 72\n",
      "9 x 9 = 81\n",
      "9 x 10 = 90\n"
     ]
    }
   ],
   "source": [
    "# 1. Bảng cửu chương từ 2 đến 9\n",
    "for i in range(2, 10):\n",
    "    print(f\"\\n Bảng cửu chương {i}\")\n",
    "    for j in range(1, 11):\n",
    "        print(f\"{i} x {j} = {i * j}\")\n"
   ]
  },
  {
   "cell_type": "code",
   "execution_count": 132,
   "id": "7abb10ee",
   "metadata": {},
   "outputs": [
    {
     "name": "stdout",
     "output_type": "stream",
     "text": [
      "   1 \n",
      "  1 1 \n",
      " 1 2 1 \n"
     ]
    }
   ],
   "source": [
    "# 2. Tam giác Pascal n dòng\n",
    "n = int(input(\"Nhập n: \"))\n",
    "for i in range(n):\n",
    "    val = 1\n",
    "    print(\" \" * (n - i), end=\"\")\n",
    "    for j in range(i + 1):\n",
    "        print(val, end=\" \")\n",
    "        val = val * (i - j) // (j + 1)\n",
    "    print()\n"
   ]
  },
  {
   "cell_type": "code",
   "execution_count": 133,
   "id": "f44d38ae",
   "metadata": {},
   "outputs": [
    {
     "name": "stdout",
     "output_type": "stream",
     "text": [
      "    *    \n",
      "   ***   \n",
      "  *****  \n",
      " ******* \n",
      "*********\n"
     ]
    }
   ],
   "source": [
    "# 3. Kim tự tháp *\n",
    "n = 5\n",
    "for i in range(1, n + 1):\n",
    "    print((\"*\" * (2 * i - 1)).center(2 * n - 1))\n"
   ]
  },
  {
   "cell_type": "markdown",
   "id": "b4c0c708",
   "metadata": {},
   "source": [
    "### Bài 5: Tổng hợp"
   ]
  },
  {
   "cell_type": "code",
   "execution_count": 135,
   "id": "2a3275ce",
   "metadata": {},
   "outputs": [
    {
     "name": "stdout",
     "output_type": "stream",
     "text": [
      "Sai, còn 2 lần thử\n",
      "Đăng nhập thành công!\n"
     ]
    }
   ],
   "source": [
    "# 1. Đăng nhập (tối đa 3 lần)\n",
    "user, pwd = \"admin\", \"123\"\n",
    "for i in range(3):\n",
    "    u = input(\"User: \")\n",
    "    p = input(\"Password: \")\n",
    "    if u == user and p == pwd:\n",
    "        print(\"Đăng nhập thành công!\")\n",
    "        break\n",
    "    else:\n",
    "        print(\"Sai, còn\", 2 - i, \"lần thử\")\n",
    "else:\n",
    "    print(\"Khóa tài khoản!\")\n"
   ]
  },
  {
   "cell_type": "code",
   "execution_count": 136,
   "id": "799b5ee9",
   "metadata": {},
   "outputs": [
    {
     "name": "stdout",
     "output_type": "stream",
     "text": [
      "Max: 8\n",
      "Min: 3\n",
      "8 không phải số nguyên tố\n"
     ]
    }
   ],
   "source": [
    "# 2. Nhập danh sách số → max, min, kiểm tra số nguyên tố\n",
    "nums = list(map(int, input(\"Nhập dãy số (cách nhau bởi khoảng trắng): \").split()))\n",
    "print(\"Max:\", max(nums))\n",
    "print(\"Min:\", min(nums))\n",
    "\n",
    "# Kiểm tra max có phải số nguyên tố không\n",
    "x = max(nums)\n",
    "for i in range(2, int(x**0.5) + 1):\n",
    "    if x % i == 0:\n",
    "        print(x, \"không phải số nguyên tố\")\n",
    "        break\n",
    "else:\n",
    "    print(x, \"là số nguyên tố\")\n"
   ]
  },
  {
   "cell_type": "code",
   "execution_count": 137,
   "id": "2a77e2c0",
   "metadata": {},
   "outputs": [
    {
     "name": "stdout",
     "output_type": "stream",
     "text": [
      "(1, 4)\n",
      "(2, 3)\n",
      "(3, 2)\n",
      "(4, 1)\n"
     ]
    }
   ],
   "source": [
    "# 3. In các cặp (i, j) sao cho i + j = n\n",
    "n = int(input(\"Nhập n: \"))\n",
    "for i in range(1, n):\n",
    "    for j in range(1, n):\n",
    "        if i + j == n:\n",
    "            print(f\"({i}, {j})\")\n"
   ]
  },
  {
   "cell_type": "code",
   "execution_count": 138,
   "id": "a0d16e78",
   "metadata": {},
   "outputs": [
    {
     "name": "stdout",
     "output_type": "stream",
     "text": [
      "1 \n",
      "2 3 \n",
      "4 5 6 \n",
      "7 8 9 10 \n",
      "11 12 13 14 15 \n",
      "16 17 18 19 20 21 \n",
      "22 23 24 25 26 27 28 \n"
     ]
    }
   ],
   "source": [
    "# 4. Tam giác Floyd\n",
    "n = int(input(\"Nhập n: \"))\n",
    "num = 1\n",
    "for i in range(1, n + 1):\n",
    "    for j in range(i):\n",
    "        print(num, end=\" \")\n",
    "        num += 1\n",
    "    print()\n"
   ]
  },
  {
   "cell_type": "code",
   "execution_count": 139,
   "id": "1fc19431",
   "metadata": {},
   "outputs": [
    {
     "name": "stdout",
     "output_type": "stream",
     "text": [
      "\n",
      "Bảng 2\n",
      "2 x 1 = 2\n",
      "2 x 2 = 4\n",
      "2 x 3 = 6\n",
      "2 x 4 = 8\n",
      "2 x 5 = 10\n",
      "2 x 6 = 12\n",
      "2 x 7 = 14\n",
      "2 x 8 = 16\n",
      "2 x 9 = 18\n",
      "2 x 10 = 20\n",
      "\n",
      "Bảng 3\n",
      "3 x 2 = 6\n",
      "3 x 4 = 12\n",
      "3 x 6 = 18\n",
      "3 x 8 = 24\n",
      "3 x 10 = 30\n",
      "\n",
      "Bảng 4\n",
      "4 x 1 = 4\n",
      "4 x 2 = 8\n",
      "4 x 3 = 12\n",
      "4 x 4 = 16\n",
      "4 x 5 = 20\n",
      "4 x 6 = 24\n",
      "4 x 7 = 28\n",
      "4 x 8 = 32\n",
      "4 x 9 = 36\n",
      "4 x 10 = 40\n",
      "\n",
      "Bảng 5\n",
      "5 x 2 = 10\n",
      "5 x 4 = 20\n",
      "5 x 6 = 30\n",
      "5 x 8 = 40\n",
      "5 x 10 = 50\n",
      "\n",
      "Bảng 6\n",
      "6 x 1 = 6\n",
      "6 x 2 = 12\n",
      "6 x 3 = 18\n",
      "6 x 4 = 24\n",
      "6 x 5 = 30\n",
      "6 x 6 = 36\n",
      "6 x 7 = 42\n",
      "6 x 8 = 48\n",
      "6 x 9 = 54\n",
      "6 x 10 = 60\n",
      "\n",
      "Bảng 7\n",
      "7 x 2 = 14\n",
      "7 x 4 = 28\n",
      "7 x 6 = 42\n",
      "7 x 8 = 56\n",
      "7 x 10 = 70\n",
      "\n",
      "Bảng 8\n",
      "8 x 1 = 8\n",
      "8 x 2 = 16\n",
      "8 x 3 = 24\n",
      "8 x 4 = 32\n",
      "8 x 5 = 40\n",
      "8 x 6 = 48\n",
      "8 x 7 = 56\n",
      "8 x 8 = 64\n",
      "8 x 9 = 72\n",
      "8 x 10 = 80\n",
      "\n",
      "Bảng 9\n",
      "9 x 2 = 18\n",
      "9 x 4 = 36\n",
      "9 x 6 = 54\n",
      "9 x 8 = 72\n",
      "9 x 10 = 90\n"
     ]
    }
   ],
   "source": [
    "# 5. Bảng cửu chương (chỉ in kết quả chẵn)\n",
    "for i in range(2, 10):\n",
    "    print(f\"\\nBảng {i}\")\n",
    "    for j in range(1, 11):\n",
    "        if (i * j) % 2 != 0:\n",
    "            continue\n",
    "        print(f\"{i} x {j} = {i * j}\")\n"
   ]
  }
 ],
 "metadata": {
  "kernelspec": {
   "display_name": "Python 3",
   "language": "python",
   "name": "python3"
  },
  "language_info": {
   "codemirror_mode": {
    "name": "ipython",
    "version": 3
   },
   "file_extension": ".py",
   "mimetype": "text/x-python",
   "name": "python",
   "nbconvert_exporter": "python",
   "pygments_lexer": "ipython3",
   "version": "3.12.8"
  }
 },
 "nbformat": 4,
 "nbformat_minor": 5
}
