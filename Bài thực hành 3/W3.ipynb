{
  "nbformat": 4,
  "nbformat_minor": 0,
  "metadata": {
    "colab": {
      "provenance": []
    },
    "kernelspec": {
      "name": "python3",
      "display_name": "Python 3"
    },
    "language_info": {
      "name": "python"
    }
  },
  "cells": [
    {
      "cell_type": "markdown",
      "source": [
        "# Nguyễn Hồng Yến - 23280099"
      ],
      "metadata": {
        "id": "O2DNApn2gFRB"
      }
    },
    {
      "cell_type": "markdown",
      "source": [
        "# Bài số 6: Xử lý Chuỗi ký tự (strings) trong Python"
      ],
      "metadata": {
        "id": "X9Kp_B4HZbLk"
      }
    },
    {
      "cell_type": "markdown",
      "source": [
        "## Phần A: Bài tập Nhận biết và Ghi nhớ (30 câu)"
      ],
      "metadata": {
        "id": "srMgfwgzZfzK"
      }
    },
    {
      "cell_type": "code",
      "source": [
        "# Bài 1: Khai báo một chuỗi \"Hello Python\" và in ra màn hình.\n",
        "string = \"Hello Python\"\n",
        "print(string)"
      ],
      "metadata": {
        "colab": {
          "base_uri": "https://localhost:8080/"
        },
        "id": "jM3awWGMZjWC",
        "outputId": "9f10ed85-892a-4c57-915e-564fe469fbc6"
      },
      "execution_count": null,
      "outputs": [
        {
          "output_type": "stream",
          "name": "stdout",
          "text": [
            "Hello Python\n"
          ]
        }
      ]
    },
    {
      "cell_type": "code",
      "source": [
        "# Bài 2: In ký tự đầu tiên của chuỗi \"OpenAI\".\n",
        "string = \"OpenAI\"\n",
        "first_character = string[0]\n",
        "print(first_character)"
      ],
      "metadata": {
        "colab": {
          "base_uri": "https://localhost:8080/"
        },
        "id": "ZfEwoDpxZ0K7",
        "outputId": "e9c9b07c-3bb0-4134-d198-725b5c1b5718"
      },
      "execution_count": null,
      "outputs": [
        {
          "output_type": "stream",
          "name": "stdout",
          "text": [
            "O\n"
          ]
        }
      ]
    },
    {
      "cell_type": "code",
      "source": [
        "# Bài 3: In ký tự cuối cùng của chuỗi \"ChatGPT\".\n",
        "string = \"ChatGPT\"\n",
        "last_charactor = string[-1]\n",
        "print(last_charactor)"
      ],
      "metadata": {
        "colab": {
          "base_uri": "https://localhost:8080/"
        },
        "id": "aoLjFu5eakJj",
        "outputId": "2561490d-00dc-461a-b7c1-81f91f98e4db"
      },
      "execution_count": null,
      "outputs": [
        {
          "output_type": "stream",
          "name": "stdout",
          "text": [
            "T\n"
          ]
        }
      ]
    },
    {
      "cell_type": "code",
      "source": [
        "# Bài 4: Lấy 5 ký tự đầu tiên của chuỗi \"Data Science\".\n",
        "string = \"Data Science\"\n",
        "string[:5]\n"
      ],
      "metadata": {
        "colab": {
          "base_uri": "https://localhost:8080/",
          "height": 35
        },
        "id": "_1uV7UQBa4yj",
        "outputId": "528cb3ef-450c-4a4e-d873-53565c3680cb"
      },
      "execution_count": null,
      "outputs": [
        {
          "output_type": "execute_result",
          "data": {
            "text/plain": [
              "'Data '"
            ],
            "application/vnd.google.colaboratory.intrinsic+json": {
              "type": "string"
            }
          },
          "metadata": {},
          "execution_count": 10
        }
      ]
    },
    {
      "cell_type": "code",
      "source": [
        "# Bài 5: Lấy 4 ký tự cuối của chuỗi \"Machine Learning\".\n",
        "string = \"Machine Learning\"\n",
        "string[-4:]"
      ],
      "metadata": {
        "colab": {
          "base_uri": "https://localhost:8080/",
          "height": 35
        },
        "id": "Efb5W86TbRtK",
        "outputId": "8635bd1c-cb89-4198-d815-e09851501932"
      },
      "execution_count": null,
      "outputs": [
        {
          "output_type": "execute_result",
          "data": {
            "text/plain": [
              "'ning'"
            ],
            "application/vnd.google.colaboratory.intrinsic+json": {
              "type": "string"
            }
          },
          "metadata": {},
          "execution_count": 12
        }
      ]
    },
    {
      "cell_type": "code",
      "source": [
        "# Bài 6: In chiều dài của chuỗi \"Artificial Intelligence\".\n",
        "string = \"Artificial Intelligence\"\n",
        "string_length = len(string)\n",
        "print(string_length)"
      ],
      "metadata": {
        "colab": {
          "base_uri": "https://localhost:8080/"
        },
        "id": "tB-JwkLpbkQS",
        "outputId": "10ff515a-967f-4a4e-ba09-571f58990416"
      },
      "execution_count": null,
      "outputs": [
        {
          "output_type": "stream",
          "name": "stdout",
          "text": [
            "23\n"
          ]
        }
      ]
    },
    {
      "cell_type": "code",
      "source": [
        "# Bài 7: Chuyển chuỗi \"python programming\" thành chữ in hoa.\n",
        "string = \"python programming\"\n",
        "string.upper()"
      ],
      "metadata": {
        "colab": {
          "base_uri": "https://localhost:8080/",
          "height": 35
        },
        "id": "Y3syqadkbrHL",
        "outputId": "19afe142-9351-4b81-b6ef-f1f56762b168"
      },
      "execution_count": null,
      "outputs": [
        {
          "output_type": "execute_result",
          "data": {
            "text/plain": [
              "'PYTHON PROGRAMMING'"
            ],
            "application/vnd.google.colaboratory.intrinsic+json": {
              "type": "string"
            }
          },
          "metadata": {},
          "execution_count": 14
        }
      ]
    },
    {
      "cell_type": "code",
      "source": [
        "# Bài 8: Chuyển chuỗi \"PYTHON PROGRAMMING\" thành chữ thường.\n",
        "string = \"PYTHON PROGRAMMING\"\n",
        "string.lower()"
      ],
      "metadata": {
        "colab": {
          "base_uri": "https://localhost:8080/",
          "height": 35
        },
        "id": "p3fNAkJUbu5y",
        "outputId": "4c51aaa2-8cc9-4cd5-ec27-e78b12b0f371"
      },
      "execution_count": null,
      "outputs": [
        {
          "output_type": "execute_result",
          "data": {
            "text/plain": [
              "'python programming'"
            ],
            "application/vnd.google.colaboratory.intrinsic+json": {
              "type": "string"
            }
          },
          "metadata": {},
          "execution_count": 15
        }
      ]
    },
    {
      "cell_type": "code",
      "source": [
        "# Bài 9: Viết chương trình đổi ký tự đầu của chuỗi \"hello\" thành chữ in hoa.\n",
        "def ham(string):\n",
        "  string = string.capitalize()\n",
        "  return string\n",
        "\n",
        "ham(\"hello\")"
      ],
      "metadata": {
        "colab": {
          "base_uri": "https://localhost:8080/",
          "height": 35
        },
        "id": "CHyKw6ppcAOj",
        "outputId": "f9b196af-be57-4b0f-a35d-98d4d86395f5"
      },
      "execution_count": null,
      "outputs": [
        {
          "output_type": "execute_result",
          "data": {
            "text/plain": [
              "'Hello'"
            ],
            "application/vnd.google.colaboratory.intrinsic+json": {
              "type": "string"
            }
          },
          "metadata": {},
          "execution_count": 22
        }
      ]
    },
    {
      "cell_type": "code",
      "source": [
        "# Bài 10: In chuỗi \"banana\" với mỗi ký tự trên một dòng.\n",
        "string = \"banana\"\n",
        "for char in string:\n",
        "  print(char)"
      ],
      "metadata": {
        "colab": {
          "base_uri": "https://localhost:8080/"
        },
        "id": "juptg8vddivj",
        "outputId": "46fcd5ab-884b-4a27-9e09-d939c547e9a3"
      },
      "execution_count": null,
      "outputs": [
        {
          "output_type": "stream",
          "name": "stdout",
          "text": [
            "b\n",
            "a\n",
            "n\n",
            "a\n",
            "n\n",
            "a\n"
          ]
        }
      ]
    },
    {
      "cell_type": "code",
      "source": [
        "# Bài 11: Ghép hai chuỗi \"Data\" và \"Science\" bằng toán tử +.\n",
        "str1 = \"Data\"\n",
        "str2= \"Science\"\n",
        "str3 = str1 + str2\n",
        "print(str3)"
      ],
      "metadata": {
        "colab": {
          "base_uri": "https://localhost:8080/"
        },
        "id": "MYYjpxdHdx0a",
        "outputId": "588683b8-f777-478e-84aa-144db5c8a79d"
      },
      "execution_count": null,
      "outputs": [
        {
          "output_type": "stream",
          "name": "stdout",
          "text": [
            "DataScience\n"
          ]
        }
      ]
    },
    {
      "cell_type": "code",
      "source": [
        "# Bài 12: Ghép hai chuỗi \"Deep\" và \"Learning\" bằng f-string.\n",
        "str1 = \"Deep\"\n",
        "str2 = \"Learning\"\n",
        "str3 = f'str:  {str1+str2}'\n",
        "print(str3)"
      ],
      "metadata": {
        "colab": {
          "base_uri": "https://localhost:8080/"
        },
        "id": "hoQEfc09dz6r",
        "outputId": "3e18c102-f606-4584-8602-5b138610942a"
      },
      "execution_count": null,
      "outputs": [
        {
          "output_type": "stream",
          "name": "stdout",
          "text": [
            "str:  DeepLearning\n"
          ]
        }
      ]
    },
    {
      "cell_type": "code",
      "source": [
        "# Bài 13: Ghép chuỗi \"Age:\" với số 25 bằng phương thức format().\n",
        "str = \"Age {}\"\n",
        "num = 25\n",
        "str.format(num)"
      ],
      "metadata": {
        "colab": {
          "base_uri": "https://localhost:8080/",
          "height": 35
        },
        "id": "dQv186tUd1xT",
        "outputId": "bfea1f1a-8a96-4f92-bbf0-01eff221830d"
      },
      "execution_count": null,
      "outputs": [
        {
          "output_type": "execute_result",
          "data": {
            "text/plain": [
              "'Age 25'"
            ],
            "application/vnd.google.colaboratory.intrinsic+json": {
              "type": "string"
            }
          },
          "metadata": {},
          "execution_count": 30
        }
      ]
    },
    {
      "cell_type": "code",
      "source": [
        "# Bài 14: In chuỗi có chứa dấu nháy kép: \"He said, ``Python is fun!'' \".\n",
        "print(\"\"\" \"He said, ''Python is fun!''\" \"\"\")\n"
      ],
      "metadata": {
        "colab": {
          "base_uri": "https://localhost:8080/"
        },
        "id": "PQUxswUrd32z",
        "outputId": "edac03d7-b694-49d0-85cf-64e35d132aa2"
      },
      "execution_count": null,
      "outputs": [
        {
          "output_type": "stream",
          "name": "stdout",
          "text": [
            " \"He said, ''Python is fun!''\" \n"
          ]
        }
      ]
    },
    {
      "cell_type": "code",
      "source": [
        "# Bài 15: In chuỗi có chứa dấu xuống dòng bằng ký tự thoát\n",
        "string = \"Hello\\nWorld\"\n",
        "print(string)"
      ],
      "metadata": {
        "colab": {
          "base_uri": "https://localhost:8080/"
        },
        "id": "rEyjK3yKgrsi",
        "outputId": "02cd9033-10ac-44d4-e5ca-e870a7c370ef"
      },
      "execution_count": null,
      "outputs": [
        {
          "output_type": "stream",
          "name": "stdout",
          "text": [
            "Hello\n",
            "World\n"
          ]
        }
      ]
    },
    {
      "cell_type": "code",
      "source": [
        "# Bài 16: In chuỗi có chứa ký tự tab bằng ký tự thoát.\n",
        "string = \"My\\tname\\tis\\tPi\"\n",
        "print(string)"
      ],
      "metadata": {
        "colab": {
          "base_uri": "https://localhost:8080/"
        },
        "id": "lOXBdLgmgulC",
        "outputId": "7313ced0-8f72-4aad-c853-60953877fc48"
      },
      "execution_count": null,
      "outputs": [
        {
          "output_type": "stream",
          "name": "stdout",
          "text": [
            "My\tname\tis\tPi\n"
          ]
        }
      ]
    },
    {
      "cell_type": "code",
      "source": [
        "# Bài 17: Kiểm tra xem chuỗi \"apple\" có chứa ký tự \"a\" không.\n",
        "str = \"apple\"\n",
        "\n",
        "def check(string, char):\n",
        "  if(char in string):\n",
        "    return True\n",
        "  else:\n",
        "    return False\n",
        "\n",
        "check(str, \"a\")"
      ],
      "metadata": {
        "colab": {
          "base_uri": "https://localhost:8080/"
        },
        "id": "VaJ_Lk2igx-C",
        "outputId": "7bd86c3f-b7f6-4ac5-c04a-e2c388b0eab5"
      },
      "execution_count": null,
      "outputs": [
        {
          "output_type": "execute_result",
          "data": {
            "text/plain": [
              "True"
            ]
          },
          "metadata": {},
          "execution_count": 42
        }
      ]
    },
    {
      "cell_type": "code",
      "source": [
        "# Bài 18: Đếm số lần ký tự \"e\" xuất hiện trong chuỗi \"engineering\".\n",
        "string = \"engineering\"\n",
        "freq = string.count(\"e\")\n",
        "\n",
        "print(freq)"
      ],
      "metadata": {
        "colab": {
          "base_uri": "https://localhost:8080/"
        },
        "id": "4VOgLfUrgwjx",
        "outputId": "df9e1cfc-4d6f-49d8-bf89-1f998dd5e62a"
      },
      "execution_count": null,
      "outputs": [
        {
          "output_type": "stream",
          "name": "stdout",
          "text": [
            "3\n"
          ]
        }
      ]
    },
    {
      "cell_type": "code",
      "source": [
        "# Bài 19: Tìm vị trí đầu tiên của chuỗi con \"data\" trong \"big data analysis\".\n",
        "str = \"big data analysis\"\n",
        "sub_str= \"data\"\n",
        "\n",
        "str.find(sub_str)\n"
      ],
      "metadata": {
        "colab": {
          "base_uri": "https://localhost:8080/"
        },
        "id": "Y5c7_13Yg0mz",
        "outputId": "05568bd5-180a-42c7-eade-cfb50b255b06"
      },
      "execution_count": null,
      "outputs": [
        {
          "output_type": "execute_result",
          "data": {
            "text/plain": [
              "4"
            ]
          },
          "metadata": {},
          "execution_count": 46
        }
      ]
    },
    {
      "cell_type": "code",
      "source": [
        "# Bài 20: Thay thế \"blue\" bằng \"red\" trong chuỗi \"The sky is blue\".\n",
        "str = \"The sky is blue\"\n",
        "new_str = str.replace(\"blue\", \"red\")\n",
        "\n",
        "print(new_str)"
      ],
      "metadata": {
        "colab": {
          "base_uri": "https://localhost:8080/"
        },
        "id": "ySStg7J5g2op",
        "outputId": "d3894bd8-2dad-4973-8667-0440c8ed47ac"
      },
      "execution_count": null,
      "outputs": [
        {
          "output_type": "stream",
          "name": "stdout",
          "text": [
            "The sky is red\n"
          ]
        }
      ]
    },
    {
      "cell_type": "code",
      "source": [
        "# Bài 21: Loại bỏ khoảng trắng ở đầu và cuối chuỗi \"hello \".\n",
        "str = \" hello \"\n",
        "str.strip()"
      ],
      "metadata": {
        "colab": {
          "base_uri": "https://localhost:8080/",
          "height": 35
        },
        "id": "1JYjQCjMg5b-",
        "outputId": "07e5669c-64d0-4756-8644-ca0abff61019"
      },
      "execution_count": null,
      "outputs": [
        {
          "output_type": "execute_result",
          "data": {
            "text/plain": [
              "'hello'"
            ],
            "application/vnd.google.colaboratory.intrinsic+json": {
              "type": "string"
            }
          },
          "metadata": {},
          "execution_count": 51
        }
      ]
    },
    {
      "cell_type": "markdown",
      "source": [
        "- Bài 22: Tách chuỗi \"Python,Java,C++\" thành danh sách.\n",
        "- Bài 23: Nối danh sách [\"Python\",\"Java\",\"C++\"] thành chuỗi, ngăn cách bởi dấu phẩy.\n",
        "- Bài 24: Kiểm tra chuỗi \"12345\" có phải toàn số không.\n",
        "- Bài 25: Kiểm tra chuỗi \"Hello\" có phải toàn chữ cái không.\n",
        "- Bài 26: Viết chương trình đảo ngược chuỗi \"Python\".\n",
        "- Bài 27: In ký tự thứ 2 đến thứ 5 của chuỗi \"Statistics\".\n",
        "- Bài 28: In chuỗi \"Python\" 3 lần liên tiếp bằng toán tử *.\n",
        "- Bài 29: Kiểm tra chuỗi \"hello world\" có bắt đầu bằng \"hello\" không.\n",
        "- Bài 30: Kiểm tra chuỗi \"hello world\" có kết thúc bằng \"world\" không."
      ],
      "metadata": {
        "id": "R_AxZ3eKkhQw"
      }
    },
    {
      "cell_type": "code",
      "source": [
        "# Bài 22: Tách chuỗi \"Python,Java,C++\" thành danh sách.\n",
        "str = \"Python,Java,C++\"\n",
        "print(str.split(\",\"))\n",
        "\n",
        "\n",
        "#Bài 23: Nối danh sách [\"Python\",\"Java\",\"C++\"] thành chuỗi, ngăn cách bởi dấu phẩy.\n",
        "list = [\"Python\",\"Java\",\"C++\"]\n",
        "print(\",\".join(list))\n",
        "\n",
        "# Bài 24: Kiểm tra chuỗi \"12345\" có phải toàn số không.\n",
        "str = \"12345\"\n",
        "print(str.isnumeric())\n",
        "\n",
        "# Bài 25: Kiểm tra chuỗi \"Hello\" có phải toàn chữ cái không.\n",
        "str = \"Hello\"\n",
        "print(str.isalpha())\n",
        "\n",
        "# Bài 26: Viết chương trình đảo ngược chuỗi \"Python\".\n",
        "str = \"Python\"\n",
        "print(str[::-1])\n",
        "\n",
        "# Bài 27: In ký tự thứ 2 đến thứ 5 của chuỗi \"Statistics\".\n",
        "str = \"Statistics\"\n",
        "print(str[1:5])\n",
        "\n",
        "# Bài 28: In chuỗi \"Python\" 3 lần liên tiếp bằng toán tử *.\n",
        "str = \"Python\"\n",
        "print(str*3)\n",
        "\n",
        "# Bài 29: Kiểm tra chuỗi \"hello world\" có bắt đầu bằng \"hello\" không.\n",
        "str = \"hello world\"\n",
        "str.startswith(\"hello\")\n",
        "\n",
        "# Bài 30: Kiểm tra chuỗi \"hello world\" có kết thúc bằng \"world\" không.\n",
        "str = \"hello world\"\n",
        "str.endswith(\"hello\")\n"
      ],
      "metadata": {
        "colab": {
          "base_uri": "https://localhost:8080/"
        },
        "id": "N9j71p9Pkfd5",
        "outputId": "f7e0a1c4-875a-4b35-8044-c5dedea38090"
      },
      "execution_count": null,
      "outputs": [
        {
          "output_type": "stream",
          "name": "stdout",
          "text": [
            "['Python', 'Java', 'C++']\n",
            "Python,Java,C++\n",
            "True\n",
            "True\n",
            "nohtyP\n",
            "tati\n",
            "PythonPythonPython\n"
          ]
        },
        {
          "output_type": "execute_result",
          "data": {
            "text/plain": [
              "False"
            ]
          },
          "metadata": {},
          "execution_count": 64
        }
      ]
    },
    {
      "cell_type": "markdown",
      "source": [
        "## Phần B: Bài tập Vận dụng (20 câu)"
      ],
      "metadata": {
        "id": "JUTdAM67n5r6"
      }
    },
    {
      "cell_type": "code",
      "source": [
        "# Bài 31: Viết chương trình nhập vào một chuỗi và in ra chuỗi đảo ngược.\n",
        "def in_chuoi_dao_nguoc(string):\n",
        "  string = string[::-1]\n",
        "  return string\n",
        "\n",
        "in_chuoi_dao_nguoc(\"Daylapi\")"
      ],
      "metadata": {
        "colab": {
          "base_uri": "https://localhost:8080/",
          "height": 35
        },
        "id": "xEiglLgqn-iI",
        "outputId": "4d133451-20bc-42d4-c065-beae92287c83"
      },
      "execution_count": null,
      "outputs": [
        {
          "output_type": "execute_result",
          "data": {
            "text/plain": [
              "'ipalyaD'"
            ],
            "application/vnd.google.colaboratory.intrinsic+json": {
              "type": "string"
            }
          },
          "metadata": {},
          "execution_count": 66
        }
      ]
    },
    {
      "cell_type": "code",
      "source": [
        "# Bài 32: Nhập một chuỗi từ bàn phím và đếm số nguyên âm (a, e, i, o, u).\n",
        "def dem(string):\n",
        "  string = string.lower()\n",
        "  nguyen_am = \"aeiou\"\n",
        "  count = 0\n",
        "  for i in string:\n",
        "    if i in nguyen_am:\n",
        "      count = count + 1\n",
        "  return count\n",
        "\n",
        "dem(\"orange\")\n"
      ],
      "metadata": {
        "colab": {
          "base_uri": "https://localhost:8080/"
        },
        "id": "kGegF8g6q9co",
        "outputId": "88434b88-da82-4b48-f99a-f88bff5136df"
      },
      "execution_count": null,
      "outputs": [
        {
          "output_type": "execute_result",
          "data": {
            "text/plain": [
              "3"
            ]
          },
          "metadata": {},
          "execution_count": 76
        }
      ]
    },
    {
      "cell_type": "code",
      "source": [
        "# Bài 33: Nhập vào họ và tên, in ra tên viết hoa toàn bộ.\n",
        "full_name = input(\"Họ tên: \")\n",
        "fn_upper = full_name.upper()\n",
        "print(fn_upper)"
      ],
      "metadata": {
        "colab": {
          "base_uri": "https://localhost:8080/"
        },
        "id": "WX4iD9Hk0M0B",
        "outputId": "79e5739d-beed-4557-dcc2-247ffdbd668f"
      },
      "execution_count": null,
      "outputs": [
        {
          "output_type": "stream",
          "name": "stdout",
          "text": [
            "Họ tên: nguyen hong yen\n",
            "NGUYEN HONG YEN\n"
          ]
        }
      ]
    },
    {
      "cell_type": "code",
      "source": [
        "# Bài 34: Viết chương trình định dạng chuỗi để in bảng cột: Tên, Tuổi, Nghề nghiệp."
      ],
      "metadata": {
        "id": "yxchi6_G1E2k"
      },
      "execution_count": null,
      "outputs": []
    },
    {
      "cell_type": "code",
      "metadata": {
        "colab": {
          "base_uri": "https://localhost:8080/"
        },
        "id": "e90c7a76",
        "outputId": "98ca8aa7-04c7-4db6-b984-c47b471fbc8a"
      },
      "source": [
        "# Bài 34: Viết chương trình định dạng chuỗi để in bảng cột: Tên, Tuổi, Nghề nghiệp.\n",
        "\n",
        "data = [\n",
        "    (\"Pi\", 21, \"AIE\"),\n",
        "    (\"Ha\", 21, \"DA\")\n",
        "]\n",
        "print(f\"{'Tên': <10} {'Tuổi':<10} {'Nghề nghiệp':<20}\")\n",
        "print(\"-\" * 35)\n",
        "for name, age, job in data:\n",
        "  print(f\"{name: <10} {age:<10} {job:20}\")"
      ],
      "execution_count": null,
      "outputs": [
        {
          "output_type": "stream",
          "name": "stdout",
          "text": [
            "Tên        Tuổi       Nghề nghiệp         \n",
            "-----------------------------------\n",
            "Pi         21         AIE                 \n",
            "Ha         21         DA                  \n"
          ]
        }
      ]
    },
    {
      "cell_type": "code",
      "source": [],
      "metadata": {
        "id": "3_NqcOq-3aPT"
      },
      "execution_count": null,
      "outputs": []
    },
    {
      "cell_type": "code",
      "source": [
        "# Bài 35: Viết chương trình nhập chuỗi và loại bỏ tất cả khoảng trắng.\n",
        "def loai_bo_khoang_trang(str):\n",
        "  input(\"Nhập chuỗi: \")\n",
        "  str_new = str.replace(' ', '')\n",
        "  return str_new\n",
        "\n",
        "loai_bo_khoang_trang(\"hong yen\")\n"
      ],
      "metadata": {
        "colab": {
          "base_uri": "https://localhost:8080/",
          "height": 53
        },
        "id": "yQwhcFcc1HbY",
        "outputId": "bc7fb8b7-fa9a-4246-ff55-d366521026c5"
      },
      "execution_count": null,
      "outputs": [
        {
          "name": "stdout",
          "output_type": "stream",
          "text": [
            "Nhập chuỗi: hong yen\n"
          ]
        },
        {
          "output_type": "execute_result",
          "data": {
            "text/plain": [
              "'hongyen'"
            ],
            "application/vnd.google.colaboratory.intrinsic+json": {
              "type": "string"
            }
          },
          "metadata": {},
          "execution_count": 85
        }
      ]
    },
    {
      "cell_type": "code",
      "source": [
        "# Bài 36: Viết chương trình thay thế tất cả nguyên âm trong chuỗi bằng dấu \"*\".\n",
        "def thay_the_nguyen_am(str1):\n",
        "  nguyen_am = \"uioae\"\n",
        "  replacement_char = \"*\"\n",
        "  # str_new = \"\"\n",
        "  for i in nguyen_am:\n",
        "    str1 = str1.replace(i, replacement_char)\n",
        "  return str1\n",
        "\n",
        "thay_the_nguyen_am(\"orange\")\n",
        "\n"
      ],
      "metadata": {
        "colab": {
          "base_uri": "https://localhost:8080/",
          "height": 35
        },
        "id": "h57yU48Y1J8r",
        "outputId": "9031934e-7c7b-4bce-bb1c-5b1ba98b9f8b"
      },
      "execution_count": null,
      "outputs": [
        {
          "output_type": "execute_result",
          "data": {
            "text/plain": [
              "'*r*ng*'"
            ],
            "application/vnd.google.colaboratory.intrinsic+json": {
              "type": "string"
            }
          },
          "metadata": {},
          "execution_count": 91
        }
      ]
    },
    {
      "cell_type": "code",
      "source": [
        "# Bài 37: Viết chương trình nhập chuỗi và đếm số lượng từ\n",
        "input_str = input(\"Nhập chuỗi: \")\n",
        "words = input_str.split()\n",
        "word_count = len(words)\n",
        "print(words)\n"
      ],
      "metadata": {
        "colab": {
          "base_uri": "https://localhost:8080/"
        },
        "id": "f72rhLB37yZA",
        "outputId": "abb0decc-049b-4536-9a32-12da02b96c58"
      },
      "execution_count": null,
      "outputs": [
        {
          "output_type": "stream",
          "name": "stdout",
          "text": [
            "Nhập chuỗi: day la con cho pi !!\n",
            "['day', 'la', 'con', 'cho', 'pi', '!!']\n"
          ]
        }
      ]
    },
    {
      "cell_type": "code",
      "source": [
        "# Bài 38: Viết chương trình nhập chuỗi và in từ dài nhất.\n",
        "def tu_dai_nhat(s):\n",
        "  words = s.split()\n",
        "  word_count = 0\n",
        "  max_length = 0\n",
        "  res = words[0]\n",
        "  for word in words:\n",
        "    word_count += 1\n",
        "    if len(word) > max_length:\n",
        "      max_length = len(word)\n",
        "      res = word\n",
        "  return res\n",
        "\n",
        "tu_dai_nhat(\"nguyen hong yen\")\n"
      ],
      "metadata": {
        "colab": {
          "base_uri": "https://localhost:8080/",
          "height": 35
        },
        "id": "BT10sn5u8yZt",
        "outputId": "4e7c6f30-4a17-464e-9c1c-029057895210"
      },
      "execution_count": null,
      "outputs": [
        {
          "output_type": "execute_result",
          "data": {
            "text/plain": [
              "'nguyen'"
            ],
            "application/vnd.google.colaboratory.intrinsic+json": {
              "type": "string"
            }
          },
          "metadata": {},
          "execution_count": 109
        }
      ]
    },
    {
      "cell_type": "code",
      "source": [
        "# Bài 39: Viết chương trình kiểm tra xem chuỗi nhập vào có phải là palindrome (đối xứng)\n",
        "# không.\n",
        "def is_palindrome(s):\n",
        "  s1 = s.lower()\n",
        "  s_check = s1[::-1]\n",
        "  if (s1 == s_check):\n",
        "    return True\n",
        "  return False\n",
        "\n",
        "print(is_palindrome(\"ppipp\"))\n",
        "print(is_palindrome(\"hongyen\"))\n",
        "\n"
      ],
      "metadata": {
        "colab": {
          "base_uri": "https://localhost:8080/"
        },
        "id": "kd5fU0FBFZGR",
        "outputId": "e2828fdd-cedc-459d-b5e9-e7378f75d8f1"
      },
      "execution_count": null,
      "outputs": [
        {
          "output_type": "stream",
          "name": "stdout",
          "text": [
            "True\n",
            "False\n"
          ]
        }
      ]
    },
    {
      "cell_type": "code",
      "source": [
        "# Bài 40: Viết chương trình nhập email và kiểm tra có chứa ký tự \"@\" hay không.\n",
        "def check(email):\n",
        "  for i in email:\n",
        "    if i == \"@\":\n",
        "      return True\n",
        "  return False\n",
        "\n",
        "check(\"Xin chao, toi den tu JobsGo\")"
      ],
      "metadata": {
        "colab": {
          "base_uri": "https://localhost:8080/"
        },
        "id": "LCUJUh1GGQGS",
        "outputId": "bbba4a3a-3dc9-40b3-de72-12872d3632f4"
      },
      "execution_count": null,
      "outputs": [
        {
          "output_type": "execute_result",
          "data": {
            "text/plain": [
              "False"
            ]
          },
          "metadata": {},
          "execution_count": 115
        }
      ]
    },
    {
      "cell_type": "code",
      "source": [
        "# Bài 41: Viết chương trình nhập số điện thoại và kiểm tra có đúng 10 chữ số không.\n",
        "def check_phone_number(num):\n",
        "  if(not num.isnumeric()):\n",
        "    return False\n",
        "  else:\n",
        "     num_length = len(num)\n",
        "     if (num_length == 10):\n",
        "      return True\n",
        "     return False\n",
        "\n",
        "print(check_phone_number(\"0387010307\"))\n",
        "print(check_phone_number(\"pi\"))\n",
        "print(check_phone_number(\"0387010307977\"))\n",
        "\n"
      ],
      "metadata": {
        "colab": {
          "base_uri": "https://localhost:8080/"
        },
        "id": "hS5JPjxnJkfc",
        "outputId": "d2d2ee36-2399-4793-ea3a-508625bd0206"
      },
      "execution_count": null,
      "outputs": [
        {
          "output_type": "stream",
          "name": "stdout",
          "text": [
            "True\n",
            "False\n",
            "False\n"
          ]
        }
      ]
    },
    {
      "cell_type": "code",
      "source": [
        "# Bài 42: Viết chương trình nhập mật khẩu, kiểm tra có chứa ít nhất một chữ hoa, một chữ\n",
        "# thường, một số và một ký tự đặc biệt.\n",
        "password = input(\"Nhập mật khẩu: \")\n",
        "\n",
        "has_upper = False\n",
        "has_lower = False\n",
        "has_digit = False\n",
        "has_special = False\n",
        "\n",
        "special_chars = \"!@#$%^&*()-_=+[{]}\\|;:'\\\",<.>/?`~\"\n",
        "\n",
        "for ch in password:\n",
        "    if ch.isupper():\n",
        "        has_upper = True\n",
        "    elif ch.islower():\n",
        "        has_lower = True\n",
        "    elif ch.isdigit():\n",
        "        has_digit = True\n",
        "    elif ch in special_chars:\n",
        "        has_special = True\n",
        "\n",
        "if has_upper and has_lower and has_digit and has_special:\n",
        "    print(\"Mật khẩu hợp lệ\")\n",
        "else:\n",
        "    print(\"Mật khẩu chưa hợp lệ.\")\n",
        "    print(\"Yêu cầu: ít nhất 1 chữ hoa, 1 chữ thường, 1 số và 1 ký tự đặc biệt.\")"
      ],
      "metadata": {
        "id": "PQFZTKIoK8Ih",
        "colab": {
          "base_uri": "https://localhost:8080/"
        },
        "outputId": "9c7cb869-edca-43ba-ddff-a9e9068e6dab"
      },
      "execution_count": 2,
      "outputs": [
        {
          "output_type": "stream",
          "name": "stderr",
          "text": [
            "<>:10: SyntaxWarning: invalid escape sequence '\\|'\n",
            "<>:10: SyntaxWarning: invalid escape sequence '\\|'\n",
            "/tmp/ipython-input-117786476.py:10: SyntaxWarning: invalid escape sequence '\\|'\n",
            "  special_chars = \"!@#$%^&*()-_=+[{]}\\|;:'\\\",<.>/?`~\"\n"
          ]
        },
        {
          "output_type": "stream",
          "name": "stdout",
          "text": [
            "Nhập mật khẩu: 14022005@\n",
            "Mật khẩu chưa hợp lệ.\n",
            "Yêu cầu: ít nhất 1 chữ hoa, 1 chữ thường, 1 số và 1 ký tự đặc biệt.\n"
          ]
        }
      ]
    },
    {
      "cell_type": "code",
      "metadata": {
        "colab": {
          "base_uri": "https://localhost:8080/"
        },
        "id": "57e1be39",
        "outputId": "23e75660-ab89-4ae6-9162-cf1430fdbbb0"
      },
      "source": [
        "# Bài 43: Viết chương trình in ra tất cả các ký tự khác nhau trong một chuỗi.\n",
        "def unique_chars(string):\n",
        "  return set(string)\n",
        "\n",
        "print(unique_chars(\"programming\"))"
      ],
      "execution_count": 3,
      "outputs": [
        {
          "output_type": "stream",
          "name": "stdout",
          "text": [
            "{'r', 'm', 'g', 'a', 'n', 'o', 'i', 'p'}\n"
          ]
        }
      ]
    },
    {
      "cell_type": "code",
      "metadata": {
        "colab": {
          "base_uri": "https://localhost:8080/"
        },
        "id": "352756f6",
        "outputId": "88fd44f4-2882-4600-ae04-338982252968"
      },
      "source": [
        "# Bài 44: Viết chương trình chuẩn hóa tên (viết hoa chữ cái đầu mỗi từ).\n",
        "def normalize_name(name):\n",
        "  return name.title()\n",
        "\n",
        "print(normalize_name(\"nguyen hong yen\"))"
      ],
      "execution_count": 4,
      "outputs": [
        {
          "output_type": "stream",
          "name": "stdout",
          "text": [
            "Nguyen Hong Yen\n"
          ]
        }
      ]
    },
    {
      "cell_type": "code",
      "metadata": {
        "colab": {
          "base_uri": "https://localhost:8080/"
        },
        "id": "24914b19",
        "outputId": "dfe26820-1ce8-4216-ee30-f109e0018ae3"
      },
      "source": [
        "# Bài 45: Viết chương trình nhập chuỗi và in ra chuỗi sau khi bỏ các ký tự trùng lặp.\n",
        "def remove_duplicates(string):\n",
        "  seen = set()\n",
        "  result = []\n",
        "  for char in string:\n",
        "    if char not in seen:\n",
        "      seen.add(char)\n",
        "      result.append(char)\n",
        "  return \"\".join(result)\n",
        "\n",
        "print(remove_duplicates(\"programming\"))"
      ],
      "execution_count": 5,
      "outputs": [
        {
          "output_type": "stream",
          "name": "stdout",
          "text": [
            "progamin\n"
          ]
        }
      ]
    },
    {
      "cell_type": "code",
      "metadata": {
        "colab": {
          "base_uri": "https://localhost:8080/"
        },
        "id": "33bc69c0",
        "outputId": "aa04d97f-a5ff-46d0-9e63-0d9ae1a6ab50"
      },
      "source": [
        "# Bài 46: Viết chương trình in ra tất cả các chuỗi con (substring) của một chuỗi.\n",
        "def print_substrings(string):\n",
        "  n = len(string)\n",
        "  for i in range(n):\n",
        "    for j in range(i, n):\n",
        "      print(string[i:j+1])\n",
        "\n",
        "print_substrings(\"abc\")"
      ],
      "execution_count": 6,
      "outputs": [
        {
          "output_type": "stream",
          "name": "stdout",
          "text": [
            "a\n",
            "ab\n",
            "abc\n",
            "b\n",
            "bc\n",
            "c\n"
          ]
        }
      ]
    },
    {
      "cell_type": "code",
      "metadata": {
        "colab": {
          "base_uri": "https://localhost:8080/"
        },
        "id": "c7dc5d61",
        "outputId": "d03bbed1-74a0-4dfb-c826-b3ba920a21c9"
      },
      "source": [
        "# Bài 47: Viết chương trình mã hóa chuỗi theo quy tắc thay mỗi ký tự bằng ký tự kế tiếp\n",
        "# trong bảng ASCII.\n",
        "def encode_string(string):\n",
        "  encoded_list = [chr(ord(char) + 1) for char in string]\n",
        "  return \"\".join(encoded_list)\n",
        "\n",
        "print(encode_string(\"abc\"))"
      ],
      "execution_count": 7,
      "outputs": [
        {
          "output_type": "stream",
          "name": "stdout",
          "text": [
            "bcd\n"
          ]
        }
      ]
    },
    {
      "cell_type": "code",
      "metadata": {
        "colab": {
          "base_uri": "https://localhost:8080/"
        },
        "id": "54ec6f02",
        "outputId": "60f81485-f802-46e0-fe31-ca8d4dfae6d9"
      },
      "source": [
        "# Bài 48: Viết chương trình giải mã chuỗi đã mã hóa theo quy tắc trên.\n",
        "def decode_string(string):\n",
        "  decoded_list = [chr(ord(char) - 1) for char in string]\n",
        "  return \"\".join(decoded_list)\n",
        "\n",
        "print(decode_string(\"bcd\"))"
      ],
      "execution_count": 8,
      "outputs": [
        {
          "output_type": "stream",
          "name": "stdout",
          "text": [
            "abc\n"
          ]
        }
      ]
    },
    {
      "cell_type": "code",
      "metadata": {
        "colab": {
          "base_uri": "https://localhost:8080/"
        },
        "id": "23c2b5ef",
        "outputId": "02c0b447-9794-4705-a86b-871557bbeae5"
      },
      "source": [
        "# Bài 49: Viết chương trình nhập danh sách các chuỗi và sắp xếp theo thứ tự bảng chữ cái.\n",
        "def sort_strings(string_list):\n",
        "  string_list.sort()\n",
        "  return string_list\n",
        "\n",
        "my_list = [\"banana\", \"apple\", \"cherry\"]\n",
        "print(sort_strings(my_list))"
      ],
      "execution_count": 9,
      "outputs": [
        {
          "output_type": "stream",
          "name": "stdout",
          "text": [
            "['apple', 'banana', 'cherry']\n"
          ]
        }
      ]
    },
    {
      "cell_type": "code",
      "metadata": {
        "colab": {
          "base_uri": "https://localhost:8080/"
        },
        "id": "43d5ec03",
        "outputId": "9e036181-a5ea-403e-f006-0713b1f6d648"
      },
      "source": [
        "# Bài 50: Viết chương trình nhập chuỗi và đếm tần suất xuất hiện của từng ký tự.\n",
        "def count_char_frequency(string):\n",
        "  frequency = {}\n",
        "  for char in string:\n",
        "    if char in frequency:\n",
        "      frequency[char] += 1\n",
        "    else:\n",
        "      frequency[char] = 1\n",
        "  return frequency\n",
        "\n",
        "print(count_char_frequency(\"programming\"))"
      ],
      "execution_count": 10,
      "outputs": [
        {
          "output_type": "stream",
          "name": "stdout",
          "text": [
            "{'p': 1, 'r': 2, 'o': 1, 'g': 2, 'a': 1, 'm': 2, 'i': 1, 'n': 1}\n"
          ]
        }
      ]
    },
    {
      "cell_type": "markdown",
      "source": [
        "# Bài số 7: Danh sách trong Python - Python Lists"
      ],
      "metadata": {
        "id": "VQCp8DdFZxJV"
      }
    },
    {
      "cell_type": "markdown",
      "source": [
        "## Phần A. Bài tập Nhận biết và Ghi nhớ (30 câu)"
      ],
      "metadata": {
        "id": "KDXdPyvwZ2ZK"
      }
    },
    {
      "cell_type": "code",
      "source": [],
      "metadata": {
        "id": "w0yw5MCuZ7Gl"
      },
      "execution_count": null,
      "outputs": []
    },
    {
      "cell_type": "code",
      "metadata": {
        "colab": {
          "base_uri": "https://localhost:8080/"
        },
        "id": "055c5655",
        "outputId": "a94c4fca-c587-4c92-d1ab-775016c0d112"
      },
      "source": [
        "# Bài 1: Tạo một list fruits gồm: [\"apple\", \"banana\", \"cherry\"] và in ra màn hình.\n",
        "fruits = [\"apple\", \"banana\", \"cherry\"]\n",
        "print(fruits)"
      ],
      "execution_count": 11,
      "outputs": [
        {
          "output_type": "stream",
          "name": "stdout",
          "text": [
            "['apple', 'banana', 'cherry']\n"
          ]
        }
      ]
    },
    {
      "cell_type": "code",
      "metadata": {
        "colab": {
          "base_uri": "https://localhost:8080/"
        },
        "id": "a3e96b92",
        "outputId": "f5738f75-0112-4486-9b12-fc7dc087a274"
      },
      "source": [
        "# Bài 2: In ra phần tử đầu tiên của list fruits.\n",
        "fruits = [\"apple\", \"banana\", \"cherry\"]\n",
        "print(fruits[0])"
      ],
      "execution_count": 12,
      "outputs": [
        {
          "output_type": "stream",
          "name": "stdout",
          "text": [
            "apple\n"
          ]
        }
      ]
    },
    {
      "cell_type": "code",
      "metadata": {
        "colab": {
          "base_uri": "https://localhost:8080/"
        },
        "id": "8f6fdb93",
        "outputId": "6fe107f9-6fef-4088-9c6f-dc251b8e2fb6"
      },
      "source": [
        "# Bài 3: In ra phần tử cuối cùng của list fruits.\n",
        "fruits = [\"apple\", \"banana\", \"cherry\"]\n",
        "print(fruits[-1])"
      ],
      "execution_count": 13,
      "outputs": [
        {
          "output_type": "stream",
          "name": "stdout",
          "text": [
            "cherry\n"
          ]
        }
      ]
    },
    {
      "cell_type": "code",
      "metadata": {
        "colab": {
          "base_uri": "https://localhost:8080/"
        },
        "id": "2748db63",
        "outputId": "f7243fba-22c8-42d2-b705-85cc1dd03160"
      },
      "source": [
        "# Bài 4: Dùng chỉ số âm để in phần tử \"banana\" trong list.\n",
        "fruits = [\"apple\", \"banana\", \"cherry\"]\n",
        "print(fruits[-2])"
      ],
      "execution_count": 14,
      "outputs": [
        {
          "output_type": "stream",
          "name": "stdout",
          "text": [
            "banana\n"
          ]
        }
      ]
    },
    {
      "cell_type": "code",
      "metadata": {
        "colab": {
          "base_uri": "https://localhost:8080/"
        },
        "id": "36452992",
        "outputId": "9b691119-d99d-4d22-8d6e-9efb76bfd85c"
      },
      "source": [
        "# Bài 5: Thay đổi phần tử thứ hai của list fruits thành \"mango\".\n",
        "fruits = [\"apple\", \"banana\", \"cherry\"]\n",
        "fruits[1] = \"mango\"\n",
        "print(fruits)"
      ],
      "execution_count": 15,
      "outputs": [
        {
          "output_type": "stream",
          "name": "stdout",
          "text": [
            "['apple', 'mango', 'cherry']\n"
          ]
        }
      ]
    },
    {
      "cell_type": "code",
      "metadata": {
        "colab": {
          "base_uri": "https://localhost:8080/"
        },
        "id": "e094d79b",
        "outputId": "5b7b8d57-a914-4df0-b489-3fda16e3600e"
      },
      "source": [
        "# Bài 6: Thêm phần tử \"orange\" vào cuối list bằng append().\n",
        "fruits = [\"apple\", \"banana\", \"cherry\"]\n",
        "fruits.append(\"orange\")\n",
        "print(fruits)"
      ],
      "execution_count": 16,
      "outputs": [
        {
          "output_type": "stream",
          "name": "stdout",
          "text": [
            "['apple', 'banana', 'cherry', 'orange']\n"
          ]
        }
      ]
    },
    {
      "cell_type": "code",
      "metadata": {
        "colab": {
          "base_uri": "https://localhost:8080/"
        },
        "id": "067f4ea9",
        "outputId": "3de37bd2-2266-481b-f1a2-7673cb5ec0b3"
      },
      "source": [
        "# Bài 7: Thêm phần tử \"kiwi\" vào vị trí thứ hai bằng insert().\n",
        "fruits = [\"apple\", \"banana\", \"cherry\"]\n",
        "fruits.insert(1, \"kiwi\")\n",
        "print(fruits)"
      ],
      "execution_count": 17,
      "outputs": [
        {
          "output_type": "stream",
          "name": "stdout",
          "text": [
            "['apple', 'kiwi', 'banana', 'cherry']\n"
          ]
        }
      ]
    },
    {
      "cell_type": "code",
      "metadata": {
        "colab": {
          "base_uri": "https://localhost:8080/"
        },
        "id": "39f4b4ed",
        "outputId": "609dc9d8-dd0d-4f55-b719-1b6527a2454e"
      },
      "source": [
        "# Bài 8: Xóa phần tử cuối cùng của list bằng pop().\n",
        "fruits = [\"apple\", \"banana\", \"cherry\"]\n",
        "fruits.pop()\n",
        "print(fruits)"
      ],
      "execution_count": 18,
      "outputs": [
        {
          "output_type": "stream",
          "name": "stdout",
          "text": [
            "['apple', 'banana']\n"
          ]
        }
      ]
    },
    {
      "cell_type": "code",
      "metadata": {
        "colab": {
          "base_uri": "https://localhost:8080/"
        },
        "id": "29a6d14a",
        "outputId": "1feb2846-aad2-42f8-b22e-4cb9ab7a0ec4"
      },
      "source": [
        "# Bài 9: Xóa phần tử \"apple\" bằng remove().\n",
        "fruits = [\"apple\", \"banana\", \"cherry\"]\n",
        "fruits.remove(\"apple\")\n",
        "print(fruits)"
      ],
      "execution_count": 19,
      "outputs": [
        {
          "output_type": "stream",
          "name": "stdout",
          "text": [
            "['banana', 'cherry']\n"
          ]
        }
      ]
    },
    {
      "cell_type": "code",
      "metadata": {
        "colab": {
          "base_uri": "https://localhost:8080/"
        },
        "id": "dfc473b4",
        "outputId": "bee0fffa-7890-4ab7-c860-687f72ea3566"
      },
      "source": [
        "# Bài 10: Tạo một list số nguyên từ 1 đến 5 và in ra.\n",
        "numbers = [1, 2, 3, 4, 5]\n",
        "print(numbers)"
      ],
      "execution_count": 20,
      "outputs": [
        {
          "output_type": "stream",
          "name": "stdout",
          "text": [
            "[1, 2, 3, 4, 5]\n"
          ]
        }
      ]
    },
    {
      "cell_type": "code",
      "source": [
        "\n"
      ],
      "metadata": {
        "id": "0TzPR1hiY2Ph"
      },
      "execution_count": null,
      "outputs": []
    },
    {
      "cell_type": "code",
      "metadata": {
        "colab": {
          "base_uri": "https://localhost:8080/"
        },
        "id": "c6821895",
        "outputId": "86508ea8-4ad5-42c1-a801-4cb705a41994"
      },
      "source": [
        "# Bài 11: Duyệt list số nguyên bằng vòng lặp for và in từng phần tử.\n",
        "numbers = [1, 2, 3, 4, 5]\n",
        "for number in numbers:\n",
        "  print(number)"
      ],
      "execution_count": 21,
      "outputs": [
        {
          "output_type": "stream",
          "name": "stdout",
          "text": [
            "1\n",
            "2\n",
            "3\n",
            "4\n",
            "5\n"
          ]
        }
      ]
    },
    {
      "cell_type": "code",
      "metadata": {
        "colab": {
          "base_uri": "https://localhost:8080/"
        },
        "id": "57550d32",
        "outputId": "d232c953-83dc-4f4a-93e6-28fc20b90870"
      },
      "source": [
        "# Bài 12: Duyệt list số nguyên bằng vòng lặp while.\n",
        "numbers = [1, 2, 3, 4, 5]\n",
        "i = 0\n",
        "while i < len(numbers):\n",
        "  print(numbers[i])\n",
        "  i += 1"
      ],
      "execution_count": 22,
      "outputs": [
        {
          "output_type": "stream",
          "name": "stdout",
          "text": [
            "1\n",
            "2\n",
            "3\n",
            "4\n",
            "5\n"
          ]
        }
      ]
    },
    {
      "cell_type": "code",
      "metadata": {
        "colab": {
          "base_uri": "https://localhost:8080/"
        },
        "id": "f94f5b47",
        "outputId": "2eea11b9-a212-47e9-a558-2442f850e673"
      },
      "source": [
        "# Bài 13: Sử dụng cú pháp for ... in range() để in chỉ số và phần tử.\n",
        "fruits = [\"apple\", \"banana\", \"cherry\"]\n",
        "for i in range(len(fruits)):\n",
        "  print(f\"Index: {i}, Element: {fruits[i]}\")"
      ],
      "execution_count": 23,
      "outputs": [
        {
          "output_type": "stream",
          "name": "stdout",
          "text": [
            "Index: 0, Element: apple\n",
            "Index: 1, Element: banana\n",
            "Index: 2, Element: cherry\n"
          ]
        }
      ]
    },
    {
      "cell_type": "code",
      "metadata": {
        "colab": {
          "base_uri": "https://localhost:8080/"
        },
        "id": "0f1cf8b1",
        "outputId": "ea01c4a0-7c98-4374-839e-92a6b4f28f53"
      },
      "source": [
        "# Bài 14: Sử dụng list comprehension để tạo list bình phương các số từ 1 đến 5.\n",
        "squares = [x**2 for x in range(1, 6)]\n",
        "print(squares)"
      ],
      "execution_count": 24,
      "outputs": [
        {
          "output_type": "stream",
          "name": "stdout",
          "text": [
            "[1, 4, 9, 16, 25]\n"
          ]
        }
      ]
    },
    {
      "cell_type": "code",
      "metadata": {
        "colab": {
          "base_uri": "https://localhost:8080/"
        },
        "id": "338f2524",
        "outputId": "36a8a5e9-63ec-4cd2-aae0-5583d3fc4b67"
      },
      "source": [
        "# Bài 15: Sử dụng list comprehension để tạo list gồm các số chẵn từ 1 đến 20.\n",
        "evens = [x for x in range(1, 21) if x % 2 == 0]\n",
        "print(evens)"
      ],
      "execution_count": 25,
      "outputs": [
        {
          "output_type": "stream",
          "name": "stdout",
          "text": [
            "[2, 4, 6, 8, 10, 12, 14, 16, 18, 20]\n"
          ]
        }
      ]
    },
    {
      "cell_type": "code",
      "metadata": {
        "colab": {
          "base_uri": "https://localhost:8080/"
        },
        "id": "0988b217",
        "outputId": "e65ffb27-83ad-44d0-db7b-f58b7f8e242e"
      },
      "source": [
        "# Bài 16: Sắp xếp list số nguyên theo thứ tự tăng dần bằng sort().\n",
        "numbers = [5, 2, 8, 1, 9]\n",
        "numbers.sort()\n",
        "print(numbers)"
      ],
      "execution_count": 26,
      "outputs": [
        {
          "output_type": "stream",
          "name": "stdout",
          "text": [
            "[1, 2, 5, 8, 9]\n"
          ]
        }
      ]
    },
    {
      "cell_type": "code",
      "metadata": {
        "colab": {
          "base_uri": "https://localhost:8080/"
        },
        "id": "95ec8621",
        "outputId": "c8ae30eb-4f90-40b4-9aa0-92c40b1dbb50"
      },
      "source": [
        "# Bài 17: Sắp xếp list số nguyên theo thứ tự giảm dần.\n",
        "numbers = [5, 2, 8, 1, 9]\n",
        "numbers.sort(reverse=True)\n",
        "print(numbers)"
      ],
      "execution_count": 27,
      "outputs": [
        {
          "output_type": "stream",
          "name": "stdout",
          "text": [
            "[9, 8, 5, 2, 1]\n"
          ]
        }
      ]
    },
    {
      "cell_type": "code",
      "metadata": {
        "colab": {
          "base_uri": "https://localhost:8080/"
        },
        "id": "dfe18334",
        "outputId": "858469af-3d01-479a-e9fb-f02906040f8e"
      },
      "source": [
        "# Bài 18: Tạo một bản sao của list số nguyên bằng copy().\n",
        "original_list = [1, 2, 3]\n",
        "copied_list = original_list.copy()\n",
        "print(copied_list)"
      ],
      "execution_count": 28,
      "outputs": [
        {
          "output_type": "stream",
          "name": "stdout",
          "text": [
            "[1, 2, 3]\n"
          ]
        }
      ]
    },
    {
      "cell_type": "code",
      "metadata": {
        "colab": {
          "base_uri": "https://localhost:8080/"
        },
        "id": "38e8d7e3",
        "outputId": "3c11c859-7945-4dbc-f9d0-5d003ffdb40e"
      },
      "source": [
        "# Bài 19: Tạo một bản sao của list số nguyên bằng list().\n",
        "original_list = [1, 2, 3]\n",
        "copied_list = list(original_list)\n",
        "print(copied_list)"
      ],
      "execution_count": 29,
      "outputs": [
        {
          "output_type": "stream",
          "name": "stdout",
          "text": [
            "[1, 2, 3]\n"
          ]
        }
      ]
    },
    {
      "cell_type": "code",
      "metadata": {
        "colab": {
          "base_uri": "https://localhost:8080/"
        },
        "id": "b8e0b50c",
        "outputId": "366c0b0b-1b0d-4971-c87a-b82501cc1ddb"
      },
      "source": [
        "# Bài 20: Nối hai list [1,2,3] và [4,5,6] lại với nhau bằng phép cộng.\n",
        "list1 = [1, 2, 3]\n",
        "list2 = [4, 5, 6]\n",
        "combined_list = list1 + list2\n",
        "print(combined_list)"
      ],
      "execution_count": 30,
      "outputs": [
        {
          "output_type": "stream",
          "name": "stdout",
          "text": [
            "[1, 2, 3, 4, 5, 6]\n"
          ]
        }
      ]
    },
    {
      "cell_type": "code",
      "metadata": {
        "colab": {
          "base_uri": "https://localhost:8080/"
        },
        "id": "8f3493dc",
        "outputId": "f88a54ec-8bea-447b-cf58-c3ca742ebec4"
      },
      "source": [
        "# Bài 21: Nối hai list bằng extend().\n",
        "list1 = [1, 2, 3]\n",
        "list2 = [4, 5, 6]\n",
        "list1.extend(list2)\n",
        "print(list1)"
      ],
      "execution_count": 31,
      "outputs": [
        {
          "output_type": "stream",
          "name": "stdout",
          "text": [
            "[1, 2, 3, 4, 5, 6]\n"
          ]
        }
      ]
    },
    {
      "cell_type": "code",
      "metadata": {
        "colab": {
          "base_uri": "https://localhost:8080/"
        },
        "id": "636c7e58",
        "outputId": "6ea999ce-f7d1-401a-aec6-a01eacf5a9a0"
      },
      "source": [
        "# Bài 22: Đếm số lần xuất hiện của phần tử \"banana\" trong list.\n",
        "fruits = [\"apple\", \"banana\", \"cherry\", \"banana\"]\n",
        "count = fruits.count(\"banana\")\n",
        "print(count)"
      ],
      "execution_count": 32,
      "outputs": [
        {
          "output_type": "stream",
          "name": "stdout",
          "text": [
            "2\n"
          ]
        }
      ]
    },
    {
      "cell_type": "code",
      "metadata": {
        "colab": {
          "base_uri": "https://localhost:8080/"
        },
        "id": "cc40a084",
        "outputId": "e7f53c7c-a19b-450f-aa63-19a1ce434a2e"
      },
      "source": [
        "# Bài 23: Tìm chỉ số đầu tiên của phần tử \"cherry\" trong list.\n",
        "fruits = [\"apple\", \"banana\", \"cherry\", \"banana\"]\n",
        "index = fruits.index(\"cherry\")\n",
        "print(index)"
      ],
      "execution_count": 33,
      "outputs": [
        {
          "output_type": "stream",
          "name": "stdout",
          "text": [
            "2\n"
          ]
        }
      ]
    },
    {
      "cell_type": "code",
      "metadata": {
        "colab": {
          "base_uri": "https://localhost:8080/"
        },
        "id": "45dbb4a5",
        "outputId": "816ae665-165c-4ac1-90e3-6d9c51801e4d"
      },
      "source": [
        "# Bài 24: Kiểm tra xem \"apple\" có trong list không, kết quả trả về True/False.\n",
        "fruits = [\"apple\", \"banana\", \"cherry\"]\n",
        "print(\"apple\" in fruits)"
      ],
      "execution_count": 34,
      "outputs": [
        {
          "output_type": "stream",
          "name": "stdout",
          "text": [
            "True\n"
          ]
        }
      ]
    },
    {
      "cell_type": "code",
      "metadata": {
        "colab": {
          "base_uri": "https://localhost:8080/"
        },
        "id": "ae0cb46c",
        "outputId": "bf9e135e-6817-4154-f731-c172f7bebfa9"
      },
      "source": [
        "# Bài 25: Sử dụng clear() để xóa tất cả phần tử trong list.\n",
        "fruits = [\"apple\", \"banana\", \"cherry\"]\n",
        "fruits.clear()\n",
        "print(fruits)"
      ],
      "execution_count": 35,
      "outputs": [
        {
          "output_type": "stream",
          "name": "stdout",
          "text": [
            "[]\n"
          ]
        }
      ]
    },
    {
      "cell_type": "code",
      "metadata": {
        "colab": {
          "base_uri": "https://localhost:8080/"
        },
        "id": "6fafdc4f",
        "outputId": "59bb1ed7-e05f-4d4a-b562-fddfe42984cc"
      },
      "source": [
        "# Bài 26: Tạo một list chứa 5 chuỗi bất kỳ và in độ dài từng chuỗi.\n",
        "string_list = [\"python\", \"java\", \"c++\", \"javascript\", \"html\"]\n",
        "for s in string_list:\n",
        "  print(len(s))"
      ],
      "execution_count": 36,
      "outputs": [
        {
          "output_type": "stream",
          "name": "stdout",
          "text": [
            "6\n",
            "4\n",
            "3\n",
            "10\n",
            "4\n"
          ]
        }
      ]
    },
    {
      "cell_type": "code",
      "metadata": {
        "colab": {
          "base_uri": "https://localhost:8080/"
        },
        "id": "1e083a06",
        "outputId": "9c6a8d90-0b89-465f-b944-2d1e57012b12"
      },
      "source": [
        "# Bài 27: Tạo một list chứa số thực và in ra tổng các phần tử.\n",
        "float_list = [1.1, 2.2, 3.3, 4.4]\n",
        "total = sum(float_list)\n",
        "print(total)"
      ],
      "execution_count": 37,
      "outputs": [
        {
          "output_type": "stream",
          "name": "stdout",
          "text": [
            "11.0\n"
          ]
        }
      ]
    },
    {
      "cell_type": "code",
      "metadata": {
        "colab": {
          "base_uri": "https://localhost:8080/"
        },
        "id": "26b1fc79",
        "outputId": "b0e13d9e-fe1d-4fc4-e53d-fbfb9ceab696"
      },
      "source": [
        "# Bài 28: Tạo một list số nguyên bất kỳ, in ra giá trị lớn nhất và nhỏ nhất.\n",
        "numbers = [10, 5, 20, 2, 15]\n",
        "print(f\"Max: {max(numbers)}\")\n",
        "print(f\"Min: {min(numbers)}\")"
      ],
      "execution_count": 38,
      "outputs": [
        {
          "output_type": "stream",
          "name": "stdout",
          "text": [
            "Max: 20\n",
            "Min: 2\n"
          ]
        }
      ]
    },
    {
      "cell_type": "code",
      "metadata": {
        "colab": {
          "base_uri": "https://localhost:8080/"
        },
        "id": "e939a017",
        "outputId": "45834494-caa6-4a59-a161-a70958223762"
      },
      "source": [
        "# Bài 29: Tạo một list số nguyên bất kỳ, in ra độ dài list bằng len().\n",
        "numbers = [10, 5, 20, 2, 15]\n",
        "print(len(numbers))"
      ],
      "execution_count": 39,
      "outputs": [
        {
          "output_type": "stream",
          "name": "stdout",
          "text": [
            "5\n"
          ]
        }
      ]
    },
    {
      "cell_type": "code",
      "metadata": {
        "colab": {
          "base_uri": "https://localhost:8080/"
        },
        "id": "dfd47d06",
        "outputId": "21d0a54f-ff28-437e-9cc0-4214e4a71d8e"
      },
      "source": [
        "# Bài 30: Sử dụng reverse() để đảo ngược thứ tự các phần tử trong list.\n",
        "numbers = [1, 2, 3, 4, 5]\n",
        "numbers.reverse()\n",
        "print(numbers)"
      ],
      "execution_count": 40,
      "outputs": [
        {
          "output_type": "stream",
          "name": "stdout",
          "text": [
            "[5, 4, 3, 2, 1]\n"
          ]
        }
      ]
    },
    {
      "cell_type": "markdown",
      "source": [
        "## Phần B. Bài tập Vận dụng (20 câu)"
      ],
      "metadata": {
        "id": "CylxBHg3bQux"
      }
    },
    {
      "cell_type": "code",
      "source": [],
      "metadata": {
        "id": "jBgVWfg5bSGN"
      },
      "execution_count": null,
      "outputs": []
    },
    {
      "cell_type": "code",
      "metadata": {
        "colab": {
          "base_uri": "https://localhost:8080/"
        },
        "id": "f2dbe6b2",
        "outputId": "ba1f076b-f63f-4a02-8acf-b3935ed93bca"
      },
      "source": [
        "# Bài 1: Viết chương trình nhập vào 5 số nguyên từ bàn phím, lưu vào list và in ra list.\n",
        "numbers = []\n",
        "for i in range(5):\n",
        "    num = int(input(f\"Nhập số nguyên thứ {i+1}: \"))\n",
        "    numbers.append(num)\n",
        "print(numbers)"
      ],
      "execution_count": 41,
      "outputs": [
        {
          "output_type": "stream",
          "name": "stdout",
          "text": [
            "Nhập số nguyên thứ 1: 5\n",
            "Nhập số nguyên thứ 2: 6\n",
            "Nhập số nguyên thứ 3: 67\n",
            "Nhập số nguyên thứ 4: 34\n",
            "Nhập số nguyên thứ 5: 1\n",
            "[5, 6, 67, 34, 1]\n"
          ]
        }
      ]
    },
    {
      "cell_type": "code",
      "metadata": {
        "colab": {
          "base_uri": "https://localhost:8080/"
        },
        "id": "812db01c",
        "outputId": "907d59bf-1ccb-4e87-9b4c-3041920867cf"
      },
      "source": [
        "# Bài 2: Viết chương trình nhập vào một list số nguyên, tính và in ra trung bình cộng.\n",
        "numbers = [10, 20, 30, 40, 50]\n",
        "average = sum(numbers) / len(numbers)\n",
        "print(f\"Trung bình cộng: {average}\")"
      ],
      "execution_count": 42,
      "outputs": [
        {
          "output_type": "stream",
          "name": "stdout",
          "text": [
            "Trung bình cộng: 30.0\n"
          ]
        }
      ]
    },
    {
      "cell_type": "code",
      "metadata": {
        "colab": {
          "base_uri": "https://localhost:8080/"
        },
        "id": "8f33953c",
        "outputId": "1b821661-49b1-4b0c-ae8f-9765cdbd3b8d"
      },
      "source": [
        "# Bài 3: Viết chương trình nhập vào một list số nguyên, in ra các số lẻ.\n",
        "numbers = [1, 2, 3, 4, 5, 6, 7, 8, 9, 10]\n",
        "odd_numbers = [num for num in numbers if num % 2 != 0]\n",
        "print(f\"Các số lẻ: {odd_numbers}\")"
      ],
      "execution_count": 43,
      "outputs": [
        {
          "output_type": "stream",
          "name": "stdout",
          "text": [
            "Các số lẻ: [1, 3, 5, 7, 9]\n"
          ]
        }
      ]
    },
    {
      "cell_type": "code",
      "metadata": {
        "colab": {
          "base_uri": "https://localhost:8080/"
        },
        "id": "d4503d3d",
        "outputId": "2a0f94e3-29d2-4bac-a353-276a117497b9"
      },
      "source": [
        "# Bài 4: Viết chương trình nhập vào một list số nguyên, in ra các số nguyên tố.\n",
        "def is_prime(n):\n",
        "    if n < 2:\n",
        "        return False\n",
        "    for i in range(2, int(n**0.5) + 1):\n",
        "        if n % i == 0:\n",
        "            return False\n",
        "    return True\n",
        "\n",
        "numbers = [2, 3, 4, 5, 6, 7, 8, 9, 10]\n",
        "prime_numbers = [num for num in numbers if is_prime(num)]\n",
        "print(f\"Các số nguyên tố: {prime_numbers}\")"
      ],
      "execution_count": 44,
      "outputs": [
        {
          "output_type": "stream",
          "name": "stdout",
          "text": [
            "Các số nguyên tố: [2, 3, 5, 7]\n"
          ]
        }
      ]
    },
    {
      "cell_type": "code",
      "metadata": {
        "colab": {
          "base_uri": "https://localhost:8080/"
        },
        "id": "94589f29",
        "outputId": "19a11dcb-b904-4c99-c05e-f7c2043b94d6"
      },
      "source": [
        "# Bài 5: Viết chương trình nhập vào một list số nguyên, in ra các số lớn hơn giá trị trung bình.\n",
        "numbers = [10, 20, 30, 40, 50]\n",
        "average = sum(numbers) / len(numbers)\n",
        "greater_than_average = [num for num in numbers if num > average]\n",
        "print(f\"Các số lớn hơn trung bình ({average}): {greater_than_average}\")"
      ],
      "execution_count": 45,
      "outputs": [
        {
          "output_type": "stream",
          "name": "stdout",
          "text": [
            "Các số lớn hơn trung bình (30.0): [40, 50]\n"
          ]
        }
      ]
    },
    {
      "cell_type": "code",
      "metadata": {
        "colab": {
          "base_uri": "https://localhost:8080/"
        },
        "id": "e51117d2",
        "outputId": "fb39de38-e56a-4a61-d1b8-925fa2eb4d58"
      },
      "source": [
        "# Bài 6: Viết chương trình nhập một list chuỗi, in ra chuỗi dài nhất.\n",
        "string_list = [\"apple\", \"banana\", \"cherry\", \"date\"]\n",
        "longest_string = max(string_list, key=len)\n",
        "print(f\"Chuỗi dài nhất: {longest_string}\")"
      ],
      "execution_count": 46,
      "outputs": [
        {
          "output_type": "stream",
          "name": "stdout",
          "text": [
            "Chuỗi dài nhất: banana\n"
          ]
        }
      ]
    },
    {
      "cell_type": "code",
      "metadata": {
        "colab": {
          "base_uri": "https://localhost:8080/"
        },
        "id": "71b57d89",
        "outputId": "52dbe490-24f1-425a-8a8f-82ded3d43363"
      },
      "source": [
        "# Bài 7: Viết chương trình nhập một list chuỗi, in ra chuỗi có nhiều ký tự \"a\" nhất.\n",
        "def count_a(string):\n",
        "    return string.lower().count('a')\n",
        "\n",
        "string_list = [\"apple\", \"banana\", \"cherry\", \"date\"]\n",
        "string_with_most_a = max(string_list, key=count_a)\n",
        "print(f\"Chuỗi có nhiều ký tự 'a' nhất: {string_with_most_a}\")"
      ],
      "execution_count": 47,
      "outputs": [
        {
          "output_type": "stream",
          "name": "stdout",
          "text": [
            "Chuỗi có nhiều ký tự 'a' nhất: banana\n"
          ]
        }
      ]
    },
    {
      "cell_type": "code",
      "metadata": {
        "colab": {
          "base_uri": "https://localhost:8080/"
        },
        "id": "65713df6",
        "outputId": "c1bdc4ea-2b6b-4d08-be01-197a9f9c1215"
      },
      "source": [
        "# Bài 8: Viết chương trình xóa tất cả phần tử trùng lặp trong một list.\n",
        "numbers = [1, 2, 2, 3, 4, 4, 5]\n",
        "unique_numbers = list(set(numbers))\n",
        "print(f\"List sau khi xóa phần tử trùng lặp: {unique_numbers}\")"
      ],
      "execution_count": 48,
      "outputs": [
        {
          "output_type": "stream",
          "name": "stdout",
          "text": [
            "List sau khi xóa phần tử trùng lặp: [1, 2, 3, 4, 5]\n"
          ]
        }
      ]
    },
    {
      "cell_type": "code",
      "metadata": {
        "colab": {
          "base_uri": "https://localhost:8080/"
        },
        "id": "0f5dbf01",
        "outputId": "02ab95cf-0951-491d-d715-e73bbea60861"
      },
      "source": [
        "# Bài 9: Viết chương trình trộn ngẫu nhiên các phần tử trong một list (gợi ý: dùng random.shuffle).\n",
        "import random\n",
        "\n",
        "numbers = [1, 2, 3, 4, 5]\n",
        "random.shuffle(numbers)\n",
        "print(f\"List sau khi trộn ngẫu nhiên: {numbers}\")"
      ],
      "execution_count": 49,
      "outputs": [
        {
          "output_type": "stream",
          "name": "stdout",
          "text": [
            "List sau khi trộn ngẫu nhiên: [2, 4, 5, 3, 1]\n"
          ]
        }
      ]
    },
    {
      "cell_type": "code",
      "metadata": {
        "colab": {
          "base_uri": "https://localhost:8080/"
        },
        "id": "5ba651dc",
        "outputId": "1ca67d73-e3f6-468a-ddc1-cf9453374caa"
      },
      "source": [
        "# Bài 10: Viết chương trình sắp xếp một list chuỗi theo thứ tự từ điển.\n",
        "string_list = [\"banana\", \"apple\", \"cherry\"]\n",
        "string_list.sort()\n",
        "print(f\"List chuỗi sau khi sắp xếp: {string_list}\")"
      ],
      "execution_count": 50,
      "outputs": [
        {
          "output_type": "stream",
          "name": "stdout",
          "text": [
            "List chuỗi sau khi sắp xếp: ['apple', 'banana', 'cherry']\n"
          ]
        }
      ]
    },
    {
      "cell_type": "code",
      "metadata": {
        "colab": {
          "base_uri": "https://localhost:8080/"
        },
        "id": "2683cb3e",
        "outputId": "9317480f-44ec-4d40-90d8-32ae7930beb8"
      },
      "source": [
        "# Bài 11: Viết chương trình tạo list số nguyên từ 1 đến 100, sau đó lọc ra các số chia hết cho 7 bằng list comprehension.\n",
        "numbers = [x for x in range(1, 101) if x % 7 == 0]\n",
        "print(f\"Các số chia hết cho 7: {numbers}\")"
      ],
      "execution_count": 51,
      "outputs": [
        {
          "output_type": "stream",
          "name": "stdout",
          "text": [
            "Các số chia hết cho 7: [7, 14, 21, 28, 35, 42, 49, 56, 63, 70, 77, 84, 91, 98]\n"
          ]
        }
      ]
    },
    {
      "cell_type": "code",
      "metadata": {
        "colab": {
          "base_uri": "https://localhost:8080/"
        },
        "id": "dde4fd8d",
        "outputId": "310fb8ed-b913-4f49-e25d-e53ac3b4515e"
      },
      "source": [
        "# Bài 12: Viết chương trình nối hai list số nguyên, sau đó sắp xếp tăng dần.\n",
        "list1 = [5, 2, 8]\n",
        "list2 = [1, 9, 4]\n",
        "combined_list = list1 + list2\n",
        "combined_list.sort()\n",
        "print(f\"List sau khi nối và sắp xếp: {combined_list}\")"
      ],
      "execution_count": 52,
      "outputs": [
        {
          "output_type": "stream",
          "name": "stdout",
          "text": [
            "List sau khi nối và sắp xếp: [1, 2, 4, 5, 8, 9]\n"
          ]
        }
      ]
    },
    {
      "cell_type": "code",
      "metadata": {
        "colab": {
          "base_uri": "https://localhost:8080/"
        },
        "id": "b7a78318",
        "outputId": "9b3e53b7-4b82-4133-90cf-6c9cc5b30096"
      },
      "source": [
        "# Bài 13: Viết chương trình nhập hai list chuỗi, in ra list các phần tử chung.\n",
        "list1 = [\"apple\", \"banana\", \"cherry\"]\n",
        "list2 = [\"banana\", \"date\", \"cherry\"]\n",
        "common_elements = list(set(list1) & set(list2))\n",
        "print(f\"Các phần tử chung: {common_elements}\")"
      ],
      "execution_count": 53,
      "outputs": [
        {
          "output_type": "stream",
          "name": "stdout",
          "text": [
            "Các phần tử chung: ['cherry', 'banana']\n"
          ]
        }
      ]
    },
    {
      "cell_type": "code",
      "metadata": {
        "colab": {
          "base_uri": "https://localhost:8080/"
        },
        "id": "14c8d40a",
        "outputId": "9160d5a0-58e6-48a7-e413-7df1468c616f"
      },
      "source": [
        "# Bài 14: Viết chương trình nhập list số nguyên, in ra list bình phương của chúng (sử dụng list comprehension).\n",
        "numbers = [1, 2, 3, 4, 5]\n",
        "squares = [num**2 for num in numbers]\n",
        "print(f\"List bình phương: {squares}\")"
      ],
      "execution_count": 54,
      "outputs": [
        {
          "output_type": "stream",
          "name": "stdout",
          "text": [
            "List bình phương: [1, 4, 9, 16, 25]\n"
          ]
        }
      ]
    },
    {
      "cell_type": "code",
      "metadata": {
        "colab": {
          "base_uri": "https://localhost:8080/"
        },
        "id": "6912cc35",
        "outputId": "e1670328-d903-4658-c4f7-47b9b523ecc2"
      },
      "source": [
        "# Bài 15: Viết chương trình nhập list số nguyên, in ra list chứa giá trị tuyệt đối của chúng.\n",
        "numbers = [1, -2, 3, -4, 5]\n",
        "absolute_values = [abs(num) for num in numbers]\n",
        "print(f\"List giá trị tuyệt đối: {absolute_values}\")"
      ],
      "execution_count": 55,
      "outputs": [
        {
          "output_type": "stream",
          "name": "stdout",
          "text": [
            "List giá trị tuyệt đối: [1, 2, 3, 4, 5]\n"
          ]
        }
      ]
    },
    {
      "cell_type": "code",
      "metadata": {
        "colab": {
          "base_uri": "https://localhost:8080/"
        },
        "id": "24be8097",
        "outputId": "7e1912de-caa5-4a30-fcee-068f78384212"
      },
      "source": [
        "# Bài 16: Viết chương trình nhập list số nguyên, kiểm tra xem có số âm không.\n",
        "numbers = [1, 2, 3, -4, 5]\n",
        "has_negative = any(num < 0 for num in numbers)\n",
        "print(f\"Có số âm trong list không? {has_negative}\")"
      ],
      "execution_count": 56,
      "outputs": [
        {
          "output_type": "stream",
          "name": "stdout",
          "text": [
            "Có số âm trong list không? True\n"
          ]
        }
      ]
    },
    {
      "cell_type": "code",
      "metadata": {
        "colab": {
          "base_uri": "https://localhost:8080/"
        },
        "id": "ac796dd1",
        "outputId": "e2c66191-9151-4726-9960-e75417cbd61d"
      },
      "source": [
        "# Bài 17: Viết chương trình nhập list số nguyên, in ra list các phần tử duy nhất (loại bỏ phần tử trùng).\n",
        "numbers = [1, 2, 2, 3, 4, 4, 5]\n",
        "unique_numbers = list(dict.fromkeys(numbers))\n",
        "print(f\"List các phần tử duy nhất: {unique_numbers}\")"
      ],
      "execution_count": 57,
      "outputs": [
        {
          "output_type": "stream",
          "name": "stdout",
          "text": [
            "List các phần tử duy nhất: [1, 2, 3, 4, 5]\n"
          ]
        }
      ]
    },
    {
      "cell_type": "code",
      "metadata": {
        "colab": {
          "base_uri": "https://localhost:8080/"
        },
        "id": "216eb0d5",
        "outputId": "12700326-1041-435a-dcf8-a71badd77403"
      },
      "source": [
        "# Bài 18: Viết chương trình nhập list chuỗi, in ra list gồm độ dài của từng chuỗi.\n",
        "string_list = [\"apple\", \"banana\", \"cherry\"]\n",
        "lengths = [len(s) for s in string_list]\n",
        "print(f\"List độ dài chuỗi: {lengths}\")"
      ],
      "execution_count": 58,
      "outputs": [
        {
          "output_type": "stream",
          "name": "stdout",
          "text": [
            "List độ dài chuỗi: [5, 6, 6]\n"
          ]
        }
      ]
    },
    {
      "cell_type": "code",
      "metadata": {
        "colab": {
          "base_uri": "https://localhost:8080/"
        },
        "id": "9dcd4cc7",
        "outputId": "24f1eda0-e37a-49ff-d6b0-b7eec3a6020d"
      },
      "source": [
        "# Bài 19: Viết chương trình nhập list số nguyên, chia list thành 2 list: số chẵn và số lẻ.\n",
        "numbers = [1, 2, 3, 4, 5, 6, 7, 8, 9, 10]\n",
        "even_numbers = [num for num in numbers if num % 2 == 0]\n",
        "odd_numbers = [num for num in numbers if num % 2 != 0]\n",
        "print(f\"List số chẵn: {even_numbers}\")\n",
        "print(f\"List số lẻ: {odd_numbers}\")"
      ],
      "execution_count": 59,
      "outputs": [
        {
          "output_type": "stream",
          "name": "stdout",
          "text": [
            "List số chẵn: [2, 4, 6, 8, 10]\n",
            "List số lẻ: [1, 3, 5, 7, 9]\n"
          ]
        }
      ]
    },
    {
      "cell_type": "code",
      "metadata": {
        "colab": {
          "base_uri": "https://localhost:8080/"
        },
        "id": "fcf2e59a",
        "outputId": "5be877ca-a85b-4f74-ac12-b3e0d980ed4a"
      },
      "source": [
        "# Bài 20: Viết chương trình nhập list số nguyên, in ra list các phần tử theo thứ tự ngược lại mà không dùng reverse().\n",
        "numbers = [1, 2, 3, 4, 5]\n",
        "reversed_numbers = numbers[::-1]\n",
        "print(f\"List đảo ngược: {reversed_numbers}\")"
      ],
      "execution_count": 60,
      "outputs": [
        {
          "output_type": "stream",
          "name": "stdout",
          "text": [
            "List đảo ngược: [5, 4, 3, 2, 1]\n"
          ]
        }
      ]
    },
    {
      "cell_type": "markdown",
      "source": [
        "# Bài số 8: Dữ liệu tuples trong python - Python tuples"
      ],
      "metadata": {
        "id": "Fdr1tNoIcqU1"
      }
    },
    {
      "cell_type": "markdown",
      "source": [
        "## Phần A: Nhận biết và Ghi nhớ (30 câu)"
      ],
      "metadata": {
        "id": "ag9NlfR4cmaW"
      }
    },
    {
      "cell_type": "code",
      "metadata": {
        "colab": {
          "base_uri": "https://localhost:8080/"
        },
        "id": "12c810a5",
        "outputId": "46bfd831-f511-40a7-e30a-ba5bfff97f5e"
      },
      "source": [
        "# Bài 1: Tạo một tuple chứa các số nguyên từ 1 đến 5.\n",
        "my_tuple = (1, 2, 3, 4, 5)\n",
        "print(my_tuple)"
      ],
      "execution_count": 61,
      "outputs": [
        {
          "output_type": "stream",
          "name": "stdout",
          "text": [
            "(1, 2, 3, 4, 5)\n"
          ]
        }
      ]
    },
    {
      "cell_type": "code",
      "metadata": {
        "colab": {
          "base_uri": "https://localhost:8080/"
        },
        "id": "5a6c942d",
        "outputId": "a81e754c-37b7-4446-a9cc-06e272127e17"
      },
      "source": [
        "# Bài 2: Tạo một tuple chứa các tên môn học: “Toán”, “Lý”, “Hóa”, “Sinh”.\n",
        "subjects = (\"Toán\", \"Lý\", \"Hóa\", \"Sinh\")\n",
        "print(subjects)"
      ],
      "execution_count": 62,
      "outputs": [
        {
          "output_type": "stream",
          "name": "stdout",
          "text": [
            "('Toán', 'Lý', 'Hóa', 'Sinh')\n"
          ]
        }
      ]
    },
    {
      "cell_type": "code",
      "metadata": {
        "colab": {
          "base_uri": "https://localhost:8080/"
        },
        "id": "b15fc449",
        "outputId": "5ab173c1-d90b-4cf3-e34e-234a3ca88ce8"
      },
      "source": [
        "# Bài 3: In ra tuple đã tạo ở Câu 2.\n",
        "subjects = (\"Toán\", \"Lý\", \"Hóa\", \"Sinh\")\n",
        "print(subjects)"
      ],
      "execution_count": 63,
      "outputs": [
        {
          "output_type": "stream",
          "name": "stdout",
          "text": [
            "('Toán', 'Lý', 'Hóa', 'Sinh')\n"
          ]
        }
      ]
    },
    {
      "cell_type": "code",
      "metadata": {
        "colab": {
          "base_uri": "https://localhost:8080/"
        },
        "id": "8a66add1",
        "outputId": "b1c36745-1156-4329-85b8-3bcc0d80a4aa"
      },
      "source": [
        "# Bài 4: Lấy phần tử đầu tiên của tuple ở Câu 2.\n",
        "subjects = (\"Toán\", \"Lý\", \"Hóa\", \"Sinh\")\n",
        "print(subjects[0])"
      ],
      "execution_count": 64,
      "outputs": [
        {
          "output_type": "stream",
          "name": "stdout",
          "text": [
            "Toán\n"
          ]
        }
      ]
    },
    {
      "cell_type": "code",
      "metadata": {
        "colab": {
          "base_uri": "https://localhost:8080/"
        },
        "id": "9b154bfc",
        "outputId": "ff7dcf7b-72bb-4f44-9128-daa8406eda5d"
      },
      "source": [
        "# Bài 5: Lấy phần tử cuối cùng của tuple ở Câu 2.\n",
        "subjects = (\"Toán\", \"Lý\", \"Hóa\", \"Sinh\")\n",
        "print(subjects[-1])"
      ],
      "execution_count": 65,
      "outputs": [
        {
          "output_type": "stream",
          "name": "stdout",
          "text": [
            "Sinh\n"
          ]
        }
      ]
    },
    {
      "cell_type": "code",
      "metadata": {
        "colab": {
          "base_uri": "https://localhost:8080/"
        },
        "id": "6050cd0c",
        "outputId": "5ee7e0b2-8da5-4bf2-a9a5-e5a2b5c403b7"
      },
      "source": [
        "# Bài 6: Lấy các phần tử từ vị trí 1 đến 3 trong tuple ở Câu 2.\n",
        "subjects = (\"Toán\", \"Lý\", \"Hóa\", \"Sinh\")\n",
        "print(subjects[1:4])"
      ],
      "execution_count": 66,
      "outputs": [
        {
          "output_type": "stream",
          "name": "stdout",
          "text": [
            "('Lý', 'Hóa', 'Sinh')\n"
          ]
        }
      ]
    },
    {
      "cell_type": "code",
      "metadata": {
        "colab": {
          "base_uri": "https://localhost:8080/"
        },
        "id": "cf8f55ef",
        "outputId": "4b56bda8-9adf-4338-c0b2-8106a6460d30"
      },
      "source": [
        "# Bài 7: Tạo một tuple có 1 phần tử duy nhất là số 100.\n",
        "single_element_tuple = (100,)\n",
        "print(single_element_tuple)"
      ],
      "execution_count": 67,
      "outputs": [
        {
          "output_type": "stream",
          "name": "stdout",
          "text": [
            "(100,)\n"
          ]
        }
      ]
    },
    {
      "cell_type": "code",
      "metadata": {
        "colab": {
          "base_uri": "https://localhost:8080/"
        },
        "id": "76fafc7b",
        "outputId": "f47b68cd-9a22-4fb0-d5e5-087768fd5d88"
      },
      "source": [
        "# Bài 8: Kiểm tra kiểu dữ liệu của tuple ở Câu 7 bằng type().\n",
        "single_element_tuple = (100,)\n",
        "print(type(single_element_tuple))"
      ],
      "execution_count": 68,
      "outputs": [
        {
          "output_type": "stream",
          "name": "stdout",
          "text": [
            "<class 'tuple'>\n"
          ]
        }
      ]
    },
    {
      "cell_type": "code",
      "metadata": {
        "colab": {
          "base_uri": "https://localhost:8080/"
        },
        "id": "50564f32",
        "outputId": "3f764acb-949e-4c6c-8ac8-6f3b4e303f37"
      },
      "source": [
        "# Bài 9: Dùng vòng lặp for in ra tất cả phần tử trong tuple ở Câu 2.\n",
        "subjects = (\"Toán\", \"Lý\", \"Hóa\", \"Sinh\")\n",
        "for subject in subjects:\n",
        "  print(subject)"
      ],
      "execution_count": 69,
      "outputs": [
        {
          "output_type": "stream",
          "name": "stdout",
          "text": [
            "Toán\n",
            "Lý\n",
            "Hóa\n",
            "Sinh\n"
          ]
        }
      ]
    },
    {
      "cell_type": "code",
      "metadata": {
        "colab": {
          "base_uri": "https://localhost:8080/"
        },
        "id": "c26860ba",
        "outputId": "e64fa7e0-e0af-41b8-9001-214602a586a7"
      },
      "source": [
        "# Bài 10: Kiểm tra xem giá trị “Hóa” có trong tuple ở Câu 2 hay không.\n",
        "subjects = (\"Toán\", \"Lý\", \"Hóa\", \"Sinh\")\n",
        "print(\"Hóa\" in subjects)"
      ],
      "execution_count": 70,
      "outputs": [
        {
          "output_type": "stream",
          "name": "stdout",
          "text": [
            "True\n"
          ]
        }
      ]
    },
    {
      "cell_type": "code",
      "metadata": {
        "colab": {
          "base_uri": "https://localhost:8080/"
        },
        "id": "8c5b8907",
        "outputId": "ff9fdb22-d406-4e95-be8d-3235b10ca34e"
      },
      "source": [
        "# Bài 11: Tính số phần tử trong tuple ở Câu 2 bằng len().\n",
        "subjects = (\"Toán\", \"Lý\", \"Hóa\", \"Sinh\")\n",
        "print(len(subjects))"
      ],
      "execution_count": 72,
      "outputs": [
        {
          "output_type": "stream",
          "name": "stdout",
          "text": [
            "4\n"
          ]
        }
      ]
    },
    {
      "cell_type": "code",
      "metadata": {
        "colab": {
          "base_uri": "https://localhost:8080/"
        },
        "id": "acd5e7a0",
        "outputId": "f581d7e2-0ef1-4a10-c8d6-3f0aeac3fb61"
      },
      "source": [
        "# Bài 12: Tạo 2 tuple: (1,2,3) và (4,5,6), sau đó nối chúng lại.\n",
        "tuple1 = (1, 2, 3)\n",
        "tuple2 = (4, 5, 6)\n",
        "combined_tuple = tuple1 + tuple2\n",
        "print(combined_tuple)"
      ],
      "execution_count": 73,
      "outputs": [
        {
          "output_type": "stream",
          "name": "stdout",
          "text": [
            "(1, 2, 3, 4, 5, 6)\n"
          ]
        }
      ]
    },
    {
      "cell_type": "code",
      "metadata": {
        "colab": {
          "base_uri": "https://localhost:8080/"
        },
        "id": "210be485",
        "outputId": "6335d3f8-a61b-4f1e-e6c4-66a38cd80584"
      },
      "source": [
        "# Bài 13: Tạo tuple có giá trị lặp lại: ('A',) * 5.\n",
        "repeated_tuple = ('A',) * 5\n",
        "print(repeated_tuple)"
      ],
      "execution_count": 74,
      "outputs": [
        {
          "output_type": "stream",
          "name": "stdout",
          "text": [
            "('A', 'A', 'A', 'A', 'A')\n"
          ]
        }
      ]
    },
    {
      "cell_type": "code",
      "metadata": {
        "colab": {
          "base_uri": "https://localhost:8080/"
        },
        "id": "a6b01373",
        "outputId": "1d8ef216-157f-487b-fa16-c133d6ac9073"
      },
      "source": [
        "# Bài 14: Dùng count() để đếm số lần xuất hiện của phần tử trong tuple (1,2,2,3,2,4).\n",
        "my_tuple = (1, 2, 2, 3, 2, 4)\n",
        "count_of_2 = my_tuple.count(2)\n",
        "print(count_of_2)"
      ],
      "execution_count": 75,
      "outputs": [
        {
          "output_type": "stream",
          "name": "stdout",
          "text": [
            "3\n"
          ]
        }
      ]
    },
    {
      "cell_type": "code",
      "metadata": {
        "colab": {
          "base_uri": "https://localhost:8080/"
        },
        "id": "47ed4285",
        "outputId": "76dfd1ef-a5df-4199-8443-7ee5140cc9de"
      },
      "source": [
        "# Bài 15: Dùng index() để tìm vị trí đầu tiên của phần tử 3 trong tuple (1,3,5,3,7).\n",
        "my_tuple = (1, 3, 5, 3, 7)\n",
        "index_of_3 = my_tuple.index(3)\n",
        "print(index_of_3)"
      ],
      "execution_count": 76,
      "outputs": [
        {
          "output_type": "stream",
          "name": "stdout",
          "text": [
            "1\n"
          ]
        }
      ]
    },
    {
      "cell_type": "code",
      "metadata": {
        "colab": {
          "base_uri": "https://localhost:8080/"
        },
        "id": "6fa871d4",
        "outputId": "8974fa02-140b-4054-94f2-37e29a038490"
      },
      "source": [
        "# Bài 16: Tạo tuple lồng nhau: (('a','b'), (1,2,3)).\n",
        "nested_tuple = (('a', 'b'), (1, 2, 3))\n",
        "print(nested_tuple)"
      ],
      "execution_count": 77,
      "outputs": [
        {
          "output_type": "stream",
          "name": "stdout",
          "text": [
            "(('a', 'b'), (1, 2, 3))\n"
          ]
        }
      ]
    },
    {
      "cell_type": "code",
      "metadata": {
        "colab": {
          "base_uri": "https://localhost:8080/"
        },
        "id": "cbd3c74f",
        "outputId": "f455ba88-16f8-403a-c731-668b6646267a"
      },
      "source": [
        "# Bài 17: Truy cập phần tử 2 trong tuple con thứ 2 của tuple ở Câu 16.\n",
        "nested_tuple = (('a', 'b'), (1, 2, 3))\n",
        "element = nested_tuple[1][1]\n",
        "print(element)"
      ],
      "execution_count": 78,
      "outputs": [
        {
          "output_type": "stream",
          "name": "stdout",
          "text": [
            "2\n"
          ]
        }
      ]
    },
    {
      "cell_type": "code",
      "metadata": {
        "colab": {
          "base_uri": "https://localhost:8080/"
        },
        "id": "e1a24f39",
        "outputId": "677de3ba-50f6-4f6d-80a5-d4b42595de1b"
      },
      "source": [
        "# Bài 18: Tạo tuple gồm các số từ 10 đến 15 bằng range() và hàm tuple().\n",
        "number_tuple = tuple(range(10, 16))\n",
        "print(number_tuple)"
      ],
      "execution_count": 79,
      "outputs": [
        {
          "output_type": "stream",
          "name": "stdout",
          "text": [
            "(10, 11, 12, 13, 14, 15)\n"
          ]
        }
      ]
    },
    {
      "cell_type": "code",
      "metadata": {
        "colab": {
          "base_uri": "https://localhost:8080/"
        },
        "id": "73d3ffb7",
        "outputId": "8364ac7e-0521-4e25-e07a-2505248adda1"
      },
      "source": [
        "# Bài 19: Dùng unpack để gán tuple (10,20,30) vào 3 biến khác nhau.\n",
        "my_tuple = (10, 20, 30)\n",
        "a, b, c = my_tuple\n",
        "print(a)\n",
        "print(b)\n",
        "print(c)"
      ],
      "execution_count": 80,
      "outputs": [
        {
          "output_type": "stream",
          "name": "stdout",
          "text": [
            "10\n",
            "20\n",
            "30\n"
          ]
        }
      ]
    },
    {
      "cell_type": "code",
      "metadata": {
        "colab": {
          "base_uri": "https://localhost:8080/"
        },
        "id": "a10501de",
        "outputId": "69ea164a-800d-41fe-91c3-eb7f87bb3c44"
      },
      "source": [
        "# Bài 20: Thực hành unpack với tuple có nhiều phần tử và dùng * để gom nhóm còn lại.\n",
        "my_tuple = (1, 2, 3, 4, 5)\n",
        "a, b, *rest = my_tuple\n",
        "print(a)\n",
        "print(b)\n",
        "print(rest)"
      ],
      "execution_count": 81,
      "outputs": [
        {
          "output_type": "stream",
          "name": "stdout",
          "text": [
            "1\n",
            "2\n",
            "[3, 4, 5]\n"
          ]
        }
      ]
    },
    {
      "cell_type": "code",
      "metadata": {
        "colab": {
          "base_uri": "https://localhost:8080/"
        },
        "id": "4369f58b",
        "outputId": "27cc6e83-add0-4be5-a6f8-ff94d0557c12"
      },
      "source": [
        "# Bài 21: In ra tuple đảo ngược từ tuple (1,2,3,4,5).\n",
        "my_tuple = (1, 2, 3, 4, 5)\n",
        "reversed_tuple = my_tuple[::-1]\n",
        "print(reversed_tuple)"
      ],
      "execution_count": 82,
      "outputs": [
        {
          "output_type": "stream",
          "name": "stdout",
          "text": [
            "(5, 4, 3, 2, 1)\n"
          ]
        }
      ]
    },
    {
      "cell_type": "code",
      "metadata": {
        "colab": {
          "base_uri": "https://localhost:8080/"
        },
        "id": "e5934878",
        "outputId": "3c04633b-a251-4e8c-c900-b4d8b64fc4b1"
      },
      "source": [
        "# Bài 22: Tạo tuple rỗng và kiểm tra độ dài.\n",
        "empty_tuple = ()\n",
        "print(len(empty_tuple))"
      ],
      "execution_count": 83,
      "outputs": [
        {
          "output_type": "stream",
          "name": "stdout",
          "text": [
            "0\n"
          ]
        }
      ]
    },
    {
      "cell_type": "code",
      "metadata": {
        "colab": {
          "base_uri": "https://localhost:8080/"
        },
        "id": "594a6d22",
        "outputId": "33fc0e80-7cc2-4b47-dc49-111fbbc044d9"
      },
      "source": [
        "# Bài 23: Chuyển list [1,2,3] thành tuple.\n",
        "my_list = [1, 2, 3]\n",
        "my_tuple = tuple(my_list)\n",
        "print(my_tuple)"
      ],
      "execution_count": 84,
      "outputs": [
        {
          "output_type": "stream",
          "name": "stdout",
          "text": [
            "(1, 2, 3)\n"
          ]
        }
      ]
    },
    {
      "cell_type": "code",
      "metadata": {
        "colab": {
          "base_uri": "https://localhost:8080/"
        },
        "id": "64eb64e5",
        "outputId": "f84d904a-f8a7-4c92-c540-524546371e84"
      },
      "source": [
        "# Bài 24: Chuyển chuỗi \"Hello\" thành tuple.\n",
        "my_string = \"Hello\"\n",
        "my_tuple = tuple(my_string)\n",
        "print(my_tuple)"
      ],
      "execution_count": 85,
      "outputs": [
        {
          "output_type": "stream",
          "name": "stdout",
          "text": [
            "('H', 'e', 'l', 'l', 'o')\n"
          ]
        }
      ]
    },
    {
      "cell_type": "code",
      "metadata": {
        "colab": {
          "base_uri": "https://localhost:8080/"
        },
        "id": "53d5103f",
        "outputId": "97be6706-a053-41e3-c9b5-8b0c86b6882d"
      },
      "source": [
        "# Bài 25: Tạo tuple gồm các số chẵn từ 0 đến 10.\n",
        "even_numbers_tuple = tuple(range(0, 11, 2))\n",
        "print(even_numbers_tuple)"
      ],
      "execution_count": 86,
      "outputs": [
        {
          "output_type": "stream",
          "name": "stdout",
          "text": [
            "(0, 2, 4, 6, 8, 10)\n"
          ]
        }
      ]
    },
    {
      "cell_type": "code",
      "metadata": {
        "colab": {
          "base_uri": "https://localhost:8080/"
        },
        "id": "a924c635",
        "outputId": "23e1251d-b13d-47c5-c010-da755ed83ad7"
      },
      "source": [
        "# Bài 26: Duyệt tuple (2,4,6,8,10) bằng vòng lặp while.\n",
        "my_tuple = (2, 4, 6, 8, 10)\n",
        "i = 0\n",
        "while i < len(my_tuple):\n",
        "  print(my_tuple[i])\n",
        "  i += 1"
      ],
      "execution_count": 87,
      "outputs": [
        {
          "output_type": "stream",
          "name": "stdout",
          "text": [
            "2\n",
            "4\n",
            "6\n",
            "8\n",
            "10\n"
          ]
        }
      ]
    },
    {
      "cell_type": "code",
      "metadata": {
        "colab": {
          "base_uri": "https://localhost:8080/"
        },
        "id": "b8131969",
        "outputId": "07c35fde-c8b6-4b81-b464-9362b48c5260"
      },
      "source": [
        "# Bài 27: So sánh tuple (1,2,3) và (1,2,4).\n",
        "tuple1 = (1, 2, 3)\n",
        "tuple2 = (1, 2, 4)\n",
        "print(tuple1 < tuple2)"
      ],
      "execution_count": 88,
      "outputs": [
        {
          "output_type": "stream",
          "name": "stdout",
          "text": [
            "True\n"
          ]
        }
      ]
    },
    {
      "cell_type": "code",
      "metadata": {
        "colab": {
          "base_uri": "https://localhost:8080/"
        },
        "id": "97052ed3",
        "outputId": "9e5836bc-a326-493d-9112-e906dd1cfd7d"
      },
      "source": [
        "# Bài 28: In ra phần tử có giá trị lớn nhất trong tuple (1,5,7,3,9).\n",
        "my_tuple = (1, 5, 7, 3, 9)\n",
        "max_element = max(my_tuple)\n",
        "print(max_element)"
      ],
      "execution_count": 89,
      "outputs": [
        {
          "output_type": "stream",
          "name": "stdout",
          "text": [
            "9\n"
          ]
        }
      ]
    },
    {
      "cell_type": "code",
      "metadata": {
        "colab": {
          "base_uri": "https://localhost:8080/"
        },
        "id": "d786abac",
        "outputId": "5129d6ff-eefb-4476-e942-6f655556adfa"
      },
      "source": [
        "# Bài 29: In ra phần tử có giá trị nhỏ nhất trong tuple (2,4,6,1,8).\n",
        "my_tuple = (2, 4, 6, 1, 8)\n",
        "min_element = min(my_tuple)\n",
        "print(min_element)"
      ],
      "execution_count": 90,
      "outputs": [
        {
          "output_type": "stream",
          "name": "stdout",
          "text": [
            "1\n"
          ]
        }
      ]
    },
    {
      "cell_type": "code",
      "metadata": {
        "colab": {
          "base_uri": "https://localhost:8080/"
        },
        "id": "fa71c3b2",
        "outputId": "388a509c-57c7-4068-de71-bbe51fc01a6d"
      },
      "source": [
        "# Bài 30: Tính tổng các phần tử trong tuple (1,2,3,4,5) bằng sum().\n",
        "my_tuple = (1, 2, 3, 4, 5)\n",
        "total_sum = sum(my_tuple)\n",
        "print(total_sum)"
      ],
      "execution_count": 91,
      "outputs": [
        {
          "output_type": "stream",
          "name": "stdout",
          "text": [
            "15\n"
          ]
        }
      ]
    },
    {
      "cell_type": "markdown",
      "source": [
        "## Phần B: Vận dụng (20 câu)"
      ],
      "metadata": {
        "id": "-UTD4voldzeP"
      }
    },
    {
      "cell_type": "code",
      "metadata": {
        "colab": {
          "base_uri": "https://localhost:8080/"
        },
        "id": "369e7542",
        "outputId": "d909f421-3427-4a3a-af11-cda339447172"
      },
      "source": [
        "# Bài 1: Viết chương trình nhập một chuỗi từ bàn phím và chuyển thành tuple các ký tự.\n",
        "input_string = input(\"Nhập một chuỗi: \")\n",
        "char_tuple = tuple(input_string)\n",
        "print(char_tuple)"
      ],
      "execution_count": 92,
      "outputs": [
        {
          "output_type": "stream",
          "name": "stdout",
          "text": [
            "Nhập một chuỗi: HONG YEN\n",
            "('H', 'O', 'N', 'G', ' ', 'Y', 'E', 'N')\n"
          ]
        }
      ]
    },
    {
      "cell_type": "code",
      "metadata": {
        "colab": {
          "base_uri": "https://localhost:8080/"
        },
        "id": "6b74578e",
        "outputId": "b80ec198-4f2d-4605-bc04-57db18a2fcc6"
      },
      "source": [
        "# Bài 2: Viết chương trình nhập một dãy số từ bàn phím (cách nhau bởi dấu cách) và chuyển\n",
        "# thành tuple số nguyên.\n",
        "input_numbers_str = input(\"Nhập dãy số cách nhau bởi dấu cách: \")\n",
        "numbers_list_str = input_numbers_str.split()\n",
        "numbers_list_int = [int(num) for num in numbers_list_str]\n",
        "numbers_tuple = tuple(numbers_list_int)\n",
        "print(numbers_tuple)"
      ],
      "execution_count": 93,
      "outputs": [
        {
          "output_type": "stream",
          "name": "stdout",
          "text": [
            "Nhập dãy số cách nhau bởi dấu cách: 8 5 78 3 4 5 \n",
            "(8, 5, 78, 3, 4, 5)\n"
          ]
        }
      ]
    },
    {
      "cell_type": "code",
      "metadata": {
        "colab": {
          "base_uri": "https://localhost:8080/"
        },
        "id": "c2ae9928",
        "outputId": "e0278b4f-e610-4818-b026-16459b9ef57f"
      },
      "source": [
        "# Bài 3: Viết hàm trả về tuple gồm (giá trị lớn nhất, giá trị nhỏ nhất) của một tuple số.\n",
        "def find_min_max(number_tuple):\n",
        "  if not number_tuple:\n",
        "    return None\n",
        "  return (max(number_tuple), min(number_tuple))\n",
        "\n",
        "my_numbers = (10, 5, 20, 2, 15)\n",
        "min_max_values = find_min_max(my_numbers)\n",
        "print(min_max_values)"
      ],
      "execution_count": 94,
      "outputs": [
        {
          "output_type": "stream",
          "name": "stdout",
          "text": [
            "(20, 2)\n"
          ]
        }
      ]
    },
    {
      "cell_type": "code",
      "metadata": {
        "colab": {
          "base_uri": "https://localhost:8080/"
        },
        "id": "4af7412d",
        "outputId": "6d0382fe-9b4c-41dd-80e5-19f4565eaae9"
      },
      "source": [
        "# Bài 4: Viết chương trình tính số lần xuất hiện của mỗi phần tử trong một tuple.\n",
        "my_tuple = (1, 2, 2, 3, 1, 4, 2, 5)\n",
        "frequency = {}\n",
        "for item in my_tuple:\n",
        "    if item in frequency:\n",
        "        frequency[item] += 1\n",
        "    else:\n",
        "        frequency[item] = 1\n",
        "print(frequency)"
      ],
      "execution_count": 95,
      "outputs": [
        {
          "output_type": "stream",
          "name": "stdout",
          "text": [
            "{1: 2, 2: 3, 3: 1, 4: 1, 5: 1}\n"
          ]
        }
      ]
    },
    {
      "cell_type": "code",
      "metadata": {
        "colab": {
          "base_uri": "https://localhost:8080/"
        },
        "id": "f33d13e4",
        "outputId": "7b2e0372-fca3-4a6e-857a-b995c24fba98"
      },
      "source": [
        "# Bài 5: Viết chương trình xóa phần tử có giá trị cho trước khỏi một tuple (gợi ý: chuyển\n",
        "# sang list rồi chuyển ngược lại).\n",
        "def remove_element_from_tuple(my_tuple, element_to_remove):\n",
        "  my_list = list(my_tuple)\n",
        "  if element_to_remove in my_list:\n",
        "    my_list.remove(element_to_remove)\n",
        "  return tuple(my_list)\n",
        "\n",
        "my_tuple = (1, 2, 3, 2, 4)\n",
        "new_tuple = remove_element_from_tuple(my_tuple, 2)\n",
        "print(new_tuple)"
      ],
      "execution_count": 96,
      "outputs": [
        {
          "output_type": "stream",
          "name": "stdout",
          "text": [
            "(1, 3, 2, 4)\n"
          ]
        }
      ]
    },
    {
      "cell_type": "code",
      "metadata": {
        "colab": {
          "base_uri": "https://localhost:8080/"
        },
        "id": "7cce8555",
        "outputId": "9ea4850f-cbdb-4718-c52b-97e456c14fe9"
      },
      "source": [
        "# Bài 6: Viết chương trình gộp hai tuple và sắp xếp tuple kết quả theo thứ tự tăng dần.\n",
        "tuple1 = (5, 2, 8)\n",
        "tuple2 = (1, 9, 4)\n",
        "combined_tuple = tuple1 + tuple2\n",
        "sorted_list = sorted(combined_tuple)\n",
        "sorted_tuple = tuple(sorted_list)\n",
        "print(sorted_tuple)"
      ],
      "execution_count": 97,
      "outputs": [
        {
          "output_type": "stream",
          "name": "stdout",
          "text": [
            "(1, 2, 4, 5, 8, 9)\n"
          ]
        }
      ]
    },
    {
      "cell_type": "code",
      "metadata": {
        "colab": {
          "base_uri": "https://localhost:8080/"
        },
        "id": "eb200a10",
        "outputId": "2c860be9-5549-47aa-ca3e-51e14f2ae125"
      },
      "source": [
        "# Bài 7: Viết chương trình tạo tuple từ 2 list: list khóa và list giá trị, rồi ghép thành tuple\n",
        "# của cặp (key,value).\n",
        "keys = [\"name\", \"age\", \"city\"]\n",
        "values = [\"Alice\", 30, \"New York\"]\n",
        "if len(keys) == len(values):\n",
        "    key_value_tuple = tuple(zip(keys, values))\n",
        "    print(key_value_tuple)\n",
        "else:\n",
        "    print(\"Hai list phải có cùng độ dài.\")"
      ],
      "execution_count": 98,
      "outputs": [
        {
          "output_type": "stream",
          "name": "stdout",
          "text": [
            "(('name', 'Alice'), ('age', 30), ('city', 'New York'))\n"
          ]
        }
      ]
    },
    {
      "cell_type": "code",
      "metadata": {
        "colab": {
          "base_uri": "https://localhost:8080/"
        },
        "id": "3d9bdd40",
        "outputId": "bab8382d-cf68-40e0-a371-8d55fb9b8d9a"
      },
      "source": [
        "# Bài 8: Viết chương trình tạo tuple gồm các số nguyên tố từ 1 đến 50.\n",
        "def is_prime(n):\n",
        "    if n < 2:\n",
        "        return False\n",
        "    for i in range(2, int(n**0.5) + 1):\n",
        "        if n % i == 0:\n",
        "            return False\n",
        "    return True\n",
        "\n",
        "prime_numbers = [num for num in range(1, 51) if is_prime(num)]\n",
        "prime_tuple = tuple(prime_numbers)\n",
        "print(prime_tuple)"
      ],
      "execution_count": 99,
      "outputs": [
        {
          "output_type": "stream",
          "name": "stdout",
          "text": [
            "(2, 3, 5, 7, 11, 13, 17, 19, 23, 29, 31, 37, 41, 43, 47)\n"
          ]
        }
      ]
    },
    {
      "cell_type": "code",
      "metadata": {
        "colab": {
          "base_uri": "https://localhost:8080/"
        },
        "id": "8770c562",
        "outputId": "21f8340e-e959-4ab9-9623-339afb0c635b"
      },
      "source": [
        "# Bài 9: Viết chương trình tìm tất cả các giá trị trùng lặp trong một tuple.\n",
        "my_tuple = (1, 2, 2, 3, 1, 4, 2, 5)\n",
        "seen = set()\n",
        "duplicates = set()\n",
        "for item in my_tuple:\n",
        "    if item in seen:\n",
        "        duplicates.add(item)\n",
        "    else:\n",
        "        seen.add(item)\n",
        "print(tuple(duplicates))"
      ],
      "execution_count": 100,
      "outputs": [
        {
          "output_type": "stream",
          "name": "stdout",
          "text": [
            "(1, 2)\n"
          ]
        }
      ]
    },
    {
      "cell_type": "code",
      "metadata": {
        "colab": {
          "base_uri": "https://localhost:8080/"
        },
        "id": "d198f935",
        "outputId": "6f319e9d-9d66-49e0-d855-6c2a246c0f56"
      },
      "source": [
        "# Bài 10: Viết chương trình tạo tuple gồm các số Fibonacci nhỏ hơn 100.\n",
        "fib_list = [0, 1]\n",
        "while fib_list[-1] + fib_list[-2] < 100:\n",
        "    next_fib = fib_list[-1] + fib_list[-2]\n",
        "    fib_list.append(next_fib)\n",
        "fib_tuple = tuple(fib_list)\n",
        "print(fib_tuple)"
      ],
      "execution_count": 101,
      "outputs": [
        {
          "output_type": "stream",
          "name": "stdout",
          "text": [
            "(0, 1, 1, 2, 3, 5, 8, 13, 21, 34, 55, 89)\n"
          ]
        }
      ]
    },
    {
      "cell_type": "code",
      "metadata": {
        "colab": {
          "base_uri": "https://localhost:8080/"
        },
        "id": "7f694e9c",
        "outputId": "2a6c272e-8fc5-4c4f-ee86-bc2b80732cfb"
      },
      "source": [
        "# Bài 11: Viết hàm nhận vào một tuple số và trả về tuple mới với các phần tử bình phương.\n",
        "def square_tuple_elements(number_tuple):\n",
        "  squared_list = [x**2 for x in number_tuple]\n",
        "  return tuple(squared_list)\n",
        "\n",
        "my_numbers = (1, 2, 3, 4, 5)\n",
        "squared_tuple = square_tuple_elements(my_numbers)\n",
        "print(squared_tuple)"
      ],
      "execution_count": 102,
      "outputs": [
        {
          "output_type": "stream",
          "name": "stdout",
          "text": [
            "(1, 4, 9, 16, 25)\n"
          ]
        }
      ]
    },
    {
      "cell_type": "code",
      "metadata": {
        "colab": {
          "base_uri": "https://localhost:8080/"
        },
        "id": "0d9743a7",
        "outputId": "9ba1eb99-cd43-4060-af1d-6bef687ad85e"
      },
      "source": [
        "# Bài 12: Viết hàm hoán đổi vị trí phần tử đầu tiên và phần tử cuối cùng trong một tuple.\n",
        "def swap_first_last(my_tuple):\n",
        "    if len(my_tuple) < 2:\n",
        "        return my_tuple\n",
        "    my_list = list(my_tuple)\n",
        "    my_list[0], my_list[-1] = my_list[-1], my_list[0]\n",
        "    return tuple(my_list)\n",
        "\n",
        "my_tuple = (1, 2, 3, 4, 5)\n",
        "swapped_tuple = swap_first_last(my_tuple)\n",
        "print(swapped_tuple)"
      ],
      "execution_count": 103,
      "outputs": [
        {
          "output_type": "stream",
          "name": "stdout",
          "text": [
            "(5, 2, 3, 4, 1)\n"
          ]
        }
      ]
    },
    {
      "cell_type": "code",
      "metadata": {
        "colab": {
          "base_uri": "https://localhost:8080/"
        },
        "id": "d149673e",
        "outputId": "98870146-10a0-4251-8089-59252a5aeee7"
      },
      "source": [
        "# Bài 13: Viết hàm đảo ngược một tuple mà không dùng [::-1].\n",
        "def reverse_tuple_manual(my_tuple):\n",
        "    reversed_list = []\n",
        "    for i in range(len(my_tuple) - 1, -1, -1):\n",
        "        reversed_list.append(my_tuple[i])\n",
        "    return tuple(reversed_list)\n",
        "\n",
        "my_tuple = (1, 2, 3, 4, 5)\n",
        "reversed_tuple = reverse_tuple_manual(my_tuple)\n",
        "print(reversed_tuple)"
      ],
      "execution_count": 104,
      "outputs": [
        {
          "output_type": "stream",
          "name": "stdout",
          "text": [
            "(5, 4, 3, 2, 1)\n"
          ]
        }
      ]
    },
    {
      "cell_type": "code",
      "metadata": {
        "colab": {
          "base_uri": "https://localhost:8080/"
        },
        "id": "358c3755",
        "outputId": "77714718-391c-4932-d201-58046f5b07ee"
      },
      "source": [
        "# Bài 14: Viết chương trình nhập vào tuple số, in ra tuple chỉ chứa số chẵn.\n",
        "def get_even_numbers_tuple(number_tuple):\n",
        "    even_list = [num for num in number_tuple if num % 2 == 0]\n",
        "    return tuple(even_list)\n",
        "\n",
        "my_numbers = (1, 2, 3, 4, 5, 6, 7, 8, 9, 10)\n",
        "even_tuple = get_even_numbers_tuple(my_numbers)\n",
        "print(even_tuple)"
      ],
      "execution_count": 105,
      "outputs": [
        {
          "output_type": "stream",
          "name": "stdout",
          "text": [
            "(2, 4, 6, 8, 10)\n"
          ]
        }
      ]
    },
    {
      "cell_type": "code",
      "metadata": {
        "colab": {
          "base_uri": "https://localhost:8080/"
        },
        "id": "b74f520f",
        "outputId": "a95ab242-c563-4b61-c927-4dd183d4f344"
      },
      "source": [
        "# Bài 15: Viết chương trình nối nhiều tuple trong một list thành một tuple duy nhất.\n",
        "tuple_list = [(1, 2), (3, 4), (5, 6)]\n",
        "single_tuple = ()\n",
        "for t in tuple_list:\n",
        "    single_tuple += t\n",
        "print(single_tuple)"
      ],
      "execution_count": 106,
      "outputs": [
        {
          "output_type": "stream",
          "name": "stdout",
          "text": [
            "(1, 2, 3, 4, 5, 6)\n"
          ]
        }
      ]
    },
    {
      "cell_type": "code",
      "metadata": {
        "colab": {
          "base_uri": "https://localhost:8080/"
        },
        "id": "662a68df",
        "outputId": "7b5fa458-217f-4d98-d1f4-6c2adb04d735"
      },
      "source": [
        "# Bài 16: Viết chương trình đếm số ký tự in hoa và in thường trong tuple ký tự.\n",
        "char_tuple = ('H', 'e', 'l', 'L', 'o', 'W', 'o', 'r', 'l', 'D')\n",
        "upper_count = 0\n",
        "lower_count = 0\n",
        "for char in char_tuple:\n",
        "    if char.isupper():\n",
        "        upper_count += 1\n",
        "    elif char.islower():\n",
        "        lower_count += 1\n",
        "print(f\"Số ký tự in hoa: {upper_count}\")\n",
        "print(f\"Số ký tự in thường: {lower_count}\")"
      ],
      "execution_count": 107,
      "outputs": [
        {
          "output_type": "stream",
          "name": "stdout",
          "text": [
            "Số ký tự in hoa: 4\n",
            "Số ký tự in thường: 6\n"
          ]
        }
      ]
    },
    {
      "cell_type": "code",
      "metadata": {
        "colab": {
          "base_uri": "https://localhost:8080/"
        },
        "id": "533b3ac4",
        "outputId": "4bd4b68e-d255-4dea-b094-93b9083955d8"
      },
      "source": [
        "# Bài 17: Viết hàm trả về phần tử xuất hiện nhiều nhất trong một tuple.\n",
        "from collections import Counter\n",
        "\n",
        "def most_common_element(my_tuple):\n",
        "    if not my_tuple:\n",
        "        return None\n",
        "    counts = Counter(my_tuple)\n",
        "    most_common = counts.most_common(1)\n",
        "    return most_common[0][0]\n",
        "\n",
        "my_tuple = (1, 2, 2, 3, 1, 4, 2, 5)\n",
        "most_frequent = most_common_element(my_tuple)\n",
        "print(f\"Phần tử xuất hiện nhiều nhất: {most_frequent}\")"
      ],
      "execution_count": 108,
      "outputs": [
        {
          "output_type": "stream",
          "name": "stdout",
          "text": [
            "Phần tử xuất hiện nhiều nhất: 2\n"
          ]
        }
      ]
    },
    {
      "cell_type": "code",
      "metadata": {
        "colab": {
          "base_uri": "https://localhost:8080/"
        },
        "id": "43b77ee7",
        "outputId": "c2a6a90c-c783-4134-e3d4-7ab6ca57b425"
      },
      "source": [
        "# Bài 18: Viết hàm tính tích tất cả phần tử trong một tuple.\n",
        "def multiply_tuple_elements(number_tuple):\n",
        "    product = 1\n",
        "    for num in number_tuple:\n",
        "        product *= num\n",
        "    return product\n",
        "\n",
        "my_numbers = (1, 2, 3, 4, 5)\n",
        "product_result = multiply_tuple_elements(my_numbers)\n",
        "print(f\"Tích các phần tử: {product_result}\")"
      ],
      "execution_count": 109,
      "outputs": [
        {
          "output_type": "stream",
          "name": "stdout",
          "text": [
            "Tích các phần tử: 120\n"
          ]
        }
      ]
    },
    {
      "cell_type": "code",
      "metadata": {
        "colab": {
          "base_uri": "https://localhost:8080/"
        },
        "id": "d78d54ce",
        "outputId": "07228269-995d-4090-8ee3-b206f646cb08"
      },
      "source": [
        "# Bài 19: Viết chương trình so sánh 2 tuple và in ra tuple có tổng phần tử lớn hơn.\n",
        "tuple1 = (1, 2, 3)\n",
        "tuple2 = (4, 5, 6)\n",
        "\n",
        "sum1 = sum(tuple1)\n",
        "sum2 = sum(tuple2)\n",
        "\n",
        "if sum1 > sum2:\n",
        "    print(f\"Tuple có tổng lớn hơn là: {tuple1}\")\n",
        "elif sum2 > sum1:\n",
        "    print(f\"Tuple có tổng lớn hơn là: {tuple2}\")\n",
        "else:\n",
        "    print(\"Hai tuple có tổng bằng nhau.\")"
      ],
      "execution_count": 110,
      "outputs": [
        {
          "output_type": "stream",
          "name": "stdout",
          "text": [
            "Tuple có tổng lớn hơn là: (4, 5, 6)\n"
          ]
        }
      ]
    },
    {
      "cell_type": "code",
      "metadata": {
        "colab": {
          "base_uri": "https://localhost:8080/"
        },
        "id": "974272a7",
        "outputId": "08dd9df0-42ff-4688-a20f-b6d3e2e593cf"
      },
      "source": [
        "# Bài 20: Viết chương trình sinh ra tuple gồm các phần tử duy nhất từ tuple ban đầu (loại bỏ trùng lặp).\n",
        "my_tuple = (1, 2, 2, 3, 1, 4, 2, 5)\n",
        "unique_elements = tuple(sorted(set(my_tuple))) # Using sorted to maintain order for consistent output\n",
        "print(f\"Tuple các phần tử duy nhất: {unique_elements}\")"
      ],
      "execution_count": 111,
      "outputs": [
        {
          "output_type": "stream",
          "name": "stdout",
          "text": [
            "Tuple các phần tử duy nhất: (1, 2, 3, 4, 5)\n"
          ]
        }
      ]
    },
    {
      "cell_type": "markdown",
      "source": [
        "# Bài 51:\n",
        "- extract: diện tích, số phòng ngủ, số wc, quận, giá\n",
        "yc: viết hàm, chương trình từ 1 thông báo rao bán bất động sản trên trang batdongsan.com lấy được các thông tin trên 5 tbao khác nhau"
      ],
      "metadata": {
        "id": "Ns0u_jYvoCSo"
      }
    },
    {
      "cell_type": "code",
      "source": [
        "from bs4 import BeautifulSoup\n",
        "import re\n",
        "\n",
        "html_samples = [\n",
        "    \"VÔ CÙNG HỐI TIẾC KHI KHÔNG MUA, THE GIÓ RIVERSIDE QUÁ ĐẸP... 2,29 tỷ · 65,56 m² · 2 · 2 · Dĩ An, Bình Dương\",\n",
        "    \"Bán nhà phố 3 tầng cực đẹp, chỉ 3,5 tỷ · 120 m² · 3 · 3 · Quận 7, TP HCM\",\n",
        "    \"Căn hộ cao cấp Sunshine Riverside chỉ từ 2 tỷ · 80 m² · 2 · 2 · Tây Hồ, Hà Nội\",\n",
        "    \"Nhà mặt tiền trung tâm quận 1, giá 25 tỷ · 95 m² · 4 · 5 · Quận 1, TP HCM\",\n",
        "    \"Bán biệt thự ven sông, view cực đẹp 12,5 tỷ · 250 m² · 5 · 6 · Thủ Đức, TP HCM\"\n",
        "]\n",
        "\n",
        "def extract_info(text):\n",
        "    area = re.search(r\"(\\d+[\\.,]?\\d*)\\s*m²\", text)\n",
        "    price = re.search(r\"(\\d+[\\.,]?\\d*)\\s*tỷ\", text)\n",
        "    rooms = re.findall(r\"\\d+\", text)\n",
        "    bedrooms = rooms[-3] if len(rooms) >= 3 else None\n",
        "    toilets = rooms[-2] if len(rooms) >= 2 else None\n",
        "    location = re.findall(r\"[A-ZĐÂÊÔƠƯÍÁÉÓÚÝ][^·\\d,]+(?:, [A-ZĐÂÊÔƠƯÍÁÉÓÚÝ][^·\\d,]+)*$\", text)\n",
        "    return {\n",
        "        \"Giá (tỷ)\": price.group(1) if price else None,\n",
        "        \"Diện tích (m²)\": area.group(1) if area else None,\n",
        "        \"Phòng ngủ\": bedrooms,\n",
        "        \"WC\": toilets,\n",
        "        \"Khu vực\": location[0].strip() if location else None\n",
        "    }\n",
        "\n",
        "for sample in html_samples:\n",
        "    print(extract_info(sample))\n"
      ],
      "metadata": {
        "colab": {
          "base_uri": "https://localhost:8080/"
        },
        "id": "9e4OCedlfsTq",
        "outputId": "a457f661-b214-4420-cfd8-f1e4c9c45541"
      },
      "execution_count": 112,
      "outputs": [
        {
          "output_type": "stream",
          "name": "stdout",
          "text": [
            "{'Giá (tỷ)': '2,29', 'Diện tích (m²)': '65,56', 'Phòng ngủ': '56', 'WC': '2', 'Khu vực': 'Dĩ An, Bình Dương'}\n",
            "{'Giá (tỷ)': '3,5', 'Diện tích (m²)': '120', 'Phòng ngủ': '3', 'WC': '3', 'Khu vực': 'TP HCM'}\n",
            "{'Giá (tỷ)': '2', 'Diện tích (m²)': '80', 'Phòng ngủ': '80', 'WC': '2', 'Khu vực': 'Tây Hồ, Hà Nội'}\n",
            "{'Giá (tỷ)': '25', 'Diện tích (m²)': '95', 'Phòng ngủ': '4', 'WC': '5', 'Khu vực': 'TP HCM'}\n",
            "{'Giá (tỷ)': '12,5', 'Diện tích (m²)': '250', 'Phòng ngủ': '250', 'WC': '5', 'Khu vực': 'Thủ Đức, TP HCM'}\n"
          ]
        }
      ]
    }
  ]
}