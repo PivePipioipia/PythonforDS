{
  "cells": [
    {
      "cell_type": "markdown",
      "metadata": {
        "id": "HG2ahlZVeK4t"
      },
      "source": [
        "# Trên lớp"
      ]
    },
    {
      "cell_type": "markdown",
      "metadata": {
        "id": "v2vBGScYdquD"
      },
      "source": [
        "* Dùng hàm ẩn danh\n",
        "lambda arg1, arg2: biểu thức\n",
        "- VD: lambda a:a**2\n",
        "\n",
        "def binhphuong(a):\n",
        "return a**2"
      ]
    },
    {
      "cell_type": "code",
      "execution_count": null,
      "metadata": {
        "colab": {
          "base_uri": "https://localhost:8080/"
        },
        "id": "fCBRDX0EdsUy",
        "outputId": "cdf42260-3802-4a0f-abe3-ca55dd4ec517"
      },
      "outputs": [
        {
          "data": {
            "text/plain": [
              "25"
            ]
          },
          "execution_count": 22,
          "metadata": {},
          "output_type": "execute_result"
        }
      ],
      "source": [
        "binhphuong = lambda a: a**2\n",
        "binhphuong(5)"
      ]
    },
    {
      "cell_type": "code",
      "execution_count": 2,
      "metadata": {
        "id": "A-9eqAelX_1z"
      },
      "outputs": [],
      "source": [
        "#Bài 24\n",
        "def factorial(n):\n",
        "  \"\"\" Hàm tính n giai thừa bằng đệ quy!\"\"\"\n",
        "  if n < 0:\n",
        "    return -1\n",
        "  elif n == 0:\n",
        "    return 1\n",
        "  else:\n",
        "    return n * factorial(n-1)\n",
        "\n"
      ]
    },
    {
      "cell_type": "code",
      "execution_count": 3,
      "metadata": {
        "colab": {
          "base_uri": "https://localhost:8080/"
        },
        "id": "0ahFARxeZN4a",
        "outputId": "3ee92e8c-a376-4ebe-f88b-eea7a6dc1bc4"
      },
      "outputs": [
        {
          "name": "stdout",
          "output_type": "stream",
          "text": [
            "5 giai thừa tính theo đệ quy:  120\n",
            "4 giai thừa tính theo đệ quy:  24\n"
          ]
        }
      ],
      "source": [
        "  print(\"5 giai thừa tính theo đệ quy: \", factorial(5))\n",
        "  print(\"4 giai thừa tính theo đệ quy: \", factorial(4))"
      ]
    },
    {
      "cell_type": "markdown",
      "metadata": {
        "id": "H2_S_aPTeQ1z"
      },
      "source": [
        "# Bài tập Thực hành Python Bài số 4"
      ]
    },
    {
      "cell_type": "markdown",
      "metadata": {
        "id": "Z3vOo3XCo7Gm"
      },
      "source": [
        "## Phần A"
      ]
    },
    {
      "cell_type": "code",
      "execution_count": 9,
      "metadata": {
        "colab": {
          "base_uri": "https://localhost:8080/",
          "height": 0
        },
        "id": "WUfR0LPUZiuD",
        "outputId": "0c579c27-fc35-4053-f1ff-53805dfea802"
      },
      "outputs": [
        {
          "name": "stdout",
          "output_type": "stream",
          "text": [
            "Hello, World!\n"
          ]
        }
      ],
      "source": [
        "# Bài 1\n",
        "def hello():\n",
        "  \"\"\" Hàm in ra dòng chữ Hello, World!\"\"\"\n",
        "  print(\"Hello, World!\")\n",
        "\n",
        "hello()"
      ]
    },
    {
      "cell_type": "code",
      "execution_count": 10,
      "metadata": {
        "colab": {
          "base_uri": "https://localhost:8080/",
          "height": 0
        },
        "id": "oesTSRweZ6m8",
        "outputId": "20e8e19c-04e6-4981-c128-3054bac0913b"
      },
      "outputs": [
        {
          "name": "stdout",
          "output_type": "stream",
          "text": [
            "a + b =  3\n"
          ]
        }
      ],
      "source": [
        "#Bài 2\n",
        "def add(a, b):\n",
        "  \"\"\" Hàm tính tổng 2 số \"\"\"\n",
        "  return a+b\n",
        "\n",
        "a, b = 1, 2\n",
        "print(\"a + b = \", add(a, b))"
      ]
    },
    {
      "cell_type": "code",
      "execution_count": 11,
      "metadata": {
        "colab": {
          "base_uri": "https://localhost:8080/",
          "height": 0
        },
        "id": "XNdeTgaEaW_s",
        "outputId": "e1d1bd35-9183-4459-c3a6-88087b4b1335"
      },
      "outputs": [
        {
          "name": "stdout",
          "output_type": "stream",
          "text": [
            "Xin chào Python\n",
            "Xin chào Lan\n"
          ]
        }
      ],
      "source": [
        "# Bài 3\n",
        "def greet(name = \"Python\"):\n",
        "  \"\"\" Hàm có tham số mặc định name=\"Python\" để in ra thông điệp chào \"\"\"\n",
        "  print(f\"Xin chào {name}\")\n",
        "\n",
        "greet()\n",
        "greet(\"Lan\")"
      ]
    },
    {
      "cell_type": "markdown",
      "metadata": {
        "id": "i1HNbcFhcDFb"
      },
      "source": [
        "Bài 4\n",
        "\n",
        "- Positional argument (tham số vị trí): Khi gọi hàm, các positional argument được gán cho các tham số của hàm dựa trên vị trí của chúng. Thứ tự của các argument phải khớp với thứ tự của các tham số trong định nghĩa hàm, không cần sử dụng tên của tham số khi truyền positional argument.\n",
        "\n",
        "- Keyword argument (tham số từ khóa):\n",
        "Khi gọi hàm, các keyword argument được gán cho các tham số của hàm bằng cách sử dụng tên của tham số, theo sau là dấu bằng (=) và giá trị, không quan trọng thứ tự."
      ]
    },
    {
      "cell_type": "code",
      "execution_count": 12,
      "metadata": {
        "colab": {
          "base_uri": "https://localhost:8080/",
          "height": 0
        },
        "id": "apFY6Ukea1WV",
        "outputId": "e8610a6c-cdd4-4433-bc34-68ac2f35281b"
      },
      "outputs": [
        {
          "name": "stdout",
          "output_type": "stream",
          "text": [
            "Tôi có một con chó\n",
            "Tên của nó là Nui\n",
            "Tôi có một con chó\n",
            "Tên của nó là Nui\n"
          ]
        }
      ],
      "source": [
        "# Bài 5\n",
        "def describe_pet(animal_type, pet_name):\n",
        "  \"\"\" Hiển thị thông tin thú cưng \"\"\"\n",
        "  print(f\"Tôi có một con {animal_type}\")\n",
        "  print(f\"Tên của nó là {pet_name}\")\n",
        "\n",
        "# Gọi hàm sử dụng positional argument\n",
        "describe_pet(\"chó\", \"Nui\")\n",
        "\n",
        "# Gọi hàm sử keyword argument\n",
        "describe_pet(pet_name= \"Nui\", animal_type= \"chó\")\n",
        "\n"
      ]
    },
    {
      "cell_type": "code",
      "execution_count": 13,
      "metadata": {
        "colab": {
          "base_uri": "https://localhost:8080/",
          "height": 0
        },
        "id": "9J4p6lVIckce",
        "outputId": "c8557a4f-d133-407e-c50b-6bc7672bf51a"
      },
      "outputs": [
        {
          "data": {
            "text/plain": [
              "9"
            ]
          },
          "execution_count": 13,
          "metadata": {},
          "output_type": "execute_result"
        }
      ],
      "source": [
        "# Bài 6\n",
        "def power(base, exp = 2):\n",
        "  return base**exp\n",
        "\n",
        "power(3, 2)\n"
      ]
    },
    {
      "cell_type": "code",
      "execution_count": 14,
      "metadata": {
        "colab": {
          "base_uri": "https://localhost:8080/",
          "height": 0
        },
        "id": "40Lua6EMdeDl",
        "outputId": "a2155964-3680-4e73-b6b4-2be5f6d372c5"
      },
      "outputs": [
        {
          "name": "stdout",
          "output_type": "stream",
          "text": [
            "Xin-chào-thế-giới\n",
            "Một hai ba\n"
          ]
        }
      ],
      "source": [
        "# Bài 7\n",
        "def print_strings(*args, sep=' '):\n",
        "  \"\"\" Định nghĩa một hàm với keyword-only argument *, sep để in nhiều chuỗi \"\"\"\n",
        "  print(*args, sep=sep)\n",
        "\n",
        "# Ví dụ sử dụng\n",
        "print_strings(\"Xin\", \"chào\", \"thế\", \"giới\", sep=\"-\")\n",
        "print_strings(\"Một\", \"hai\", \"ba\")"
      ]
    },
    {
      "cell_type": "code",
      "execution_count": 15,
      "metadata": {
        "colab": {
          "base_uri": "https://localhost:8080/",
          "height": 0
        },
        "id": "TyILbsE3jkLS",
        "outputId": "b0b6bf7c-5244-416d-c786-dbe336a83943"
      },
      "outputs": [
        {
          "name": "stdout",
          "output_type": "stream",
          "text": [
            "20\n"
          ]
        }
      ],
      "source": [
        "# Bài 8\n",
        "def nhan(a,b, /):\n",
        "  return a*b\n",
        "\n",
        "print(nhan(10, 2))"
      ]
    },
    {
      "cell_type": "code",
      "execution_count": 16,
      "metadata": {
        "colab": {
          "base_uri": "https://localhost:8080/",
          "height": 106
        },
        "id": "yDNLtIihjF87",
        "outputId": "5a17e7ae-0607-4603-931f-7b00760d8237"
      },
      "outputs": [
        {
          "ename": "SyntaxError",
          "evalue": "incomplete input (ipython-input-2801192325.py, line 2)",
          "output_type": "error",
          "traceback": [
            "\u001b[0;36m  File \u001b[0;32m\"/tmp/ipython-input-2801192325.py\"\u001b[0;36m, line \u001b[0;32m2\u001b[0m\n\u001b[0;31m    print(nhan(b=10, a=2)\u001b[0m\n\u001b[0m                         ^\u001b[0m\n\u001b[0;31mSyntaxError\u001b[0m\u001b[0;31m:\u001b[0m incomplete input\n"
          ]
        }
      ],
      "source": [
        "# lỗi nếu truyền theo keyword argument\n",
        "print(nhan(b=10, a=2)"
      ]
    },
    {
      "cell_type": "code",
      "execution_count": 17,
      "metadata": {
        "colab": {
          "base_uri": "https://localhost:8080/",
          "height": 0
        },
        "id": "9yWroYD-djUk",
        "outputId": "6ad40f44-4dd4-4a09-ef61-e24dc8ac1d5d"
      },
      "outputs": [
        {
          "name": "stdout",
          "output_type": "stream",
          "text": [
            "Tổng của 1, 2, 3 ,4, 5 là:  15\n",
            "Tổng của 1, 10, 13 là:  24\n"
          ]
        }
      ],
      "source": [
        "# Bài 9: Viết một hàm sum_all(*args) tính tổng các số truyền vào.\n",
        "def sum_all(*args):\n",
        "  \"\"\" Tính tổng các số truyền vào sử dụng *args \"\"\"\n",
        "  total = 0\n",
        "  for num in args:\n",
        "    total += num\n",
        "  return total\n",
        "\n",
        "print(\"Tổng của 1, 2, 3 ,4, 5 là: \", sum_all(1, 2, 3, 4, 5))\n",
        "print(\"Tổng của 1, 10, 13 là: \", sum_all(1, 10, 13))\n"
      ]
    },
    {
      "cell_type": "code",
      "execution_count": 18,
      "metadata": {
        "colab": {
          "base_uri": "https://localhost:8080/",
          "height": 0
        },
        "id": "lvnVZXG-ll-a",
        "outputId": "b0271b42-0f84-489d-db2b-5a15a84ebaeb"
      },
      "outputs": [
        {
          "name": "stdout",
          "output_type": "stream",
          "text": [
            "ten:Pi\n",
            "tuoi:21\n",
            "thanh_pho:Ho Chi Minh\n"
          ]
        }
      ],
      "source": [
        "# Bài 10: Viết một hàm print_info(**kwargs) in ra toàn bộ thông tin nhận được.\n",
        "\n",
        "def print_info(**kwargs):\n",
        "  \"\"\" In ra thông tin nhận được dưới dạng keywords arguments \"\"\"\n",
        "  for key, value in kwargs.items():\n",
        "    print(f\"{key}:{value}\")\n",
        "\n",
        "print_info(ten = \"Pi\", tuoi = \"21\", thanh_pho= \"Ho Chi Minh\")\n"
      ]
    },
    {
      "cell_type": "code",
      "execution_count": null,
      "metadata": {
        "id": "b0X7K_WJdmk0"
      },
      "outputs": [],
      "source": [
        "# Bài 11: Nêu sự khác biệt giữa *args và **kwargs."
      ]
    },
    {
      "cell_type": "markdown",
      "metadata": {
        "id": "bc1778eb"
      },
      "source": [
        "\n",
        "\n",
        "Bài 11: Nêu sự khác biệt giữa *args và **kwargs.\n",
        "\n",
        "\n",
        "**`*args`:**\n",
        "\n",
        "*   Sử dụng để cho phép hàm chấp nhận một số lượng **đối số vị trí (positional arguments)** tùy ý.\n",
        "*   Các đối số vị trí được truyền vào sẽ được thu thập lại thành một **tuple**.\n",
        "*   Tên `args` chỉ là quy ước, có thể sử dụng tên khác nhưng phải có dấu `*` đứng trước (ví dụ: `*numbers`).\n",
        "\n",
        "**`**kwargs`:**\n",
        "\n",
        "*   Sử dụng để cho phép hàm chấp nhận một số lượng **đối số từ khóa (keyword arguments)** tùy ý.\n",
        "*   Các đối số từ khóa được truyền vào sẽ được thu thập lại thành một **dictionary**.\n",
        "*   Tên `kwargs` chỉ là quy ước, có thể sử dụng tên khác nhưng phải có dấu `**` đứng trước (ví dụ: `**data`).\n",
        "\n",
        "**Tóm lại:**\n",
        "\n",
        "*   `*args` dùng cho các đối số theo vị trí không có tên.\n",
        "*   `**kwargs` dùng cho các đối số theo tên (từ khóa) có tên."
      ]
    },
    {
      "cell_type": "code",
      "execution_count": 19,
      "metadata": {
        "colab": {
          "base_uri": "https://localhost:8080/",
          "height": 0
        },
        "id": "BuC2PKYZdowM",
        "outputId": "2df646fc-d698-4975-f08c-3d29581fceb9"
      },
      "outputs": [
        {
          "name": "stdout",
          "output_type": "stream",
          "text": [
            "Đối số bắt buộc 1: 10\n",
            "Đối số bắt buộc 2: 20\n",
            "*args (đối số vị trí tùy ý): (30, 40, 50)\n",
            "**kwargs (đối số từ khóa tùy ý): {'name': 'Alice', 'age': 30, 'city': 'New York'}\n",
            "\n",
            "---\n",
            "Đối số bắt buộc 1: apple\n",
            "Đối số bắt buộc 2: banana\n",
            "*args (đối số vị trí tùy ý): ()\n",
            "**kwargs (đối số từ khóa tùy ý): {'color': 'red', 'shape': 'round'}\n"
          ]
        }
      ],
      "source": [
        "# Bài 12: Viết ví dụ sử dụng đồng thời *args và **kwargs.\n",
        "def example_args_kwargs(arg1, arg2, *args, **kwargs):\n",
        "  \"\"\" Ví dụ hàm sử dụng đồng thời positional, *args và **kwargs \"\"\"\n",
        "  print(f\"Đối số bắt buộc 1: {arg1}\")\n",
        "  print(f\"Đối số bắt buộc 2: {arg2}\")\n",
        "  print(f\"*args (đối số vị trí tùy ý): {args}\")\n",
        "  print(f\"**kwargs (đối số từ khóa tùy ý): {kwargs}\")\n",
        "\n",
        "# Ví dụ sử dụng\n",
        "example_args_kwargs(10, 20, 30, 40, 50, name=\"Alice\", age=30, city=\"New York\")\n",
        "\n",
        "print(\"\\n---\")\n",
        "\n",
        "example_args_kwargs(\"apple\", \"banana\", color=\"red\", shape=\"round\")"
      ]
    },
    {
      "cell_type": "code",
      "execution_count": 20,
      "metadata": {
        "colab": {
          "base_uri": "https://localhost:8080/",
          "height": 0
        },
        "id": "B16fFw6gnNAa",
        "outputId": "cf5064f7-02be-48b6-f3b5-64bf234426c9"
      },
      "outputs": [
        {
          "name": "stdout",
          "output_type": "stream",
          "text": [
            "Trong hàm:\n",
            "Đây là biến toàn cục\n",
            "Đây là biến cục bộ\n",
            "\n",
            "Ngoài hàm:\n",
            "Đây là biến toàn cục\n"
          ]
        }
      ],
      "source": [
        "# Bài 13: Định nghĩa biến toàn cục và biến cục bộ, minh họa bằng code.\n",
        "bien_toan_cuc = \"Đây là biến toàn cục\"\n",
        "\n",
        "def in_bien():\n",
        "  bien_cuc_bo = \"Đây là biến cục bộ\"\n",
        "  print(\"Trong hàm:\")\n",
        "  print(bien_toan_cuc)\n",
        "  print(bien_cuc_bo)\n",
        "\n",
        "in_bien()\n",
        "\n",
        "print(\"\\nNgoài hàm:\")\n",
        "print(bien_toan_cuc)\n",
        "# print(bien_cuc_bo) # Dòng này sẽ gây lỗi vì bien_cuc_bo chỉ tồn tại trong hàm"
      ]
    },
    {
      "cell_type": "markdown",
      "metadata": {
        "id": "8C6MdSM1nh3U"
      },
      "source": [
        "Bài 14: Giải thích phạm vi của biến được khai báo trong hàm.\n",
        "\n",
        "Phạm vi (scope) của biến trong Python xác định nơi mà biến đó có thể được truy cập. Biến được khai báo bên trong một hàm có phạm vi là **cục bộ (local scope)**. Điều này có nghĩa là:\n",
        "\n",
        "*   Biến đó chỉ tồn tại và có thể được truy cập **bên trong hàm** nơi nó được khai báo.\n",
        "*   Khi hàm kết thúc thực thi, biến cục bộ đó sẽ bị hủy.\n",
        "*   Không thể truy cập biến cục bộ từ bên ngoài hàm.\n",
        "\n",
        "Ví dụ minh họa đã có ở Bài 13, biến `bien_cuc_bo` chỉ có thể truy cập bên trong hàm `in_bien()`."
      ]
    },
    {
      "cell_type": "code",
      "execution_count": 21,
      "metadata": {
        "colab": {
          "base_uri": "https://localhost:8080/",
          "height": 0
        },
        "id": "0adf2904",
        "outputId": "d4331c64-ce6e-4978-bb57-74a188b3434d"
      },
      "outputs": [
        {
          "name": "stdout",
          "output_type": "stream",
          "text": [
            "Trước khi gọi hàm, biến toàn cục là: 10\n",
            "Trong hàm, biến toàn cục là: 20\n",
            "Sau khi gọi hàm, biến toàn cục là: 20\n"
          ]
        }
      ],
      "source": [
        "# Bài 15: Viết hàm sử dụng từ khóa global.\n",
        "bien_toan_cuc_global = 10\n",
        "\n",
        "def thay_doi_bien_toan_cuc():\n",
        "  global bien_toan_cuc_global\n",
        "  bien_toan_cuc_global = 20\n",
        "  print(f\"Trong hàm, biến toàn cục là: {bien_toan_cuc_global}\")\n",
        "\n",
        "print(f\"Trước khi gọi hàm, biến toàn cục là: {bien_toan_cuc_global}\")\n",
        "thay_doi_bien_toan_cuc()\n",
        "print(f\"Sau khi gọi hàm, biến toàn cục là: {bien_toan_cuc_global}\")"
      ]
    },
    {
      "cell_type": "code",
      "execution_count": 22,
      "metadata": {
        "colab": {
          "base_uri": "https://localhost:8080/",
          "height": 0
        },
        "id": "e06d4ad5",
        "outputId": "2fbf32cf-40ba-4ba5-f8f0-db73b5ed4276"
      },
      "outputs": [
        {
          "name": "stdout",
          "output_type": "stream",
          "text": [
            "Trước khi gọi hàm nội, biến bao ngoài là: Biến của hàm bao ngoài\n",
            "Trong hàm nội, biến bao ngoài là: Biến của hàm bao ngoài đã thay đổi\n",
            "Sau khi gọi hàm nội, biến bao ngoài là: Biến của hàm bao ngoài đã thay đổi\n"
          ]
        }
      ],
      "source": [
        "# Bài 16: Viết hàm sử dụng từ khóa nonlocal.\n",
        "def outer_function():\n",
        "  bien_bao_ngoai = \"Biến của hàm bao ngoài\"\n",
        "\n",
        "  def inner_function():\n",
        "    nonlocal bien_bao_ngoai\n",
        "    bien_bao_ngoai = \"Biến của hàm bao ngoài đã thay đổi\"\n",
        "    print(f\"Trong hàm nội, biến bao ngoài là: {bien_bao_ngoai}\")\n",
        "\n",
        "  print(f\"Trước khi gọi hàm nội, biến bao ngoài là: {bien_bao_ngoai}\")\n",
        "  inner_function()\n",
        "  print(f\"Sau khi gọi hàm nội, biến bao ngoài là: {bien_bao_ngoai}\")\n",
        "\n",
        "outer_function()"
      ]
    },
    {
      "cell_type": "code",
      "execution_count": 23,
      "metadata": {
        "colab": {
          "base_uri": "https://localhost:8080/",
          "height": 0
        },
        "id": "44765e75",
        "outputId": "5bce9302-758f-4bc9-a9e4-c9868dd265f0"
      },
      "outputs": [
        {
          "name": "stdout",
          "output_type": "stream",
          "text": [
            "15\n"
          ]
        }
      ],
      "source": [
        "# Bài 17: Cho ví dụ về function annotation để chỉ định kiểu tham số là int.\n",
        "def cong_hai_so(a: int, b: int) -> int:\n",
        "  return a + b\n",
        "\n",
        "print(cong_hai_so(5, 10))"
      ]
    },
    {
      "cell_type": "code",
      "execution_count": 24,
      "metadata": {
        "colab": {
          "base_uri": "https://localhost:8080/",
          "height": 0
        },
        "id": "5320126b",
        "outputId": "b28ab9e8-fc87-4372-dddc-88f5034cd3d7"
      },
      "outputs": [
        {
          "name": "stdout",
          "output_type": "stream",
          "text": [
            "5\n"
          ]
        }
      ],
      "source": [
        "# Bài 18: Viết một hàm có annotation đầu vào kiểu str và đầu ra kiểu int.\n",
        "def do_dai_chuoi(chuoi: str) -> int:\n",
        "  return len(chuoi)\n",
        "\n",
        "print(do_dai_chuoi(\"Hello\"))"
      ]
    },
    {
      "cell_type": "code",
      "execution_count": 25,
      "metadata": {
        "colab": {
          "base_uri": "https://localhost:8080/",
          "height": 0
        },
        "id": "778c5111",
        "outputId": "380d3bf3-083b-4e43-b66f-2ee547c4f1b7"
      },
      "outputs": [
        {
          "name": "stdout",
          "output_type": "stream",
          "text": [
            "{'a': <class 'int'>, 'b': <class 'int'>, 'return': <class 'int'>}\n"
          ]
        }
      ],
      "source": [
        "# Bài 19: Cho biết print(add.__annotations__) sẽ in ra gì.\n",
        "# Giả sử hàm add đã được định nghĩa và có annotation\n",
        "# Nếu chưa có, ta định nghĩa lại hàm add với annotation\n",
        "def add(a: int, b: int) -> int:\n",
        "  return a + b\n",
        "\n",
        "print(add.__annotations__)"
      ]
    },
    {
      "cell_type": "markdown",
      "metadata": {
        "id": "1d89d949"
      },
      "source": [
        "Bài 20: Giải thích ý nghĩa của function annotation.\n",
        "\n",
        "Function annotation trong Python là các gợi ý về kiểu dữ liệu (type hints) được thêm vào các tham số của hàm và giá trị trả về. Ý nghĩa chính của function annotation là:\n",
        "\n",
        "*   **Tăng khả năng đọc và hiểu code:** Giúp người đọc code dễ dàng biết được kiểu dữ liệu mong đợi của các tham số và kiểu dữ liệu trả về của hàm.\n",
        "*   **Hỗ trợ công cụ phân tích tĩnh (static analysis tools) và trình kiểm tra kiểu (type checkers):** Các công cụ như MyPy có thể sử dụng annotation để kiểm tra lỗi kiểu dữ liệu trước khi chạy code, giúp phát hiện sớm các lỗi tiềm ẩn.\n",
        "*   **Tài liệu hóa code:** Annotation đóng vai trò như một hình thức tài liệu hóa, mô tả rõ ràng hơn về giao diện của hàm.\n",
        "*   **Không ảnh hưởng đến thời gian chạy (runtime):** Annotation không thay đổi cách thức hoạt động của chương trình khi chạy. Chúng chỉ là siêu dữ liệu (metadata) có thể được truy cập thông qua thuộc tính `__annotations__` của hàm.\n",
        "\n",
        "Tóm lại, function annotation giúp làm cho code Python trở nên rõ ràng, dễ bảo trì và ít lỗi hơn."
      ]
    },
    {
      "cell_type": "code",
      "execution_count": 26,
      "metadata": {
        "colab": {
          "base_uri": "https://localhost:8080/",
          "height": 0
        },
        "id": "d956d6bc",
        "outputId": "737523d7-a44a-4c55-8e71-7cea3dd3327a"
      },
      "outputs": [
        {
          "name": "stdout",
          "output_type": "stream",
          "text": [
            "5\n",
            "15\n"
          ]
        }
      ],
      "source": [
        "# Bài 21: Định nghĩa một hàm multiply(x, y=1) có tham số mặc định.\n",
        "def multiply(x, y=1):\n",
        "  return x * y\n",
        "\n",
        "print(multiply(5)) # Sử dụng giá trị mặc định của y\n",
        "print(multiply(5, 3)) # Ghi đè giá trị mặc định của y"
      ]
    },
    {
      "cell_type": "code",
      "execution_count": 27,
      "metadata": {
        "colab": {
          "base_uri": "https://localhost:8080/",
          "height": 0
        },
        "id": "6b416dc7",
        "outputId": "4c4fb4bc-254b-43c5-aa22-4de53e5d54c0"
      },
      "outputs": [
        {
          "name": "stdout",
          "output_type": "stream",
          "text": [
            "Tham số chỉ vị trí: 10\n",
            "Tham số chỉ từ khóa: 20\n"
          ]
        }
      ],
      "source": [
        "# Bài 22: Viết ví dụ minh họa việc gọi hàm với positional-only và keyword-only arguments\n",
        "# cùng lúc.\n",
        "def combined_args(pos_only, /, keyword_only):\n",
        "  print(f\"Tham số chỉ vị trí: {pos_only}\")\n",
        "  print(f\"Tham số chỉ từ khóa: {keyword_only}\")\n",
        "\n",
        "# Gọi hàm\n",
        "combined_args(10, keyword_only=20)\n",
        "# combined_args(pos_only=10, keyword_only=20) # Lỗi vì pos_only là positional-only\n",
        "# combined_args(10, 20) # Lỗi vì keyword_only là keyword-only"
      ]
    },
    {
      "cell_type": "code",
      "execution_count": 28,
      "metadata": {
        "colab": {
          "base_uri": "https://localhost:8080/",
          "height": 0
        },
        "id": "6422afb7",
        "outputId": "6bf46f4b-9ed9-44fd-a470-e8a48d6f7dc4"
      },
      "outputs": [
        {
          "name": "stdout",
          "output_type": "stream",
          "text": [
            "Số lớn nhất trong [1, 5, 2, 8, 3] là: 8\n",
            "Số lớn nhất trong danh sách rỗng là: None\n"
          ]
        }
      ],
      "source": [
        "# Bài 23: Tạo một hàm nhận danh sách số và trả về số lớn nhất.\n",
        "def tim_so_lon_nhat(danh_sach_so):\n",
        "  \"\"\" Nhận danh sách số và trả về số lớn nhất \"\"\"\n",
        "  if not danh_sach_so:\n",
        "    return None # Trả về None nếu danh sách rỗng\n",
        "  so_lon_nhat = danh_sach_so[0]\n",
        "  for so in danh_sach_so:\n",
        "    if so > so_lon_nhat:\n",
        "      so_lon_nhat = so\n",
        "  return so_lon_nhat\n",
        "\n",
        "# Ví dụ sử dụng\n",
        "numbers1 = [1, 5, 2, 8, 3]\n",
        "print(f\"Số lớn nhất trong {numbers1} là: {tim_so_lon_nhat(numbers1)}\")\n",
        "\n",
        "numbers2 = []\n",
        "print(f\"Số lớn nhất trong danh sách rỗng là: {tim_so_lon_nhat(numbers2)}\")"
      ]
    },
    {
      "cell_type": "code",
      "execution_count": 31,
      "metadata": {
        "colab": {
          "base_uri": "https://localhost:8080/",
          "height": 332
        },
        "id": "92bff3c4",
        "outputId": "785f4bf0-f9c2-45bf-e613-a156af5446d8"
      },
      "outputs": [
        {
          "name": "stdout",
          "output_type": "stream",
          "text": [
            "5 giai thừa là:  120\n",
            "0 giai thừa là:  1\n"
          ]
        },
        {
          "ename": "ValueError",
          "evalue": "Giai thừa không định nghĩa cho số âm",
          "output_type": "error",
          "traceback": [
            "\u001b[0;31m---------------------------------------------------------------------------\u001b[0m",
            "\u001b[0;31mValueError\u001b[0m                                Traceback (most recent call last)",
            "\u001b[0;32m/tmp/ipython-input-1926591502.py\u001b[0m in \u001b[0;36m<cell line: 0>\u001b[0;34m()\u001b[0m\n\u001b[1;32m     12\u001b[0m \u001b[0mprint\u001b[0m\u001b[0;34m(\u001b[0m\u001b[0;34m\"5 giai thừa là: \"\u001b[0m\u001b[0;34m,\u001b[0m \u001b[0mfactorial\u001b[0m\u001b[0;34m(\u001b[0m\u001b[0;36m5\u001b[0m\u001b[0;34m)\u001b[0m\u001b[0;34m)\u001b[0m\u001b[0;34m\u001b[0m\u001b[0;34m\u001b[0m\u001b[0m\n\u001b[1;32m     13\u001b[0m \u001b[0mprint\u001b[0m\u001b[0;34m(\u001b[0m\u001b[0;34m\"0 giai thừa là: \"\u001b[0m\u001b[0;34m,\u001b[0m \u001b[0mfactorial\u001b[0m\u001b[0;34m(\u001b[0m\u001b[0;36m0\u001b[0m\u001b[0;34m)\u001b[0m\u001b[0;34m)\u001b[0m\u001b[0;34m\u001b[0m\u001b[0;34m\u001b[0m\u001b[0m\n\u001b[0;32m---> 14\u001b[0;31m \u001b[0mprint\u001b[0m\u001b[0;34m(\u001b[0m\u001b[0;34m\"-1 giai thừa là: \"\u001b[0m\u001b[0;34m,\u001b[0m \u001b[0mfactorial\u001b[0m\u001b[0;34m(\u001b[0m\u001b[0;34m-\u001b[0m\u001b[0;36m1\u001b[0m\u001b[0;34m)\u001b[0m\u001b[0;34m)\u001b[0m\u001b[0;34m\u001b[0m\u001b[0;34m\u001b[0m\u001b[0m\n\u001b[0m",
            "\u001b[0;32m/tmp/ipython-input-1926591502.py\u001b[0m in \u001b[0;36mfactorial\u001b[0;34m(n)\u001b[0m\n\u001b[1;32m      3\u001b[0m   \u001b[0;34m\"\"\" Hàm tính n giai thừa bằng đệ quy!\"\"\"\u001b[0m\u001b[0;34m\u001b[0m\u001b[0;34m\u001b[0m\u001b[0m\n\u001b[1;32m      4\u001b[0m   \u001b[0;32mif\u001b[0m \u001b[0mn\u001b[0m \u001b[0;34m<\u001b[0m \u001b[0;36m0\u001b[0m\u001b[0;34m:\u001b[0m\u001b[0;34m\u001b[0m\u001b[0;34m\u001b[0m\u001b[0m\n\u001b[0;32m----> 5\u001b[0;31m     \u001b[0;32mraise\u001b[0m \u001b[0mValueError\u001b[0m\u001b[0;34m(\u001b[0m\u001b[0;34m\"Giai thừa không định nghĩa cho số âm\"\u001b[0m\u001b[0;34m)\u001b[0m\u001b[0;34m\u001b[0m\u001b[0;34m\u001b[0m\u001b[0m\n\u001b[0m\u001b[1;32m      6\u001b[0m   \u001b[0;32melif\u001b[0m \u001b[0mn\u001b[0m \u001b[0;34m==\u001b[0m \u001b[0;36m0\u001b[0m\u001b[0;34m:\u001b[0m\u001b[0;34m\u001b[0m\u001b[0;34m\u001b[0m\u001b[0m\n\u001b[1;32m      7\u001b[0m     \u001b[0;32mreturn\u001b[0m \u001b[0;36m1\u001b[0m\u001b[0;34m\u001b[0m\u001b[0;34m\u001b[0m\u001b[0m\n",
            "\u001b[0;31mValueError\u001b[0m: Giai thừa không định nghĩa cho số âm"
          ]
        }
      ],
      "source": [
        "# Bài 24: Viết hàm factorial(n) sử dụng đệ quy.\n",
        "def factorial(n):\n",
        "  \"\"\" Hàm tính n giai thừa bằng đệ quy!\"\"\"\n",
        "  if n < 0:\n",
        "    raise ValueError(\"Giai thừa không định nghĩa cho số âm\")\n",
        "  elif n == 0:\n",
        "    return 1\n",
        "  else:\n",
        "    return n * factorial(n-1)\n",
        "\n",
        "# Ví dụ sử dụng\n",
        "print(\"5 giai thừa là: \", factorial(5))\n",
        "print(\"0 giai thừa là: \", factorial(0))\n",
        "print(\"-1 giai thừa là: \", factorial(-1))"
      ]
    },
    {
      "cell_type": "code",
      "execution_count": 30,
      "metadata": {
        "id": "b10d0ed0"
      },
      "outputs": [],
      "source": [
        "# Bài 25: Cho biết kết quả của đoạn code:\n",
        "# def f(x, y=2): return x*y\n",
        "# print(f(3))\n",
        "\n",
        "# Kết quả của đoạn code trên là 6.\n",
        "# Giải thích:\n",
        "# Hàm f nhận hai đối số x và y, với y có giá trị mặc định là 2.\n",
        "# Khi gọi f(3), giá trị 3 được gán cho x, và y sử dụng giá trị mặc định là 2.\n",
        "# Hàm trả về kết quả của x * y, tức là 3 * 2 = 6.\n",
        "# Do đó, print(f(3)) sẽ in ra 6."
      ]
    },
    {
      "cell_type": "code",
      "execution_count": 32,
      "metadata": {
        "colab": {
          "base_uri": "https://localhost:8080/",
          "height": 0
        },
        "id": "b3175df6",
        "outputId": "6f9ddd3c-acde-4dec-979c-91ad23ff1629"
      },
      "outputs": [
        {
          "name": "stdout",
          "output_type": "stream",
          "text": [
            "Ví dụ dùng list rỗng làm default:\n",
            "[1]\n",
            "[1, 2]\n",
            "\n",
            "Ví dụ dùng None làm default:\n",
            "[1]\n",
            "[2]\n"
          ]
        }
      ],
      "source": [
        "# Bài 26: Giải thích tại sao dùng None làm giá trị mặc định đôi khi tốt hơn danh sách rỗng.\n",
        "\n",
        "# Sử dụng None làm giá trị mặc định cho các tham số kiểu danh sách (list) hoặc dictionary\n",
        "# đôi khi tốt hơn việc sử dụng trực tiếp một danh sách rỗng [] hoặc dictionary rỗng {}.\n",
        "# Lý do là bởi vì các giá trị mặc định trong Python chỉ được tạo ra một lần khi hàm được định nghĩa,\n",
        "# không phải mỗi lần hàm được gọi.\n",
        "\n",
        "# Nếu bạn sử dụng một danh sách rỗng làm giá trị mặc định và gọi hàm nhiều lần,\n",
        "# tất cả các lần gọi hàm sẽ sử dụng cùng một danh sách rỗng đó.\n",
        "# Điều này có thể dẫn đến hành vi không mong muốn khi bạn thêm hoặc sửa đổi danh sách đó trong hàm,\n",
        "# vì những thay đổi này sẽ ảnh hưởng đến tất cả các lần gọi hàm sau này.\n",
        "\n",
        "# Ví dụ minh họa vấn đề khi dùng list rỗng làm default:\n",
        "def append_to_list_bad(value, my_list=[]):\n",
        "  my_list.append(value)\n",
        "  return my_list\n",
        "\n",
        "print(\"Ví dụ dùng list rỗng làm default:\")\n",
        "print(append_to_list_bad(1)) # Output: [1]\n",
        "print(append_to_list_bad(2)) # Output: [1, 2] - Kết quả không mong muốn!\n",
        "\n",
        "# Ví dụ minh họa cách dùng None làm default (cách đúng):\n",
        "def append_to_list_good(value, my_list=None):\n",
        "  if my_list is None:\n",
        "    my_list = []\n",
        "  my_list.append(value)\n",
        "  return my_list\n",
        "\n",
        "print(\"\\nVí dụ dùng None làm default:\")\n",
        "print(append_to_list_good(1)) # Output: [1]\n",
        "print(append_to_list_good(2)) # Output: [2] - Mỗi lần gọi là một danh sách mới"
      ]
    },
    {
      "cell_type": "code",
      "execution_count": 33,
      "metadata": {
        "colab": {
          "base_uri": "https://localhost:8080/",
          "height": 0
        },
        "id": "68d3dda4",
        "outputId": "676aa7f5-4356-4107-85e8-704f9114cfee"
      },
      "outputs": [
        {
          "name": "stdout",
          "output_type": "stream",
          "text": [
            "11 là số nguyên tố: True\n",
            "15 là số nguyên tố: False\n"
          ]
        }
      ],
      "source": [
        "# Bài 27: Viết hàm kiểm tra một số có phải số nguyên tố hay không.\n",
        "\n",
        "def is_prime(n):\n",
        "  \"\"\"\n",
        "  Kiểm tra xem một số có phải là số nguyên tố hay không.\n",
        "  Số nguyên tố là số tự nhiên lớn hơn 1 và chỉ có hai ước dương phân biệt là 1 và chính nó.\n",
        "  \"\"\"\n",
        "  if n <= 1:\n",
        "    return False\n",
        "  if n <= 3:\n",
        "    return True\n",
        "  if n % 2 == 0 or n % 3 == 0:\n",
        "    return False\n",
        "\n",
        "  i = 5\n",
        "  while i * i <= n:\n",
        "    if n % i == 0 or n % (i + 2) == 0:\n",
        "      return False\n",
        "    i += 6\n",
        "  return True\n",
        "\n",
        "# Ví dụ sử dụng\n",
        "print(f\"11 là số nguyên tố: {is_prime(11)}\")\n",
        "print(f\"15 là số nguyên tố: {is_prime(15)}\")\n"
      ]
    },
    {
      "cell_type": "code",
      "execution_count": 34,
      "metadata": {
        "colab": {
          "base_uri": "https://localhost:8080/",
          "height": 0
        },
        "id": "0a77de4e",
        "outputId": "4e1643f5-06f4-4104-fb8b-461cb2d3b0d2"
      },
      "outputs": [
        {
          "name": "stdout",
          "output_type": "stream",
          "text": [
            "Bình phương của [1, 2, 3, 4, 5] là: [1, 4, 9, 16, 25]\n",
            "Nhân đôi của [1, 2, 3, 4, 5] là: [2, 4, 6, 8, 10]\n"
          ]
        }
      ],
      "source": [
        "# Bài 28: Cho ví dụ về việc sử dụng hàm như một đối số truyền vào hàm khác.\n",
        "\n",
        "def ap_dung_ham(func, danh_sach):\n",
        "  \"\"\"\n",
        "  Hàm nhận một hàm khác (func) và một danh sách (danh_sach)\n",
        "  và áp dụng hàm đó cho từng phần tử của danh sách.\n",
        "  \"\"\"\n",
        "  ket_qua = []\n",
        "  for phan_tu in danh_sach:\n",
        "    ket_qua.append(func(phan_tu))\n",
        "  return ket_qua\n",
        "\n",
        "# Hàm ví dụ để truyền vào\n",
        "def binh_phuong(x):\n",
        "  return x * x\n",
        "\n",
        "def nhan_doi(x):\n",
        "  return x * 2\n",
        "\n",
        "# Sử dụng hàm ap_dung_ham với hàm binh_phuong\n",
        "numbers = [1, 2, 3, 4, 5]\n",
        "binh_phuong_cac_so = ap_dung_ham(binh_phuong, numbers)\n",
        "print(f\"Bình phương của {numbers} là: {binh_phuong_cac_so}\")\n",
        "\n",
        "# Sử dụng hàm ap_dung_ham với hàm nhan_doi\n",
        "nhan_doi_cac_so = ap_dung_ham(nhan_doi, numbers)\n",
        "print(f\"Nhân đôi của {numbers} là: {nhan_doi_cac_so}\")"
      ]
    },
    {
      "cell_type": "code",
      "execution_count": 35,
      "metadata": {
        "colab": {
          "base_uri": "https://localhost:8080/",
          "height": 0
        },
        "id": "41e2cc5d",
        "outputId": "649ee422-85a6-4e19-fc75-25d3b2e8b0b5"
      },
      "outputs": [
        {
          "name": "stdout",
          "output_type": "stream",
          "text": [
            "Bình phương của 7 là: 49\n",
            "Bình phương của 10 là: 100\n"
          ]
        }
      ],
      "source": [
        "# Bài 29: Viết hàm ẩn danh (lambda) để tính bình phương một số.\n",
        "\n",
        "binh_phuong_lambda = lambda x: x ** 2\n",
        "\n",
        "print(f\"Bình phương của 7 là: {binh_phuong_lambda(7)}\")\n",
        "print(f\"Bình phương của 10 là: {binh_phuong_lambda(10)}\")"
      ]
    },
    {
      "cell_type": "code",
      "execution_count": 36,
      "metadata": {
        "colab": {
          "base_uri": "https://localhost:8080/",
          "height": 0
        },
        "id": "a1c350de",
        "outputId": "8a426ac5-1da0-44a6-b066-f09df1895cbc"
      },
      "outputs": [
        {
          "name": "stdout",
          "output_type": "stream",
          "text": [
            "Sử dụng hàm return:\n",
            "Giá trị nhận được từ hàm return: 10\n",
            "\n",
            "Sử dụng hàm print:\n",
            "10\n",
            "Giá trị nhận được từ hàm print: None\n"
          ]
        }
      ],
      "source": [
        "# Bài 30: Phân biệt return và print trong hàm Python.\n",
        "\n",
        "# return:\n",
        "# - Kết thúc việc thực thi của hàm và trả về một giá trị từ hàm đó.\n",
        "# - Khi return được thực thi, hàm dừng lại ngay lập tức.\n",
        "# - Giá trị trả về có thể được sử dụng (gán cho biến, dùng trong biểu thức...).\n",
        "# - Nếu không có return, hàm mặc định trả về None.\n",
        "\n",
        "# print:\n",
        "# - Chỉ đơn thuần là in (hiển thị) một giá trị ra console hoặc output.\n",
        "# - Không kết thúc việc thực thi của hàm.\n",
        "# - Giá trị được in ra không được trả về từ hàm để sử dụng tiếp.\n",
        "\n",
        "# Ví dụ minh họa:\n",
        "def ham_return(x):\n",
        "  return x * 2 # Trả về giá trị\n",
        "\n",
        "def ham_print(x):\n",
        "  print(x * 2) # Chỉ in giá trị\n",
        "\n",
        "print(\"Sử dụng hàm return:\")\n",
        "ket_qua_return = ham_return(5)\n",
        "print(f\"Giá trị nhận được từ hàm return: {ket_qua_return}\") # Có thể sử dụng giá trị trả về\n",
        "\n",
        "print(\"\\nSử dụng hàm print:\")\n",
        "ket_qua_print = ham_print(5) # Chỉ in ra 10\n",
        "print(f\"Giá trị nhận được từ hàm print: {ket_qua_print}\") # Giá trị nhận được là None"
      ]
    },
    {
      "cell_type": "markdown",
      "metadata": {
        "id": "FdRoWS_fpDMl"
      },
      "source": [
        "## Phần B"
      ]
    },
    {
      "cell_type": "code",
      "execution_count": 39,
      "metadata": {
        "colab": {
          "base_uri": "https://localhost:8080/",
          "height": 0
        },
        "id": "aebd0363",
        "outputId": "58e05ae1-be8e-4d58-c825-662c02666b3f"
      },
      "outputs": [
        {
          "name": "stdout",
          "output_type": "stream",
          "text": [
            "Điểm 9.5: A\n",
            "Điểm 8.2: B\n",
            "Điểm 6.8: D\n",
            "Điểm 10.5: Điểm không hợp lệ\n"
          ]
        }
      ],
      "source": [
        "# Bài 1: Viết một hàm calculate_grade(score) trả về hạng (A, B, C, D, F) dựa trên điểm số.\n",
        "def calculate_grade(score):\n",
        "  \"\"\"Trả về hạng dựa trên điểm số.\"\"\"\n",
        "  if 9 <= score <= 10:\n",
        "    return 'A'\n",
        "  elif 8 <= score < 9:\n",
        "    return 'B'\n",
        "  elif 7 <= score < 8:\n",
        "    return 'C'\n",
        "  elif 6 <= score < 7:\n",
        "    return 'D'\n",
        "  elif 0 <= score < 6:\n",
        "    return 'F'\n",
        "  else:\n",
        "    return \"Điểm không hợp lệ\"\n",
        "\n",
        "# Ví dụ sử dụng\n",
        "print(f\"Điểm 9.5: {calculate_grade(9.5)}\")\n",
        "print(f\"Điểm 8.2: {calculate_grade(8.2)}\")\n",
        "print(f\"Điểm 6.8: {calculate_grade(6.8)}\")\n",
        "print(f\"Điểm 10.5: {calculate_grade(10.5)}\")"
      ]
    },
    {
      "cell_type": "code",
      "execution_count": 40,
      "metadata": {
        "colab": {
          "base_uri": "https://localhost:8080/",
          "height": 0
        },
        "id": "2e7f1a66",
        "outputId": "03d3ed6c-4cc2-49d6-8066-4ad4907ca990"
      },
      "outputs": [
        {
          "name": "stdout",
          "output_type": "stream",
          "text": [
            "Diện tích hình chữ nhật (4x5): 20\n",
            "Diện tích tam giác (đáy 6, cao 3): 9.0\n",
            "Diện tích hình tròn (bán kính 7): 153.93804002589985\n",
            "Diện tích hình vuông (cạnh 5): Hình không hỗ trợ.\n",
            "Diện tích hình chữ nhật thiếu tham số: Thiếu tham số 'width' hoặc 'height' cho hình chữ nhật.\n"
          ]
        }
      ],
      "source": [
        "# Bài 2: Tạo hàm area(shape, **kwargs) tính diện tích hình chữ nhật, tam giác hoặc hình tròn dựa vào tham số.\n",
        "import math\n",
        "\n",
        "def area(shape, **kwargs):\n",
        "  \"\"\"Tính diện tích các hình dựa vào tên hình và tham số.\"\"\"\n",
        "  if shape.lower() == 'rectangle':\n",
        "    # Diện tích hình chữ nhật: width * height\n",
        "    if 'width' in kwargs and 'height' in kwargs:\n",
        "      return kwargs['width'] * kwargs['height']\n",
        "    else:\n",
        "      return \"Thiếu tham số 'width' hoặc 'height' cho hình chữ nhật.\"\n",
        "  elif shape.lower() == 'triangle':\n",
        "    # Diện tích tam giác: 0.5 * base * height\n",
        "    if 'base' in kwargs and 'height' in kwargs:\n",
        "      return 0.5 * kwargs['base'] * kwargs['height']\n",
        "    else:\n",
        "      return \"Thiếu tham số 'base' hoặc 'height' cho tam giác.\"\n",
        "  elif shape.lower() == 'circle':\n",
        "    # Diện tích hình tròn: pi * radius^2\n",
        "    if 'radius' in kwargs:\n",
        "      return math.pi * (kwargs['radius'] ** 2)\n",
        "    else:\n",
        "      return \"Thiếu tham số 'radius' cho hình tròn.\"\n",
        "  else:\n",
        "    return \"Hình không hỗ trợ.\"\n",
        "\n",
        "# Ví dụ sử dụng\n",
        "print(f\"Diện tích hình chữ nhật (4x5): {area('rectangle', width=4, height=5)}\")\n",
        "print(f\"Diện tích tam giác (đáy 6, cao 3): {area('triangle', base=6, height=3)}\")\n",
        "print(f\"Diện tích hình tròn (bán kính 7): {area('circle', radius=7)}\")\n",
        "print(f\"Diện tích hình vuông (cạnh 5): {area('square', side=5)}\") # Hình không hỗ trợ\n",
        "print(f\"Diện tích hình chữ nhật thiếu tham số: {area('rectangle', width=4)}\")"
      ]
    },
    {
      "cell_type": "code",
      "execution_count": 41,
      "metadata": {
        "colab": {
          "base_uri": "https://localhost:8080/",
          "height": 0
        },
        "id": "70a5559a",
        "outputId": "8126094a-c630-4b32-b19a-36b97ddff9fe"
      },
      "outputs": [
        {
          "name": "stdout",
          "output_type": "stream",
          "text": [
            "Số từ trong 'Đây là một câu văn đơn giản.': 7\n",
            "Số từ trong 'Hello world! This is a test.': 6\n",
            "Số từ trong '': 0\n"
          ]
        }
      ],
      "source": [
        "# Bài 3: Viết hàm count_words(text) trả về số từ trong một chuỗi.\n",
        "import re\n",
        "\n",
        "def count_words(text):\n",
        "  \"\"\"Đếm số từ trong một chuỗi.\"\"\"\n",
        "  # Sử dụng biểu thức chính quy để tìm các từ (chuỗi ký tự chữ cái)\n",
        "  words = re.findall(r'\\b\\w+\\b', text.lower())\n",
        "  return len(words)\n",
        "\n",
        "# Ví dụ sử dụng\n",
        "text1 = \"Đây là một câu văn đơn giản.\"\n",
        "print(f\"Số từ trong '{text1}': {count_words(text1)}\")\n",
        "\n",
        "text2 = \"Hello world! This is a test.\"\n",
        "print(f\"Số từ trong '{text2}': {count_words(text2)}\")\n",
        "\n",
        "text3 = \"\"\n",
        "print(f\"Số từ trong '{text3}': {count_words(text3)}\")"
      ]
    },
    {
      "cell_type": "code",
      "execution_count": 42,
      "metadata": {
        "colab": {
          "base_uri": "https://localhost:8080/",
          "height": 0
        },
        "id": "553d0e50",
        "outputId": "cd79d20d-93c5-45bb-c3b8-4b33f4eb4001"
      },
      "outputs": [
        {
          "name": "stdout",
          "output_type": "stream",
          "text": [
            "Dãy Fibonacci 0 phần tử: []\n",
            "Dãy Fibonacci 1 phần tử: [0]\n",
            "Dãy Fibonacci 5 phần tử: [0, 1, 1, 2, 3]\n",
            "Dãy Fibonacci 10 phần tử: [0, 1, 1, 2, 3, 5, 8, 13, 21, 34]\n"
          ]
        }
      ],
      "source": [
        "# Bài 4: Định nghĩa hàm fibonacci(n) trả về dãy Fibonacci có n phần tử.\n",
        "def fibonacci(n):\n",
        "  \"\"\"Trả về danh sách chứa n phần tử đầu tiên của dãy Fibonacci.\"\"\"\n",
        "  if n <= 0:\n",
        "    return []\n",
        "  elif n == 1:\n",
        "    return [0]\n",
        "  else:\n",
        "    dãy = [0, 1]\n",
        "    while len(dãy) < n:\n",
        "      next_fib = dãy[-1] + dãy[-2]\n",
        "      dãy.append(next_fib)\n",
        "    return dãy\n",
        "\n",
        "# Ví dụ sử dụng\n",
        "print(f\"Dãy Fibonacci 0 phần tử: {fibonacci(0)}\")\n",
        "print(f\"Dãy Fibonacci 1 phần tử: {fibonacci(1)}\")\n",
        "print(f\"Dãy Fibonacci 5 phần tử: {fibonacci(5)}\")\n",
        "print(f\"Dãy Fibonacci 10 phần tử: {fibonacci(10)}\")"
      ]
    },
    {
      "cell_type": "code",
      "execution_count": 43,
      "metadata": {
        "colab": {
          "base_uri": "https://localhost:8080/",
          "height": 0
        },
        "id": "6d51af75",
        "outputId": "a10b07bc-d138-4ccc-cf12-f8ee2b422781"
      },
      "outputs": [
        {
          "name": "stdout",
          "output_type": "stream",
          "text": [
            "'madam' là chuỗi đối xứng: True\n",
            "'racecar' là chuỗi đối xứng: True\n",
            "'hello' là chuỗi đối xứng: False\n",
            "'A man, a plan, a canal: Panama.' là chuỗi đối xứng: True\n"
          ]
        }
      ],
      "source": [
        "# Bài 5: Viết hàm is_palindrome(s) kiểm tra chuỗi có đối xứng không.\n",
        "import re\n",
        "\n",
        "def is_palindrome(s):\n",
        "  \"\"\"Kiểm tra xem chuỗi có đối xứng không (không phân biệt hoa thường và dấu cách).\"\"\"\n",
        "  # Chuyển chuỗi về chữ thường và loại bỏ các ký tự không phải chữ cái hoặc số\n",
        "  chuoi_sach = re.sub(r'[^a-z0-9]', '', s.lower())\n",
        "  # So sánh chuỗi đã làm sạch với chuỗi đảo ngược của nó\n",
        "  return chuoi_sach == chuoi_sach[::-1]\n",
        "\n",
        "# Ví dụ sử dụng\n",
        "print(f\"'madam' là chuỗi đối xứng: {is_palindrome('madam')}\")\n",
        "print(f\"'racecar' là chuỗi đối xứng: {is_palindrome('racecar')}\")\n",
        "print(f\"'hello' là chuỗi đối xứng: {is_palindrome('hello')}\")\n",
        "print(f\"'A man, a plan, a canal: Panama.' là chuỗi đối xứng: {is_palindrome('A man, a plan, a canal: Panama.')}\")"
      ]
    },
    {
      "cell_type": "code",
      "execution_count": 45,
      "metadata": {
        "colab": {
          "base_uri": "https://localhost:8080/",
          "height": 0
        },
        "id": "60ce7402",
        "outputId": "145a9588-dc98-489f-ac57-f98dcfa06107"
      },
      "outputs": [
        {
          "name": "stdout",
          "output_type": "stream",
          "text": [
            "Bình phương các số lẻ trong [1, 2, 3, 4, 5, 6, 7, 8, 9] là: [1, 9, 25, 49, 81]\n",
            "Bình phương các số lẻ trong [] là: []\n"
          ]
        }
      ],
      "source": [
        "# Bài 6: Viết hàm nhận vào danh sách số, trả về danh sách mới chứa bình phương các số lẻ.\n",
        "def binh_phuong_so_le(danh_sach_so):\n",
        "  \"\"\"Nhận danh sách số, trả về danh sách bình phương các số lẻ.\"\"\"\n",
        "  ket_qua = []\n",
        "  for so in danh_sach_so:\n",
        "    if so % 2 != 0: # Kiểm tra nếu là số lẻ\n",
        "      ket_qua.append(so ** 2)\n",
        "  return ket_qua\n",
        "\n",
        "# Ví dụ sử dụng\n",
        "numbers = [1, 2, 3, 4, 5, 6, 7, 8, 9]\n",
        "binh_phuong_le = binh_phuong_so_le(numbers)\n",
        "print(f\"Bình phương các số lẻ trong {numbers} là: {binh_phuong_le}\")\n",
        "\n",
        "empty_list = []\n",
        "print(f\"Bình phương các số lẻ trong {empty_list} là: {binh_phuong_so_le(empty_list)}\")"
      ]
    },
    {
      "cell_type": "code",
      "execution_count": 46,
      "metadata": {
        "colab": {
          "base_uri": "https://localhost:8080/",
          "height": 0
        },
        "id": "b1c91805",
        "outputId": "bfea942a-51b6-43d8-b865-83aad8e569fd"
      },
      "outputs": [
        {
          "name": "stdout",
          "output_type": "stream",
          "text": [
            "Sắp xếp tăng dần: [1, 2, 5, 8, 9]\n",
            "Sắp xếp giảm dần: [9, 8, 5, 2, 1]\n",
            "Sắp xếp một số: [10]\n",
            "Sắp xếp không số: []\n"
          ]
        }
      ],
      "source": [
        "# Bài 7: Viết hàm sort_numbers(*args, reverse=False) sắp xếp các số theo thứ tự tăng hoặc giảm.\n",
        "def sort_numbers(*args, reverse=False):\n",
        "  \"\"\"Sắp xếp các số truyền vào theo thứ tự tăng dần hoặc giảm dần.\"\"\"\n",
        "  # Chuyển args thành danh sách để có thể sắp xếp\n",
        "  numbers = list(args)\n",
        "  numbers.sort(reverse=reverse)\n",
        "  return numbers\n",
        "\n",
        "# Ví dụ sử dụng\n",
        "sorted_asc = sort_numbers(5, 2, 8, 1, 9)\n",
        "print(f\"Sắp xếp tăng dần: {sorted_asc}\")\n",
        "\n",
        "sorted_desc = sort_numbers(5, 2, 8, 1, 9, reverse=True)\n",
        "print(f\"Sắp xếp giảm dần: {sorted_desc}\")\n",
        "\n",
        "single_number = sort_numbers(10)\n",
        "print(f\"Sắp xếp một số: {single_number}\")\n",
        "\n",
        "no_number = sort_numbers()\n",
        "print(f\"Sắp xếp không số: {no_number}\")"
      ]
    },
    {
      "cell_type": "code",
      "execution_count": 48,
      "metadata": {
        "colab": {
          "base_uri": "https://localhost:8080/",
          "height": 0
        },
        "id": "cb2e692d",
        "outputId": "fbefe3aa-f7fc-4e9f-dd0d-72ca3f2119c4"
      },
      "outputs": [
        {
          "name": "stdout",
          "output_type": "stream",
          "text": [
            "Tên: Nguyen Van A\n",
            "Tuổi: 20\n",
            "Thông tin bổ sung:\n",
            "- Major: DS\n",
            "- University: HCMUS\n",
            "--------------------\n",
            "Tên: Tran Thi B\n",
            "Tuổi: 21\n",
            "Thông tin bổ sung:\n",
            "- Hometown: Hanoi\n"
          ]
        }
      ],
      "source": [
        "# Bài 8: Viết hàm student_info(name, age, **kwargs) để quản lý thông tin sinh viên.\n",
        "def student_info(name, age, **kwargs):\n",
        "  \"\"\"Quản lý thông tin sinh viên.\"\"\"\n",
        "  print(f\"Tên: {name}\")\n",
        "  print(f\"Tuổi: {age}\")\n",
        "  if kwargs:\n",
        "    print(\"Thông tin bổ sung:\")\n",
        "    for key, value in kwargs.items():\n",
        "      print(f\"- {key.replace('_', ' ').title()}: {value}\") # Format key cho dễ đọc\n",
        "\n",
        "# Ví dụ sử dụng\n",
        "student_info(\"Nguyen Van A\", 20, major=\"DS\", university=\"HCMUS\")\n",
        "print(\"-\" * 20)\n",
        "student_info(\"Tran Thi B\", 21, hometown=\"Hanoi\")"
      ]
    },
    {
      "cell_type": "code",
      "execution_count": 49,
      "metadata": {
        "colab": {
          "base_uri": "https://localhost:8080/",
          "height": 0
        },
        "id": "6d7b70e9",
        "outputId": "7aa47eb6-49df-4e0a-e4ed-c4e2bf5c50a2"
      },
      "outputs": [
        {
          "name": "stdout",
          "output_type": "stream",
          "text": [
            "Áp dụng phép cộng cho 10 và 5: 15\n",
            "Áp dụng phép trừ cho 10 và 5: 5\n",
            "Áp dụng phép nhân cho 10 và 5: 50\n"
          ]
        }
      ],
      "source": [
        "# Bài 9: Viết hàm apply_operation(x, y, func) nhận một hàm làm đối số để thực hiện phép toán.\n",
        "def apply_operation(x, y, func):\n",
        "  \"\"\"Áp dụng một hàm (phép toán) lên hai số x và y.\"\"\"\n",
        "  return func(x, y)\n",
        "\n",
        "# Các hàm phép toán\n",
        "def add(a, b):\n",
        "  return a + b\n",
        "\n",
        "def subtract(a, b):\n",
        "  return a - b\n",
        "\n",
        "def multiply(a, b):\n",
        "  return a * b\n",
        "\n",
        "# Ví dụ sử dụng\n",
        "result_add = apply_operation(10, 5, add)\n",
        "print(f\"Áp dụng phép cộng cho 10 và 5: {result_add}\")\n",
        "\n",
        "result_subtract = apply_operation(10, 5, subtract)\n",
        "print(f\"Áp dụng phép trừ cho 10 và 5: {result_subtract}\")\n",
        "\n",
        "result_multiply = apply_operation(10, 5, multiply)\n",
        "print(f\"Áp dụng phép nhân cho 10 và 5: {result_multiply}\")"
      ]
    },
    {
      "cell_type": "code",
      "execution_count": 50,
      "metadata": {
        "colab": {
          "base_uri": "https://localhost:8080/",
          "height": 0
        },
        "id": "3132e531",
        "outputId": "ed24e9a7-219b-4ad6-afad-9a213ce2a8d9"
      },
      "outputs": [
        {
          "name": "stdout",
          "output_type": "stream",
          "text": [
            "10 / 2 = 5.0\n",
            "10 / 0 = Lỗi: Không thể chia cho 0.\n",
            "5 / 3 = 1.6666666666666667\n"
          ]
        }
      ],
      "source": [
        "# Bài 10: Viết hàm safe_divide(a, b) xử lý ngoại lệ khi chia cho 0.\n",
        "def safe_divide(a, b):\n",
        "  \"\"\"Chia hai số a cho b, xử lý trường hợp chia cho 0.\"\"\"\n",
        "  try:\n",
        "    result = a / b\n",
        "    return result\n",
        "  except ZeroDivisionError:\n",
        "    return \"Lỗi: Không thể chia cho 0.\"\n",
        "\n",
        "# Ví dụ sử dụng\n",
        "print(f\"10 / 2 = {safe_divide(10, 2)}\")\n",
        "print(f\"10 / 0 = {safe_divide(10, 0)}\")\n",
        "print(f\"5 / 3 = {safe_divide(5, 3)}\")"
      ]
    },
    {
      "cell_type": "code",
      "execution_count": 51,
      "metadata": {
        "colab": {
          "base_uri": "https://localhost:8080/",
          "height": 0
        },
        "id": "8a41181e",
        "outputId": "7cb2a5b9-9dde-4018-9686-02aa6f0e47a5"
      },
      "outputs": [
        {
          "name": "stdout",
          "output_type": "stream",
          "text": [
            "Tần suất từ trong 'Python programming is fun. Python is versatile.': Counter({'python': 2, 'is': 2, 'programming': 1, 'fun': 1, 'versatile': 1})\n",
            "Tần suất từ trong 'Hello world hello python': Counter({'hello': 2, 'world': 1, 'python': 1})\n"
          ]
        }
      ],
      "source": [
        "# Bài 11: Viết hàm word_frequency(text) trả về từ điển đếm số lần xuất hiện của từ.\n",
        "import re\n",
        "from collections import Counter\n",
        "\n",
        "def word_frequency(text):\n",
        "  \"\"\"Trả về từ điển đếm số lần xuất hiện của mỗi từ trong chuỗi.\"\"\"\n",
        "  # Chuyển chuỗi về chữ thường và tìm tất cả các từ\n",
        "  words = re.findall(r'\\b\\w+\\b', text.lower())\n",
        "  # Sử dụng Counter để đếm tần suất xuất hiện của các từ\n",
        "  return Counter(words)\n",
        "\n",
        "# Ví dụ sử dụng\n",
        "text = \"Python programming is fun. Python is versatile.\"\n",
        "word_counts = word_frequency(text)\n",
        "print(f\"Tần suất từ trong '{text}': {word_counts}\")\n",
        "\n",
        "text2 = \"Hello world hello python\"\n",
        "print(f\"Tần suất từ trong '{text2}': {word_frequency(text2)}\")"
      ]
    },
    {
      "cell_type": "code",
      "execution_count": 52,
      "metadata": {
        "colab": {
          "base_uri": "https://localhost:8080/",
          "height": 0
        },
        "id": "69c2004e",
        "outputId": "75a9ba10-6108-430e-ac24-abb1bd732a06"
      },
      "outputs": [
        {
          "name": "stdout",
          "output_type": "stream",
          "text": [
            "Danh sách: [10, 20, 30, 40, 50]\n",
            "Trung bình: 30.0\n",
            "Lớn nhất: 50\n",
            "Nhỏ nhất: 10\n",
            "\n",
            "Danh sách rỗng: []\n",
            "Trung bình: None\n",
            "Lớn nhất: None\n",
            "Nhỏ nhất: None\n"
          ]
        }
      ],
      "source": [
        "# Bài 12: Viết hàm nhận vào danh sách số, trả về giá trị trung bình, lớn nhất, nhỏ nhất.\n",
        "def analyze_numbers(danh_sach_so):\n",
        "  \"\"\"Nhận danh sách số và trả về giá trị trung bình, lớn nhất, nhỏ nhất.\"\"\"\n",
        "  if not danh_sach_so:\n",
        "    return None, None, None # Trả về None nếu danh sách rỗng\n",
        "\n",
        "  trung_binh = sum(danh_sach_so) / len(danh_sach_so)\n",
        "  lon_nhat = max(danh_sach_so)\n",
        "  nho_nhat = min(danh_sach_so)\n",
        "\n",
        "  return trung_binh, lon_nhat, nho_nhat\n",
        "\n",
        "# Ví dụ sử dụng\n",
        "numbers = [10, 20, 30, 40, 50]\n",
        "trung_binh, lon_nhat, nho_nhat = analyze_numbers(numbers)\n",
        "print(f\"Danh sách: {numbers}\")\n",
        "print(f\"Trung bình: {trung_binh}\")\n",
        "print(f\"Lớn nhất: {lon_nhat}\")\n",
        "print(f\"Nhỏ nhất: {nho_nhat}\")\n",
        "\n",
        "empty_list = []\n",
        "trung_binh_empty, lon_nhat_empty, nho_nhat_empty = analyze_numbers(empty_list)\n",
        "print(f\"\\nDanh sách rỗng: {empty_list}\")\n",
        "print(f\"Trung bình: {trung_binh_empty}\")\n",
        "print(f\"Lớn nhất: {lon_nhat_empty}\")\n",
        "print(f\"Nhỏ nhất: {nho_nhat_empty}\")"
      ]
    },
    {
      "cell_type": "code",
      "execution_count": 53,
      "metadata": {
        "colab": {
          "base_uri": "https://localhost:8080/",
          "height": 0
        },
        "id": "fbe8b9c4",
        "outputId": "4bc657e5-008c-4d36-9e0b-71d2f3c1a80e"
      },
      "outputs": [
        {
          "name": "stdout",
          "output_type": "stream",
          "text": [
            "Danh sách gốc: ['hello', 'world', 'python']\n",
            "Danh sách viết hoa: ['HELLO', 'WORLD', 'PYTHON']\n",
            "Danh sách rỗng: []\n",
            "Danh sách viết hoa (rỗng): []\n"
          ]
        }
      ],
      "source": [
        "# Bài 13: Viết hàm to_upper(strings) nhận danh sách chuỗi và trả về danh sách chuỗi viết hoa.\n",
        "def to_upper(strings):\n",
        "  \"\"\"Nhận danh sách chuỗi và trả về danh sách chuỗi viết hoa.\"\"\"\n",
        "  return [s.upper() for s in strings]\n",
        "\n",
        "# Ví dụ sử dụng\n",
        "string_list = [\"hello\", \"world\", \"python\"]\n",
        "upper_list = to_upper(string_list)\n",
        "print(f\"Danh sách gốc: {string_list}\")\n",
        "print(f\"Danh sách viết hoa: {upper_list}\")\n",
        "\n",
        "empty_list = []\n",
        "upper_empty = to_upper(empty_list)\n",
        "print(f\"Danh sách rỗng: {empty_list}\")\n",
        "print(f\"Danh sách viết hoa (rỗng): {upper_empty}\")"
      ]
    },
    {
      "cell_type": "code",
      "execution_count": 54,
      "metadata": {
        "colab": {
          "base_uri": "https://localhost:8080/",
          "height": 0
        },
        "id": "972b2aa6",
        "outputId": "2c61c764-1d94-4851-eddd-8d69acdf7adf"
      },
      "outputs": [
        {
          "name": "stdout",
          "output_type": "stream",
          "text": [
            "Tổng từ 1 đến 5: 15\n",
            "Tổng từ 1 đến 0: 0\n",
            "Tổng từ 1 đến 10: 55\n"
          ]
        }
      ],
      "source": [
        "# Bài 14: Viết hàm đệ quy tính tổng các số từ 1 đến n.\n",
        "def sum_recursive(n):\n",
        "  \"\"\"Tính tổng các số từ 1 đến n bằng đệ quy.\"\"\"\n",
        "  if n <= 0:\n",
        "    return 0\n",
        "  else:\n",
        "    return n + sum_recursive(n - 1)\n",
        "\n",
        "# Ví dụ sử dụng\n",
        "print(f\"Tổng từ 1 đến 5: {sum_recursive(5)}\")\n",
        "print(f\"Tổng từ 1 đến 0: {sum_recursive(0)}\")\n",
        "print(f\"Tổng từ 1 đến 10: {sum_recursive(10)}\")"
      ]
    },
    {
      "cell_type": "code",
      "execution_count": 55,
      "metadata": {
        "colab": {
          "base_uri": "https://localhost:8080/",
          "height": 0
        },
        "id": "36502cba",
        "outputId": "240e81ed-07a7-403a-e1b6-b0330b1d2ac8"
      },
      "outputs": [
        {
          "name": "stdout",
          "output_type": "stream",
          "text": [
            "Kết quả hàm hợp của bình phương và cộng 1 cho số 2: 9\n",
            "Kết quả hàm hợp của cộng 1 và bình phương cho số 2: 5\n"
          ]
        }
      ],
      "source": [
        "# Bài 15: Viết hàm compose(f, g) trả về hàm hợp của f và g.\n",
        "def compose(f, g):\n",
        "  \"\"\"Trả về hàm hợp của f và g, tức là h(x) = f(g(x)).\"\"\"\n",
        "  def h(x):\n",
        "    return f(g(x))\n",
        "  return h\n",
        "\n",
        "# Các hàm ví dụ\n",
        "def cong_mot(x):\n",
        "  return x + 1\n",
        "\n",
        "def binh_phuong(x):\n",
        "  return x ** 2\n",
        "\n",
        "# Tạo hàm hợp: binh_phuong(cong_mot(x))\n",
        "ham_hop = compose(binh_phuong, cong_mot)\n",
        "\n",
        "# Ví dụ sử dụng\n",
        "# ham_hop(2) sẽ thực hiện binh_phuong(cong_mot(2)) = binh_phuong(3) = 9\n",
        "print(f\"Kết quả hàm hợp của bình phương và cộng 1 cho số 2: {ham_hop(2)}\")\n",
        "\n",
        "# Tạo hàm hợp: cong_mot(binh_phuong(x))\n",
        "ham_hop2 = compose(cong_mot, binh_phuong)\n",
        "# ham_hop2(2) sẽ thực hiện cong_mot(binh_phuong(2)) = cong_mot(4) = 5\n",
        "print(f\"Kết quả hàm hợp của cộng 1 và bình phương cho số 2: {ham_hop2(2)}\")"
      ]
    },
    {
      "cell_type": "code",
      "execution_count": 56,
      "metadata": {
        "colab": {
          "base_uri": "https://localhost:8080/",
          "height": 0
        },
        "id": "5a7a4bf0",
        "outputId": "c4fcffec-b185-4590-9f36-e119c5f179ed"
      },
      "outputs": [
        {
          "name": "stdout",
          "output_type": "stream",
          "text": [
            "Hàm 'slow_function' chạy mất 1.000139 giây.\n",
            "Hàm 'fast_function' chạy mất 0.000002 giây.\n",
            "7\n"
          ]
        }
      ],
      "source": [
        "# Bài 16: Viết hàm timer(func) đo thời gian chạy của một hàm.\n",
        "import time\n",
        "\n",
        "def timer(func):\n",
        "  \"\"\"Đo thời gian chạy của một hàm và trả về kết quả của hàm đó.\"\"\"\n",
        "  def wrapper(*args, **kwargs):\n",
        "    start_time = time.time()\n",
        "    result = func(*args, **kwargs)\n",
        "    end_time = time.time()\n",
        "    duration = end_time - start_time\n",
        "    print(f\"Hàm '{func.__name__}' chạy mất {duration:.6f} giây.\")\n",
        "    return result\n",
        "  return wrapper\n",
        "\n",
        "# Ví dụ sử dụng decorator @timer\n",
        "@timer\n",
        "def slow_function(delay):\n",
        "  \"\"\"Một hàm mô phỏng công việc tốn thời gian.\"\"\"\n",
        "  time.sleep(delay)\n",
        "  return \"Done sleeping\"\n",
        "\n",
        "@timer\n",
        "def fast_function(a, b):\n",
        "  \"\"\"Một hàm chạy nhanh.\"\"\"\n",
        "  return a + b\n",
        "\n",
        "# Chạy các hàm đã được \"timer\"\n",
        "slow_function(1)\n",
        "print(fast_function(3, 4))"
      ]
    },
    {
      "cell_type": "code",
      "execution_count": 57,
      "metadata": {
        "colab": {
          "base_uri": "https://localhost:8080/",
          "height": 0
        },
        "id": "eaa6e2dc",
        "outputId": "64f51704-5837-4c85-a472-5e689db91782"
      },
      "outputs": [
        {
          "name": "stdout",
          "output_type": "stream",
          "text": [
            "Xin chào, Lan! Xin chào, Lan! Xin chào, Lan! \n",
            "Xin chào, Python! \n",
            "Xin chào, 123! Xin chào, 123! \n"
          ]
        }
      ],
      "source": [
        "# Bài 17: Viết hàm greet(name: str, times: int) -> str có annotation mô tả kiểu.\n",
        "def greet(name: str, times: int) -> str:\n",
        "  \"\"\"Hàm chào một người nhiều lần với annotation kiểu.\"\"\"\n",
        "  return (f\"Xin chào, {name}!\" + \" \") * times\n",
        "\n",
        "print(greet(\"Lan\", 3))\n",
        "print(greet(\"Python\", 1))\n",
        "\n",
        "print(greet(123, 2))"
      ]
    },
    {
      "cell_type": "code",
      "execution_count": 58,
      "metadata": {
        "colab": {
          "base_uri": "https://localhost:8080/",
          "height": 0
        },
        "id": "c6920625",
        "outputId": "8235e0d0-ed6c-4e59-b4ff-77b524e3f28a"
      },
      "outputs": [
        {
          "name": "stdout",
          "output_type": "stream",
          "text": [
            "Gọi lần 1: 1\n",
            "Gọi lần 2: 2\n",
            "Gọi lần 3: 3\n",
            "\n",
            "Gọi counter mới lần 1: 1\n"
          ]
        }
      ],
      "source": [
        "# Bài 18: Viết hàm make_counter() trả về một hàm dùng nonlocal để đếm số lần được gọi.\n",
        "def make_counter():\n",
        "  \"\"\"Trả về một hàm closure dùng nonlocal để đếm số lần được gọi.\"\"\"\n",
        "  count = 0\n",
        "\n",
        "  def counter():\n",
        "    nonlocal count\n",
        "    count += 1\n",
        "    return count\n",
        "  return counter\n",
        "\n",
        "my_counter = make_counter()\n",
        "\n",
        "print(f\"Gọi lần 1: {my_counter()}\") # Output: 1\n",
        "print(f\"Gọi lần 2: {my_counter()}\") # Output: 2\n",
        "print(f\"Gọi lần 3: {my_counter()}\") # Output: 3\n",
        "\n",
        "another_counter = make_counter() # Tạo một counter mới\n",
        "print(f\"\\nGọi counter mới lần 1: {another_counter()}\") # Output: 1"
      ]
    },
    {
      "cell_type": "code",
      "execution_count": 59,
      "metadata": {
        "colab": {
          "base_uri": "https://localhost:8080/",
          "height": 0
        },
        "id": "e35bde20",
        "outputId": "fd5d1906-9d41-4e42-d2af-28cb9beeab0e"
      },
      "outputs": [
        {
          "name": "stdout",
          "output_type": "stream",
          "text": [
            "\n",
            "Danh bạ trống.\n",
            "Đã thêm liên lạc 'Alice' với số điện thoại 0123456789.\n",
            "Đã thêm liên lạc 'Bob' với số điện thoại 0987654321.\n",
            "Liên lạc 'Alice' đã tồn tại trong danh bạ.\n",
            "\n",
            "--- Danh bạ ---\n",
            "Alice: 0123456789\n",
            "Bob: 0987654321\n",
            "---------------\n",
            "Số điện thoại của 'Alice': 0123456789.\n",
            "Không tìm thấy liên lạc 'Charlie' trong danh bạ.\n",
            "Đã xóa liên lạc 'Bob' khỏi danh bạ.\n",
            "Không tìm thấy liên lạc 'David' trong danh bạ.\n",
            "\n",
            "--- Danh bạ ---\n",
            "Alice: 0123456789\n",
            "---------------\n"
          ]
        }
      ],
      "source": [
        "# Bài 19: Viết chương trình định nghĩa nhiều hàm để quản lý danh bạ (thêm, xóa, tìm kiếm).\n",
        "\n",
        "# Sử dụng một từ điển để lưu danh bạ: {tên: số_điện_thoại}\n",
        "danh_ba = {}\n",
        "\n",
        "def them_lien_lac(ten, so_dien_thoai):\n",
        "  \"\"\"Thêm một liên lạc mới vào danh bạ.\"\"\"\n",
        "  if ten in danh_ba:\n",
        "    print(f\"Liên lạc '{ten}' đã tồn tại trong danh bạ.\")\n",
        "  else:\n",
        "    danh_ba[ten] = so_dien_thoai\n",
        "    print(f\"Đã thêm liên lạc '{ten}' với số điện thoại {so_dien_thoai}.\")\n",
        "\n",
        "def xoa_lien_lac(ten):\n",
        "  \"\"\"Xóa một liên lạc khỏi danh bạ.\"\"\"\n",
        "  if ten in danh_ba:\n",
        "    del danh_ba[ten]\n",
        "    print(f\"Đã xóa liên lạc '{ten}' khỏi danh bạ.\")\n",
        "  else:\n",
        "    print(f\"Không tìm thấy liên lạc '{ten}' trong danh bạ.\")\n",
        "\n",
        "def tim_kiem_lien_lac(ten):\n",
        "  \"\"\"Tìm kiếm số điện thoại của một liên lạc.\"\"\"\n",
        "  if ten in danh_ba:\n",
        "    print(f\"Số điện thoại của '{ten}': {danh_ba[ten]}.\")\n",
        "    return danh_ba[ten]\n",
        "  else:\n",
        "    print(f\"Không tìm thấy liên lạc '{ten}' trong danh bạ.\")\n",
        "    return None\n",
        "\n",
        "def hien_thi_danh_ba():\n",
        "    \"\"\"Hiển thị toàn bộ danh bạ.\"\"\"\n",
        "    if danh_ba:\n",
        "        print(\"\\n--- Danh bạ ---\")\n",
        "        for ten, so in danh_ba.items():\n",
        "            print(f\"{ten}: {so}\")\n",
        "        print(\"---------------\")\n",
        "    else:\n",
        "        print(\"\\nDanh bạ trống.\")\n",
        "\n",
        "hien_thi_danh_ba()\n",
        "\n",
        "them_lien_lac(\"Alice\", \"0123456789\")\n",
        "them_lien_lac(\"Bob\", \"0987654321\")\n",
        "them_lien_lac(\"Alice\", \"0112233445\")\n",
        "\n",
        "hien_thi_danh_ba()\n",
        "\n",
        "tim_kiem_lien_lac(\"Alice\")\n",
        "tim_kiem_lien_lac(\"Charlie\")\n",
        "\n",
        "xoa_lien_lac(\"Bob\")\n",
        "xoa_lien_lac(\"David\")\n",
        "\n",
        "hien_thi_danh_ba()"
      ]
    },
    {
      "cell_type": "code",
      "execution_count": 60,
      "metadata": {
        "colab": {
          "base_uri": "https://localhost:8080/",
          "height": 0
        },
        "id": "6cf67975",
        "outputId": "65163c9b-0958-4fcb-e029-f4d538bf40bd"
      },
      "outputs": [
        {
          "name": "stdout",
          "output_type": "stream",
          "text": [
            "Kiểm tra mật khẩu 'Abc@1234':\n",
            "Mật khẩu hợp lệ.\n",
            "\n",
            "Kiểm tra mật khẩu 'password123':\n",
            "Mật khẩu không hợp lệ:\n",
            "- Mật khẩu phải chứa ít nhất một chữ cái viết hoa.\n",
            "- Mật khẩu phải chứa ít nhất một ký tự đặc biệt (@$!%*?&).\n",
            "\n",
            "Kiểm tra mật khẩu 'SHORT':\n",
            "Mật khẩu không hợp lệ:\n",
            "- Mật khẩu phải có ít nhất 8 ký tự.\n",
            "- Mật khẩu phải chứa ít nhất một chữ cái viết thường.\n",
            "- Mật khẩu phải chứa ít nhất một chữ số.\n",
            "- Mật khẩu phải chứa ít nhất một ký tự đặc biệt (@$!%*?&).\n",
            "\n",
            "Kiểm tra mật khẩu 'Testing!':\n",
            "Mật khẩu không hợp lệ:\n",
            "- Mật khẩu phải chứa ít nhất một chữ số.\n",
            "\n",
            "Kiểm tra mật khẩu 'Password123':\n",
            "Mật khẩu không hợp lệ:\n",
            "- Mật khẩu phải chứa ít nhất một ký tự đặc biệt (@$!%*?&).\n"
          ]
        },
        {
          "data": {
            "text/plain": [
              "False"
            ]
          },
          "execution_count": 60,
          "metadata": {},
          "output_type": "execute_result"
        }
      ],
      "source": [
        "# Bài 20: Viết hàm validate_password(password) kiểm tra tính hợp lệ của mật khẩu theo\n",
        "# các tiêu chí (độ dài, ký tự đặc biệt, chữ số, chữ cái).\n",
        "import re\n",
        "\n",
        "def validate_password(password):\n",
        "  \"\"\"\n",
        "  Kiểm tra tính hợp lệ của mật khẩu theo các tiêu chí:\n",
        "  - Độ dài tối thiểu 8 ký tự.\n",
        "  - Chứa ít nhất một chữ cái viết hoa.\n",
        "  - Chứa ít nhất một chữ cái viết thường.\n",
        "  - Chứa ít nhất một chữ số.\n",
        "  - Chứa ít nhất một ký tự đặc biệt (@$!%*?&).\n",
        "  \"\"\"\n",
        "  min_length = 8\n",
        "  has_upper = re.search(r'[A-Z]', password)\n",
        "  has_lower = re.search(r'[a-z]', password)\n",
        "  has_digit = re.search(r'[0-9]', password)\n",
        "  has_special = re.search(r'[@$!%*?&]', password)\n",
        "\n",
        "  is_valid = True\n",
        "  messages = []\n",
        "\n",
        "  if len(password) < min_length:\n",
        "    is_valid = False\n",
        "    messages.append(f\"- Mật khẩu phải có ít nhất {min_length} ký tự.\")\n",
        "  if not has_upper:\n",
        "    is_valid = False\n",
        "    messages.append(\"- Mật khẩu phải chứa ít nhất một chữ cái viết hoa.\")\n",
        "  if not has_lower:\n",
        "    is_valid = False\n",
        "    messages.append(\"- Mật khẩu phải chứa ít nhất một chữ cái viết thường.\")\n",
        "  if not has_digit:\n",
        "    is_valid = False\n",
        "    messages.append(\"- Mật khẩu phải chứa ít nhất một chữ số.\")\n",
        "  if not has_special:\n",
        "    is_valid = False\n",
        "    messages.append(\"- Mật khẩu phải chứa ít nhất một ký tự đặc biệt (@$!%*?&).\")\n",
        "\n",
        "  if is_valid:\n",
        "    print(\"Mật khẩu hợp lệ.\")\n",
        "    return True\n",
        "  else:\n",
        "    print(\"Mật khẩu không hợp lệ:\")\n",
        "    for msg in messages:\n",
        "      print(msg)\n",
        "    return False\n",
        "\n",
        "# Ví dụ sử dụng\n",
        "print(\"Kiểm tra mật khẩu 'Abc@1234':\")\n",
        "validate_password(\"Abc@1234\") # Hợp lệ\n",
        "\n",
        "print(\"\\nKiểm tra mật khẩu 'password123':\")\n",
        "validate_password(\"password123\") # Thiếu chữ hoa, ký tự đặc biệt\n",
        "\n",
        "print(\"\\nKiểm tra mật khẩu 'SHORT':\")\n",
        "validate_password(\"SHORT\") # Thiếu độ dài, chữ thường, số, ký tự đặc biệt\n",
        "\n",
        "print(\"\\nKiểm tra mật khẩu 'Testing!':\")\n",
        "validate_password(\"Testing!\") # Thiếu số\n",
        "\n",
        "print(\"\\nKiểm tra mật khẩu 'Password123':\")\n",
        "validate_password(\"Password123\") # Thiếu ký tự đặc biệt"
      ]
    },
    {
      "cell_type": "markdown",
      "metadata": {
        "id": "AUM9pizap1TU"
      },
      "source": [
        "# Bài tập Thực hành Python - Bài số 5"
      ]
    },
    {
      "cell_type": "markdown",
      "metadata": {
        "id": "9Sh3ry8Qp9od"
      },
      "source": [
        "## Phần A"
      ]
    },
    {
      "cell_type": "markdown",
      "metadata": {
        "id": "3p0TYc9tqBQ2"
      },
      "source": []
    },
    {
      "cell_type": "code",
      "execution_count": 61,
      "metadata": {
        "colab": {
          "base_uri": "https://localhost:8080/",
          "height": 0
        },
        "id": "2b999413",
        "outputId": "af59d261-3a07-4651-a6b8-1368c0fa15c3"
      },
      "outputs": [
        {
          "name": "stdout",
          "output_type": "stream",
          "text": [
            "3.141592653589793\n"
          ]
        }
      ],
      "source": [
        "# Bài 1: Viết chương trình import module math và in ra giá trị của π.\n",
        "import math\n",
        "print(math.pi)"
      ]
    },
    {
      "cell_type": "code",
      "execution_count": 62,
      "metadata": {
        "colab": {
          "base_uri": "https://localhost:8080/",
          "height": 0
        },
        "id": "09b7f012",
        "outputId": "308a10a4-ae21-4283-ad4a-e2c807c0a215"
      },
      "outputs": [
        {
          "name": "stdout",
          "output_type": "stream",
          "text": [
            "7.0\n"
          ]
        }
      ],
      "source": [
        "# Bài 2: Sử dụng hàm sqrt() trong module math để tính căn bậc hai của 49.\n",
        "import math\n",
        "print(math.sqrt(49))"
      ]
    },
    {
      "cell_type": "code",
      "execution_count": 63,
      "metadata": {
        "colab": {
          "base_uri": "https://localhost:8080/",
          "height": 0
        },
        "id": "6c653d18",
        "outputId": "d2ffe63b-7aa8-410b-ede7-8dbac9b5a2dc"
      },
      "outputs": [
        {
          "name": "stdout",
          "output_type": "stream",
          "text": [
            "3\n"
          ]
        }
      ],
      "source": [
        "# Bài 3: Viết chương trình import module random và in ra một số ngẫu nhiên từ 1 đến 10.\n",
        "import random\n",
        "print(random.randint(1, 10))"
      ]
    },
    {
      "cell_type": "code",
      "execution_count": 64,
      "metadata": {
        "colab": {
          "base_uri": "https://localhost:8080/",
          "height": 0
        },
        "id": "5b621a22",
        "outputId": "84fd6b7b-488b-4d31-e1ba-964b1745327c"
      },
      "outputs": [
        {
          "name": "stdout",
          "output_type": "stream",
          "text": [
            "2025-10-18 14:37:11.922784\n"
          ]
        }
      ],
      "source": [
        "# Bài 4: Import module datetime và in ra ngày giờ hiện tại.\n",
        "import datetime\n",
        "print(datetime.datetime.now())"
      ]
    },
    {
      "cell_type": "code",
      "execution_count": 65,
      "metadata": {
        "colab": {
          "base_uri": "https://localhost:8080/",
          "height": 0
        },
        "id": "c2afc14e",
        "outputId": "ef7d92d7-bdc1-4741-dd6c-2f57920b2fd6"
      },
      "outputs": [
        {
          "name": "stdout",
          "output_type": "stream",
          "text": [
            "12\n"
          ]
        }
      ],
      "source": [
        "# Bài 5: Viết chương trình sử dụng built-in function len() để in độ dài của một chuỗi.\n",
        "chuoi = \"Hello Python\"\n",
        "print(len(chuoi))"
      ]
    },
    {
      "cell_type": "code",
      "execution_count": 66,
      "metadata": {
        "colab": {
          "base_uri": "https://localhost:8080/",
          "height": 0
        },
        "id": "b84d5bbd",
        "outputId": "b8ed842f-9027-4ee0-9eb2-fa3401135f7b"
      },
      "outputs": [
        {
          "name": "stdout",
          "output_type": "stream",
          "text": [
            "15\n"
          ]
        }
      ],
      "source": [
        "# Bài 6: Sử dụng hàm sum() để tính tổng của list [1,2,3,4,5].\n",
        "my_list = [1, 2, 3, 4, 5]\n",
        "print(sum(my_list))"
      ]
    },
    {
      "cell_type": "code",
      "execution_count": 67,
      "metadata": {
        "colab": {
          "base_uri": "https://localhost:8080/",
          "height": 0
        },
        "id": "bb92cd00",
        "outputId": "8e4dde7a-8f58-492f-a768-2f8eccb17662"
      },
      "outputs": [
        {
          "name": "stdout",
          "output_type": "stream",
          "text": [
            "2\n"
          ]
        }
      ],
      "source": [
        "# Bài 7: Sử dụng hàm min() để tìm số nhỏ nhất trong [3,8,2,5].\n",
        "my_list = [3, 8, 2, 5]\n",
        "print(min(my_list))"
      ]
    },
    {
      "cell_type": "code",
      "execution_count": 68,
      "metadata": {
        "colab": {
          "base_uri": "https://localhost:8080/",
          "height": 0
        },
        "id": "6f37980b",
        "outputId": "fde6e590-db80-4873-e29c-81c62c560b66"
      },
      "outputs": [
        {
          "name": "stdout",
          "output_type": "stream",
          "text": [
            "20\n"
          ]
        }
      ],
      "source": [
        "# Bài 8: Sử dụng hàm max() để tìm số lớn nhất trong [10,20,5,7].\n",
        "my_list = [10, 20, 5, 7]\n",
        "print(max(my_list))"
      ]
    },
    {
      "cell_type": "code",
      "execution_count": 69,
      "metadata": {
        "colab": {
          "base_uri": "https://localhost:8080/",
          "height": 0
        },
        "id": "6a0baf72",
        "outputId": "fa92b743-2d43-4144-972a-cd42af865a8d"
      },
      "outputs": [
        {
          "name": "stdout",
          "output_type": "stream",
          "text": [
            "Nhập một số: 5\n",
            "5.0\n"
          ]
        }
      ],
      "source": [
        "# Bài 9: Viết chương trình nhập một số từ bàn phím và dùng hàm abs() để in giá trị tuyệt đối.\n",
        "num = float(input(\"Nhập một số: \"))\n",
        "print(abs(num))"
      ]
    },
    {
      "cell_type": "code",
      "execution_count": 70,
      "metadata": {
        "colab": {
          "base_uri": "https://localhost:8080/",
          "height": 0
        },
        "id": "50ceac28",
        "outputId": "0a03a6d8-7003-46ee-df9e-522eeeb2794d"
      },
      "outputs": [
        {
          "name": "stdout",
          "output_type": "stream",
          "text": [
            "3.14\n"
          ]
        }
      ],
      "source": [
        "# Bài 10: Sử dụng hàm round() để làm tròn số 3.14159 với 2 chữ số thập phân.\n",
        "print(round(3.14159, 2))"
      ]
    },
    {
      "cell_type": "code",
      "execution_count": 71,
      "metadata": {
        "colab": {
          "base_uri": "https://localhost:8080/",
          "height": 0
        },
        "id": "bafbadea",
        "outputId": "c3441e3d-da6e-4c71-8c9b-ea838e345984"
      },
      "outputs": [
        {
          "name": "stdout",
          "output_type": "stream",
          "text": [
            "<class 'str'>\n",
            "<class 'int'>\n"
          ]
        }
      ],
      "source": [
        "# Bài 11: Viết chương trình sử dụng built-in function type() để in kiểu dữ liệu của biến.\n",
        "my_variable = \"Hello\"\n",
        "print(type(my_variable))\n",
        "\n",
        "my_number = 10\n",
        "print(type(my_number))"
      ]
    },
    {
      "cell_type": "code",
      "execution_count": 72,
      "metadata": {
        "colab": {
          "base_uri": "https://localhost:8080/",
          "height": 0
        },
        "id": "471e7285",
        "outputId": "60758b6d-e7c1-4b27-9011-1af3becda07b"
      },
      "outputs": [
        {
          "name": "stdout",
          "output_type": "stream",
          "text": [
            "['__doc__', '__loader__', '__name__', '__package__', '__spec__', 'acos', 'acosh', 'asin', 'asinh', 'atan', 'atan2', 'atanh', 'cbrt', 'ceil', 'comb', 'copysign', 'cos', 'cosh', 'degrees', 'dist', 'e', 'erf', 'erfc', 'exp', 'exp2', 'expm1', 'fabs', 'factorial', 'floor', 'fmod', 'frexp', 'fsum', 'gamma', 'gcd', 'hypot', 'inf', 'isclose', 'isfinite', 'isinf', 'isnan', 'isqrt', 'lcm', 'ldexp', 'lgamma', 'log', 'log10', 'log1p', 'log2', 'modf', 'nan', 'nextafter', 'perm', 'pi', 'pow', 'prod', 'radians', 'remainder', 'sin', 'sinh', 'sqrt', 'sumprod', 'tan', 'tanh', 'tau', 'trunc', 'ulp']\n"
          ]
        }
      ],
      "source": [
        "# Bài 12: Sử dụng hàm dir() để in tất cả hàm trong module math.\n",
        "import math\n",
        "print(dir(math))\n"
      ]
    },
    {
      "cell_type": "code",
      "execution_count": 73,
      "metadata": {
        "colab": {
          "base_uri": "https://localhost:8080/",
          "height": 0
        },
        "id": "c6922156",
        "outputId": "bf695206-b3a6-46bc-8cb0-0219076b35a0"
      },
      "outputs": [
        {
          "name": "stdout",
          "output_type": "stream",
          "text": [
            "11654664\n",
            "11654664\n"
          ]
        }
      ],
      "source": [
        "# Bài 13: Viết chương trình sử dụng built-in function id() để in địa chỉ của một biến.\n",
        "a = 10\n",
        "print(id(a))\n",
        "\n",
        "b = a\n",
        "print(id(b))"
      ]
    },
    {
      "cell_type": "code",
      "execution_count": 74,
      "metadata": {
        "colab": {
          "base_uri": "https://localhost:8080/",
          "height": 0
        },
        "id": "97112b26",
        "outputId": "d6819812-ba81-4dcd-fc7f-50600748b567"
      },
      "outputs": [
        {
          "name": "stdout",
          "output_type": "stream",
          "text": [
            "[1, 3, 5, 9]\n"
          ]
        }
      ],
      "source": [
        "# Bài 14: Sử dụng built-in function sorted() để sắp xếp list [9,1,5,3].\n",
        "my_list = [9, 1, 5, 3]\n",
        "sorted_list = sorted(my_list)\n",
        "print(sorted_list)"
      ]
    },
    {
      "cell_type": "code",
      "execution_count": 75,
      "metadata": {
        "colab": {
          "base_uri": "https://localhost:8080/",
          "height": 0
        },
        "id": "b1e4fd21",
        "outputId": "a0ef03fc-3af4-4453-85c5-f231d59ebb58"
      },
      "outputs": [
        {
          "name": "stdout",
          "output_type": "stream",
          "text": [
            "Help on built-in function len in module builtins:\n",
            "\n",
            "len(obj, /)\n",
            "    Return the number of items in a container.\n",
            "\n"
          ]
        }
      ],
      "source": [
        "# Bài 15: Viết chương trình dùng hàm help() để hiển thị tài liệu của hàm len.\n",
        "\n",
        "help(len)\n"
      ]
    },
    {
      "cell_type": "code",
      "execution_count": 76,
      "metadata": {
        "colab": {
          "base_uri": "https://localhost:8080/",
          "height": 0
        },
        "id": "948a65da",
        "outputId": "b8685b37-7882-41a0-fce9-1d444efca993"
      },
      "outputs": [
        {
          "name": "stdout",
          "output_type": "stream",
          "text": [
            "/content\n"
          ]
        }
      ],
      "source": [
        "# Bài 16: Import module os và in ra thư mục hiện tại.\n",
        "import os\n",
        "print(os.getcwd())"
      ]
    },
    {
      "cell_type": "code",
      "execution_count": 77,
      "metadata": {
        "colab": {
          "base_uri": "https://localhost:8080/",
          "height": 0
        },
        "id": "f35a7699",
        "outputId": "a44beab2-3041-468a-b1c8-48eac67c051a"
      },
      "outputs": [
        {
          "name": "stdout",
          "output_type": "stream",
          "text": [
            "32\n"
          ]
        }
      ],
      "source": [
        "# Bài 17: Viết chương trình sử dụng built-in function pow() để tính 2^5.\n",
        "print(pow(2, 5))"
      ]
    },
    {
      "cell_type": "code",
      "execution_count": 78,
      "metadata": {
        "colab": {
          "base_uri": "https://localhost:8080/",
          "height": 0
        },
        "id": "dc9b8482",
        "outputId": "b91f6825-7389-46c3-be01-35380a9ba67f"
      },
      "outputs": [
        {
          "name": "stdout",
          "output_type": "stream",
          "text": [
            "A\n"
          ]
        }
      ],
      "source": [
        "# Bài 18: Sử dụng hàm chr() để in ký tự của mã ASCII 65.\n",
        "print(chr(65))"
      ]
    },
    {
      "cell_type": "code",
      "execution_count": 79,
      "metadata": {
        "colab": {
          "base_uri": "https://localhost:8080/",
          "height": 0
        },
        "id": "12c8094d",
        "outputId": "629ac616-3751-4c60-a264-accb4f01583b"
      },
      "outputs": [
        {
          "name": "stdout",
          "output_type": "stream",
          "text": [
            "65\n"
          ]
        }
      ],
      "source": [
        "# Bài 19: Sử dụng hàm ord() để in mã ASCII của ký tự ’A’.\n",
        "print(ord('A'))"
      ]
    },
    {
      "cell_type": "code",
      "execution_count": 80,
      "metadata": {
        "colab": {
          "base_uri": "https://localhost:8080/",
          "height": 0
        },
        "id": "f55b53e3",
        "outputId": "7fdebf03-0e47-45c2-d4d8-aad7479821e1"
      },
      "outputs": [
        {
          "name": "stdout",
          "output_type": "stream",
          "text": [
            "0b1010\n"
          ]
        }
      ],
      "source": [
        "# Bài 20: Viết chương trình sử dụng built-in function bin() để đổi số 10 sang nhị phân.\n",
        "print(bin(10))"
      ]
    },
    {
      "cell_type": "code",
      "execution_count": 81,
      "metadata": {
        "colab": {
          "base_uri": "https://localhost:8080/",
          "height": 0
        },
        "id": "7d52e63e",
        "outputId": "8fb77907-5403-4aea-9e55-492dd324503f"
      },
      "outputs": [
        {
          "name": "stdout",
          "output_type": "stream",
          "text": [
            "0o100\n"
          ]
        }
      ],
      "source": [
        "# Bài 21: Sử dụng hàm oct() để đổi số 64 sang hệ bát phân.\n",
        "print(oct(64))"
      ]
    },
    {
      "cell_type": "code",
      "execution_count": 82,
      "metadata": {
        "colab": {
          "base_uri": "https://localhost:8080/",
          "height": 0
        },
        "id": "08d861e9",
        "outputId": "be313c8d-c289-457c-a02f-59f292bad97b"
      },
      "outputs": [
        {
          "name": "stdout",
          "output_type": "stream",
          "text": [
            "0xff\n"
          ]
        }
      ],
      "source": [
        "# Bài 22: Sử dụng hàm hex() để đổi số 255 sang hệ thập lục phân.\n",
        "print(hex(255))"
      ]
    },
    {
      "cell_type": "code",
      "execution_count": 83,
      "metadata": {
        "colab": {
          "base_uri": "https://localhost:8080/",
          "height": 0
        },
        "id": "929f2bd1",
        "outputId": "26441192-7578-41f3-c7ea-85f719c37bc3"
      },
      "outputs": [
        {
          "name": "stdout",
          "output_type": "stream",
          "text": [
            "True\n"
          ]
        }
      ],
      "source": [
        "# Bài 23: Viết chương trình sử dụng built-in function any() với list [False,True,False].\n",
        "print(any([False, True, False]))"
      ]
    },
    {
      "cell_type": "code",
      "execution_count": 84,
      "metadata": {
        "colab": {
          "base_uri": "https://localhost:8080/",
          "height": 0
        },
        "id": "46025c7a",
        "outputId": "941afacd-a1ab-40fd-f23f-73db00e0ce1b"
      },
      "outputs": [
        {
          "name": "stdout",
          "output_type": "stream",
          "text": [
            "True\n"
          ]
        }
      ],
      "source": [
        "# Bài 24: Sử dụng hàm all() với list [True,True,True].\n",
        "print(all([True, True, True]))"
      ]
    },
    {
      "cell_type": "code",
      "execution_count": 85,
      "metadata": {
        "colab": {
          "base_uri": "https://localhost:8080/",
          "height": 0
        },
        "id": "09f60cba",
        "outputId": "045f04e4-89b5-424e-ae42-671acf8de554"
      },
      "outputs": [
        {
          "name": "stdout",
          "output_type": "stream",
          "text": [
            "0 1 2 3 4 5 6 7 8 9 \n"
          ]
        }
      ],
      "source": [
        "# Bài 25: Viết chương trình sử dụng built-in function range() để in các số từ 0 đến 9.\n",
        "for i in range(10):\n",
        "  print(i, end=' ')\n",
        "print()"
      ]
    },
    {
      "cell_type": "code",
      "execution_count": 86,
      "metadata": {
        "colab": {
          "base_uri": "https://localhost:8080/",
          "height": 0
        },
        "id": "a22b2ebb",
        "outputId": "e16b4a01-acdd-4d06-a215-ec7a6251ae10"
      },
      "outputs": [
        {
          "name": "stdout",
          "output_type": "stream",
          "text": [
            "[1, 4, 9, 16]\n"
          ]
        }
      ],
      "source": [
        "# Bài 26: Sử dụng hàm map() để tính bình phương của list [1,2,3,4].\n",
        "my_list = [1, 2, 3, 4]\n",
        "squared_list = list(map(lambda x: x**2, my_list))\n",
        "print(squared_list)"
      ]
    },
    {
      "cell_type": "code",
      "execution_count": 87,
      "metadata": {
        "colab": {
          "base_uri": "https://localhost:8080/",
          "height": 0
        },
        "id": "0869c4b7",
        "outputId": "1fa49bd2-51ba-4b4c-95c5-fbe883f6731a"
      },
      "outputs": [
        {
          "name": "stdout",
          "output_type": "stream",
          "text": [
            "[2, 4, 6]\n"
          ]
        }
      ],
      "source": [
        "# Bài 27: Sử dụng hàm filter() để lọc ra các số chẵn trong list [1,2,3,4,5,6].\n",
        "my_list = [1, 2, 3, 4, 5, 6]\n",
        "even_numbers = list(filter(lambda x: x % 2 == 0, my_list))\n",
        "print(even_numbers)"
      ]
    },
    {
      "cell_type": "code",
      "execution_count": 88,
      "metadata": {
        "colab": {
          "base_uri": "https://localhost:8080/",
          "height": 0
        },
        "id": "fd2ec9cd",
        "outputId": "b5fdf37c-e1f5-42c9-feab-c4eaf32d43ff"
      },
      "outputs": [
        {
          "name": "stdout",
          "output_type": "stream",
          "text": [
            "[(1, 'a'), (2, 'b'), (3, 'c')]\n"
          ]
        }
      ],
      "source": [
        "# Bài 28: Viết chương trình dùng zip() để gộp hai list thành list các tuple.\n",
        "list1 = [1, 2, 3]\n",
        "list2 = ['a', 'b', 'c']\n",
        "zipped_list = list(zip(list1, list2))\n",
        "print(zipped_list)"
      ]
    },
    {
      "cell_type": "code",
      "execution_count": 89,
      "metadata": {
        "colab": {
          "base_uri": "https://localhost:8080/",
          "height": 0
        },
        "id": "bcbe4411",
        "outputId": "765744dc-85a0-4065-f165-dac84a655085"
      },
      "outputs": [
        {
          "name": "stdout",
          "output_type": "stream",
          "text": [
            "Index: 0, Value: a\n",
            "Index: 1, Value: b\n",
            "Index: 2, Value: c\n"
          ]
        }
      ],
      "source": [
        "# Bài 29: Sử dụng hàm enumerate() để duyệt qua list [‘a’,‘b’,‘c’].\n",
        "my_list = ['a', 'b', 'c']\n",
        "for index, value in enumerate(my_list):\n",
        "  print(f\"Index: {index}, Value: {value}\")"
      ]
    },
    {
      "cell_type": "code",
      "execution_count": 90,
      "metadata": {
        "colab": {
          "base_uri": "https://localhost:8080/",
          "height": 0
        },
        "id": "89d63575",
        "outputId": "dba95571-ea21-4863-ef76-fc0fd582b710"
      },
      "outputs": [
        {
          "name": "stdout",
          "output_type": "stream",
          "text": [
            "Nhập một biểu thức toán học: 7 + 5\n",
            "Kết quả của biểu thức '7 + 5' là: 12\n"
          ]
        }
      ],
      "source": [
        "# Bài 30: Viết chương trình sử dụng built-in function eval() để tính biểu thức nhập từ bàn phím.\n",
        "\n",
        "\n",
        "expression = input(\"Nhập một biểu thức toán học: \")\n",
        "\n",
        "result = eval(expression)\n",
        "print(f\"Kết quả của biểu thức '{expression}' là: {result}\")"
      ]
    },
    {
      "cell_type": "markdown",
      "metadata": {
        "id": "564cjZT5sDrY"
      },
      "source": [
        "## Phần B"
      ]
    },
    {
      "cell_type": "code",
      "execution_count": 91,
      "metadata": {
        "colab": {
          "base_uri": "https://localhost:8080/",
          "height": 0
        },
        "id": "MSR6xabsunee",
        "outputId": "812d2fb8-eb2f-410a-8856-0a02afa4f51e"
      },
      "outputs": [
        {
          "name": "stdout",
          "output_type": "stream",
          "text": [
            "Overwriting mycalc.py\n"
          ]
        }
      ],
      "source": [
        "# Bài 1: Viết một module tên là mycalc.py có các hàm cộng, trừ, nhân, chia.\n",
        "\n",
        "%%writefile mycalc.py\n",
        "def add(a, b):\n",
        "  return a + b\n",
        "\n",
        "def subtract(a, b):\n",
        "  return a - b\n",
        "\n",
        "def multiply(a, b):\n",
        "  return a * b\n",
        "\n",
        "def divide(a, b):\n",
        "  if b == 0:\n",
        "    return \"Lỗi: Không thể chia cho 0\"\n",
        "  return a / b"
      ]
    },
    {
      "cell_type": "code",
      "execution_count": 92,
      "metadata": {
        "colab": {
          "base_uri": "https://localhost:8080/",
          "height": 0
        },
        "id": "uP8vN2ilurZe",
        "outputId": "27bd604e-813e-44c3-e16e-05338ea16d57"
      },
      "outputs": [
        {
          "name": "stdout",
          "output_type": "stream",
          "text": [
            "2 + 3 = 5\n",
            "5 - 2 = 3\n",
            "4 * 6 = 24\n",
            "10 / 2 = 5.0\n",
            "7 / 0 = Lỗi: Không thể chia cho 0\n"
          ]
        }
      ],
      "source": [
        "\n",
        "import mycalc\n",
        "\n",
        "print(f\"2 + 3 = {mycalc.add(2, 3)}\")\n",
        "print(f\"5 - 2 = {mycalc.subtract(5, 2)}\")\n",
        "print(f\"4 * 6 = {mycalc.multiply(4, 6)}\")\n",
        "print(f\"10 / 2 = {mycalc.divide(10, 2)}\")\n",
        "print(f\"7 / 0 = {mycalc.divide(7, 0)}\")"
      ]
    },
    {
      "cell_type": "code",
      "execution_count": 93,
      "metadata": {
        "colab": {
          "base_uri": "https://localhost:8080/",
          "height": 0
        },
        "id": "94e2713e",
        "outputId": "27fa8928-4708-4a80-897e-efdc03ae43da"
      },
      "outputs": [
        {
          "name": "stdout",
          "output_type": "stream",
          "text": [
            "Writing geometry.py\n"
          ]
        }
      ],
      "source": [
        "# Bài 2: Viết một module geometry.py có hàm tính diện tích hình tròn, rồi sử dụng trong file chính.\n",
        "%%writefile geometry.py\n",
        "import math\n",
        "\n",
        "def circle_area(radius):\n",
        "  \"\"\"Tính diện tích hình tròn.\"\"\"\n",
        "  if radius < 0:\n",
        "    return \"Lỗi: Bán kính không thể âm\"\n",
        "  return math.pi * (radius ** 2)"
      ]
    },
    {
      "cell_type": "code",
      "execution_count": 94,
      "metadata": {
        "colab": {
          "base_uri": "https://localhost:8080/",
          "height": 0
        },
        "id": "29a0b4b1",
        "outputId": "f0ee1a53-0e84-456d-8e47-228229f2e57a"
      },
      "outputs": [
        {
          "name": "stdout",
          "output_type": "stream",
          "text": [
            "Diện tích hình tròn bán kính 5 là: 78.53981633974483\n",
            "Diện tích hình tròn bán kính -2 là: Lỗi: Bán kính không thể âm\n"
          ]
        }
      ],
      "source": [
        "# Tiếp tục Bài 2: Import và sử dụng module geometry.py\n",
        "import geometry\n",
        "\n",
        "# Ví dụ sử dụng hàm từ module geometry\n",
        "print(f\"Diện tích hình tròn bán kính 5 là: {geometry.circle_area(5)}\")\n",
        "print(f\"Diện tích hình tròn bán kính -2 là: {geometry.circle_area(-2)}\")"
      ]
    },
    {
      "cell_type": "code",
      "execution_count": 95,
      "metadata": {
        "colab": {
          "base_uri": "https://localhost:8080/",
          "height": 0
        },
        "id": "6c609416",
        "outputId": "5742119b-dcf2-4879-ae48-298a5cd8200d"
      },
      "outputs": [
        {
          "name": "stdout",
          "output_type": "stream",
          "text": [
            "Danh sách số: [1, 2, 3, 4, 4, 5, 6, 6, 6, 7]\n",
            "Giá trị trung bình (mean): 4.4\n",
            "Giá trị trung vị (median): 4.5\n",
            "Giá trị mode (phổ biến nhất): 6\n",
            "Giá trị mode của [1, 1, 2, 2, 3]: 1\n"
          ]
        }
      ],
      "source": [
        "# Bài 3: Viết chương trình import statistics và tính mean, median, mode của list số.\n",
        "import statistics\n",
        "\n",
        "my_list = [1, 2, 3, 4, 4, 5, 6, 6, 6, 7]\n",
        "\n",
        "print(f\"Danh sách số: {my_list}\")\n",
        "print(f\"Giá trị trung bình (mean): {statistics.mean(my_list)}\")\n",
        "print(f\"Giá trị trung vị (median): {statistics.median(my_list)}\")\n",
        "print(f\"Giá trị mode (phổ biến nhất): {statistics.mode(my_list)}\")\n",
        "\n",
        "# Ví dụ với danh sách có nhiều mode\n",
        "my_list_multimode = [1, 1, 2, 2, 3]\n",
        "try:\n",
        "    print(f\"Giá trị mode của {my_list_multimode}: {statistics.mode(my_list_multimode)}\")\n",
        "except statistics.StatisticsError as e:\n",
        "    print(f\"Lỗi khi tính mode cho {my_list_multimode}: {e}\")"
      ]
    },
    {
      "cell_type": "code",
      "execution_count": 96,
      "metadata": {
        "colab": {
          "base_uri": "https://localhost:8080/",
          "height": 0
        },
        "id": "6512fa8f",
        "outputId": "62ea5c7f-8ff1-429c-97f4-a8e0eb9f3ba7"
      },
      "outputs": [
        {
          "name": "stdout",
          "output_type": "stream",
          "text": [
            "Nhập một chuỗi: JDIJVD\n",
            "Số ký tự in hoa trong chuỗi 'JDIJVD' là: 6\n"
          ]
        }
      ],
      "source": [
        "# Bài 4: Viết chương trình nhập vào một chuỗi, sử dụng built-in function để đếm số ký tự in hoa.\n",
        "input_string = input(\"Nhập một chuỗi: \")\n",
        "\n",
        "upper_count = sum(1 for char in input_string if char.isupper())\n",
        "print(f\"Số ký tự in hoa trong chuỗi '{input_string}' là: {upper_count}\")"
      ]
    },
    {
      "cell_type": "code",
      "execution_count": 97,
      "metadata": {
        "colab": {
          "base_uri": "https://localhost:8080/",
          "height": 0
        },
        "id": "d8754d5d",
        "outputId": "e310fe05-f8fd-4a90-cd42-a90d15a7cd49"
      },
      "outputs": [
        {
          "name": "stdout",
          "output_type": "stream",
          "text": [
            "Danh sách gốc: [1, 2, 3, 4, 5]\n",
            "Danh sách lập phương: [1, 8, 27, 64, 125]\n"
          ]
        }
      ],
      "source": [
        "# Bài 5: Viết chương trình sử dụng map() và lambda để tính lập phương của list [1,2,3,4,5].\n",
        "my_list = [1, 2, 3, 4, 5]\n",
        "cubed_list = list(map(lambda x: x**3, my_list))\n",
        "print(f\"Danh sách gốc: {my_list}\")\n",
        "print(f\"Danh sách lập phương: {cubed_list}\")"
      ]
    },
    {
      "cell_type": "code",
      "execution_count": 98,
      "metadata": {
        "colab": {
          "base_uri": "https://localhost:8080/",
          "height": 0
        },
        "id": "3b1578e9",
        "outputId": "933d3c7d-a46b-43bd-ab04-3f2398311272"
      },
      "outputs": [
        {
          "name": "stdout",
          "output_type": "stream",
          "text": [
            "Writing stringtools.py\n"
          ]
        }
      ],
      "source": [
        "# Bài 6: Tạo một module stringtools.py có hàm đếm số từ trong chuỗi. Gọi module đó từ file chính.\n",
        "%%writefile stringtools.py\n",
        "import re\n",
        "\n",
        "def count_words(text):\n",
        "  \"\"\"Đếm số từ trong một chuỗi.\"\"\"\n",
        "  words = re.findall(r'\\b\\w+\\b', text.lower())\n",
        "  return len(words)"
      ]
    },
    {
      "cell_type": "code",
      "execution_count": 99,
      "metadata": {
        "colab": {
          "base_uri": "https://localhost:8080/",
          "height": 0
        },
        "id": "53de9b6f",
        "outputId": "094e0dd9-0fd1-4004-cc27-bab275d000fd"
      },
      "outputs": [
        {
          "name": "stdout",
          "output_type": "stream",
          "text": [
            "Số từ trong chuỗi 'Đây là một ví dụ về đếm từ trong chuỗi.' là: 10\n"
          ]
        }
      ],
      "source": [
        "# Tiếp tục Bài 6: Gọi module stringtools.py từ file chính.\n",
        "import stringtools\n",
        "\n",
        "my_text = \"Đây là một ví dụ về đếm từ trong chuỗi.\"\n",
        "word_count = stringtools.count_words(my_text)\n",
        "print(f\"Số từ trong chuỗi '{my_text}' là: {word_count}\")"
      ]
    },
    {
      "cell_type": "code",
      "execution_count": 100,
      "metadata": {
        "colab": {
          "base_uri": "https://localhost:8080/",
          "height": 0
        },
        "id": "27f24a1c",
        "outputId": "a8da3c91-c36a-4d1e-fa47-c4e0420420c7"
      },
      "outputs": [
        {
          "name": "stdout",
          "output_type": "stream",
          "text": [
            "Các số nguyên tố trong khoảng từ 1 đến 50 là: [2, 3, 5, 7, 11, 13, 17, 19, 23, 29, 31, 37, 41, 43, 47]\n"
          ]
        }
      ],
      "source": [
        "# Bài 7: Viết chương trình sử dụng filter() để lọc ra các số nguyên tố trong list từ 1 đến 50.\n",
        "\n",
        "def is_prime(n):\n",
        "  \"\"\"Kiểm tra xem một số có phải là số nguyên tố hay không.\"\"\"\n",
        "  if n <= 1: return False\n",
        "  if n <= 3: return True\n",
        "  if n % 2 == 0 or n % 3 == 0: return False\n",
        "  i = 5\n",
        "  while i * i <= n:\n",
        "    if n % i == 0 or n % (i + 2) == 0: return False\n",
        "    i += 6\n",
        "  return True\n",
        "\n",
        "numbers = list(range(1, 51))\n",
        "prime_numbers = list(filter(is_prime, numbers))\n",
        "print(f\"Các số nguyên tố trong khoảng từ 1 đến 50 là: {prime_numbers}\")"
      ]
    },
    {
      "cell_type": "code",
      "execution_count": 105,
      "metadata": {
        "colab": {
          "base_uri": "https://localhost:8080/",
          "height": 0
        },
        "id": "25e378b5",
        "outputId": "eab04a20-fd8d-4a13-ed43-48de3c3fc524"
      },
      "outputs": [
        {
          "name": "stdout",
          "output_type": "stream",
          "text": [
            "Danh sách sinh viên và điểm số:\n",
            "- Alice: 85\n",
            "- Nam: 92\n",
            "- Ha: 78\n",
            "- Nga: 95\n"
          ]
        }
      ],
      "source": [
        "# Bài 8: Viết chương trình dùng zip() để gộp danh sách tên sinh viên và điểm số, sau đó in ra.\n",
        "student_names = [\"Alice\", \"Nam\", \"Ha\", \"Nga\"]\n",
        "student_scores = [85, 92, 78, 95]\n",
        "\n",
        "student_data = list(zip(student_names, student_scores))\n",
        "\n",
        "print(\"Danh sách sinh viên và điểm số:\")\n",
        "for name, score in student_data:\n",
        "  print(f\"- {name}: {score}\")"
      ]
    },
    {
      "cell_type": "code",
      "execution_count": 106,
      "metadata": {
        "colab": {
          "base_uri": "https://localhost:8080/",
          "height": 0
        },
        "id": "724200cb",
        "outputId": "996c7b14-4a58-4530-a099-819b39298c65"
      },
      "outputs": [
        {
          "name": "stdout",
          "output_type": "stream",
          "text": [
            "Danh sách gốc: [('Alice', 30), ('Nam', 25), ('Ha', 35), ('Nga', 28)]\n",
            "Danh sách sắp xếp theo tuổi: [('Nam', 25), ('Nga', 28), ('Alice', 30), ('Ha', 35)]\n"
          ]
        }
      ],
      "source": [
        "# Bài 9: Viết chương trình sử dụng built-in function sorted() để sắp xếp danh sách tuple (tên, tuổi) theo tuổi.\n",
        "people = [(\"Alice\", 30), (\"Nam\", 25), (\"Ha\", 35), (\"Nga\", 28)]\n",
        "\n",
        "sorted_by_age = sorted(people, key=lambda item: item[1])\n",
        "\n",
        "print(f\"Danh sách gốc: {people}\")\n",
        "print(f\"Danh sách sắp xếp theo tuổi: {sorted_by_age}\")"
      ]
    },
    {
      "cell_type": "code",
      "execution_count": 108,
      "metadata": {
        "colab": {
          "base_uri": "https://localhost:8080/",
          "height": 0
        },
        "id": "deff301a",
        "outputId": "138ed79f-8e17-48d9-9f87-7e75e151679f"
      },
      "outputs": [
        {
          "name": "stdout",
          "output_type": "stream",
          "text": [
            "Nhập danh sách số nguyên cách nhau bởi dấu cách: 4 5 89 6 43 \n",
            "Danh sách số nguyên: [4, 5, 89, 6, 43]\n",
            "Tổng: 147\n",
            "Min: 4\n",
            "Max: 89\n"
          ]
        }
      ],
      "source": [
        "# Bài 10: Viết chương trình nhập danh sách số nguyên, dùng sum(), min(), max() để tính tổng, min, max.\n",
        "input_str = input(\"Nhập danh sách số nguyên cách nhau bởi dấu cách: \")\n",
        "numbers_str = input_str.split()\n",
        "numbers = [int(num) for num in numbers_str]\n",
        "\n",
        "print(f\"Danh sách số nguyên: {numbers}\")\n",
        "print(f\"Tổng: {sum(numbers)}\")\n",
        "print(f\"Min: {min(numbers)}\")\n",
        "print(f\"Max: {max(numbers)}\")"
      ]
    },
    {
      "cell_type": "code",
      "execution_count": 109,
      "metadata": {
        "colab": {
          "base_uri": "https://localhost:8080/",
          "height": 0
        },
        "id": "dbe73a88",
        "outputId": "8fca3d95-3ede-4f8b-e4d2-0d39a8556c60"
      },
      "outputs": [
        {
          "name": "stdout",
          "output_type": "stream",
          "text": [
            "Writing matrix.py\n"
          ]
        }
      ],
      "source": [
        "# Bài 11: Tạo một module matrix.py có hàm cộng hai ma trận. Import và kiểm tra kết quả.\n",
        "%%writefile matrix.py\n",
        "def add_matrices(matrix1, matrix2):\n",
        "  \"\"\"Cộng hai ma trận.\"\"\"\n",
        "  # Kiểm tra kích thước ma trận\n",
        "  if len(matrix1) != len(matrix2) or len(matrix1[0]) != len(matrix2[0]):\n",
        "    return \"Lỗi: Hai ma trận phải cùng kích thước\"\n",
        "\n",
        "  rows = len(matrix1)\n",
        "  cols = len(matrix1[0])\n",
        "  result_matrix = [[0 for _ in range(cols)] for _ in range(rows)]\n",
        "\n",
        "  for i in range(rows):\n",
        "    for j in range(cols):\n",
        "      result_matrix[i][j] = matrix1[i][j] + matrix2[i][j]\n",
        "\n",
        "  return result_matrix"
      ]
    },
    {
      "cell_type": "code",
      "execution_count": 110,
      "metadata": {
        "colab": {
          "base_uri": "https://localhost:8080/",
          "height": 0
        },
        "id": "25f26940",
        "outputId": "a6574b64-81fb-4e51-d588-3ac3d69c05d1"
      },
      "outputs": [
        {
          "name": "stdout",
          "output_type": "stream",
          "text": [
            "Ma trận A: [[1, 2], [3, 4]]\n",
            "Ma trận B: [[5, 6], [7, 8]]\n",
            "Kết quả A + B: [[6, 8], [10, 12]]\n",
            "\n",
            "Ma trận C: [[1, 2, 3], [4, 5, 6]]\n",
            "Kết quả A + C: Lỗi: Hai ma trận phải cùng kích thước\n"
          ]
        }
      ],
      "source": [
        "# Tiếp tục Bài 11: Import và kiểm tra kết quả module matrix.py\n",
        "import matrix\n",
        "\n",
        "matrix_a = [[1, 2], [3, 4]]\n",
        "matrix_b = [[5, 6], [7, 8]]\n",
        "matrix_c = [[1, 2, 3], [4, 5, 6]] # Ma trận khác kích thước\n",
        "\n",
        "print(f\"Ma trận A: {matrix_a}\")\n",
        "print(f\"Ma trận B: {matrix_b}\")\n",
        "print(f\"Kết quả A + B: {matrix.add_matrices(matrix_a, matrix_b)}\")\n",
        "\n",
        "print(f\"\\nMa trận C: {matrix_c}\")\n",
        "print(f\"Kết quả A + C: {matrix.add_matrices(matrix_a, matrix_c)}\")"
      ]
    },
    {
      "cell_type": "code",
      "execution_count": 111,
      "metadata": {
        "colab": {
          "base_uri": "https://localhost:8080/",
          "height": 0
        },
        "id": "fc77ecbd",
        "outputId": "1228b410-b200-47fa-fcc4-81564f0d57d6"
      },
      "outputs": [
        {
          "name": "stdout",
          "output_type": "stream",
          "text": [
            "6 số xổ số ngẫu nhiên: [6, 17, 25, 26, 33, 43]\n"
          ]
        }
      ],
      "source": [
        "# Bài 12: Viết chương trình dùng module random để sinh ra 6 số ngẫu nhiên từ 1–45 cho xổ số.\n",
        "import random\n",
        "\n",
        "lottery_numbers = random.sample(range(1, 46), 6)\n",
        "lottery_numbers.sort()\n",
        "print(f\"6 số xổ số ngẫu nhiên: {lottery_numbers}\")"
      ]
    },
    {
      "cell_type": "code",
      "execution_count": 112,
      "metadata": {
        "colab": {
          "base_uri": "https://localhost:8080/",
          "height": 0
        },
        "id": "ed5487b1",
        "outputId": "0c6699d6-c617-49d3-adbb-a7f4820f7456"
      },
      "outputs": [
        {
          "name": "stdout",
          "output_type": "stream",
          "text": [
            "Nhập một chuỗi: hong yen\n",
            "Chuỗi gốc: 'hong yen'\n",
            "Chuỗi sau khi loại bỏ trùng lặp (set): 'nh ygoe'\n",
            "Chuỗi sau khi loại bỏ trùng lặp (giữ thứ tự): 'hong ye'\n"
          ]
        }
      ],
      "source": [
        "# Bài 13: Viết chương trình nhập một chuỗi, dùng built-in function để loại bỏ các ký tự trùng lặp.\n",
        "\n",
        "input_string = input(\"Nhập một chuỗi: \")\n",
        "\n",
        "unique_chars_set = \"\".join(set(input_string))\n",
        "print(f\"Chuỗi gốc: '{input_string}'\")\n",
        "print(f\"Chuỗi sau khi loại bỏ trùng lặp (set): '{unique_chars_set}'\")\n",
        "\n",
        "unique_chars_ordered = \"\"\n",
        "for char in input_string:\n",
        "    if char not in unique_chars_ordered:\n",
        "        unique_chars_ordered += char\n",
        "print(f\"Chuỗi sau khi loại bỏ trùng lặp (giữ thứ tự): '{unique_chars_ordered}'\")"
      ]
    },
    {
      "cell_type": "code",
      "execution_count": 113,
      "metadata": {
        "colab": {
          "base_uri": "https://localhost:8080/",
          "height": 0
        },
        "id": "a5bdc0fa",
        "outputId": "f0b1e334-2cc9-41ab-890d-c9a5570f1a4a"
      },
      "outputs": [
        {
          "name": "stdout",
          "output_type": "stream",
          "text": [
            "Writing sample.txt\n"
          ]
        }
      ],
      "source": [
        "# Bài 14: Viết chương trình sử dụng enumerate() để đánh số thứ tự các dòng đọc từ file văn bản.\n",
        "# Tạo một file văn bản giả định\n",
        "%%writefile sample.txt\n",
        "Đây là dòng đầu tiên.\n",
        "Đây là dòng thứ hai.\n",
        "Và đây là dòng cuối cùng."
      ]
    },
    {
      "cell_type": "code",
      "execution_count": 114,
      "metadata": {
        "colab": {
          "base_uri": "https://localhost:8080/",
          "height": 0
        },
        "id": "034adcf6",
        "outputId": "df4f3162-9bb9-46ef-e0fa-4e70920b89ff"
      },
      "outputs": [
        {
          "name": "stdout",
          "output_type": "stream",
          "text": [
            "1: Đây là dòng đầu tiên.\n",
            "2: Đây là dòng thứ hai.\n",
            "3: Và đây là dòng cuối cùng.\n"
          ]
        }
      ],
      "source": [
        "# Tiếp tục Bài 14: Sử dụng enumerate() để đọc và đánh số dòng từ file.\n",
        "# Mở file để đọc\n",
        "try:\n",
        "  with open(\"sample.txt\", \"r\") as file:\n",
        "    # Dùng enumerate để duyệt qua các dòng và lấy số thứ tự\n",
        "    for line_number, line in enumerate(file, 1): # Bắt đầu đếm từ 1\n",
        "      print(f\"{line_number}: {line.strip()}\") # strip() để bỏ ký tự xuống dòng\n",
        "except FileNotFoundError:\n",
        "  print(\"Lỗi: Không tìm thấy tệp 'sample.txt'\")"
      ]
    },
    {
      "cell_type": "code",
      "execution_count": 116,
      "metadata": {
        "colab": {
          "base_uri": "https://localhost:8080/",
          "height": 0
        },
        "id": "92d72d74",
        "outputId": "ebf9f359-fd0e-49d5-a212-ef1ed4bd932c"
      },
      "outputs": [
        {
          "name": "stdout",
          "output_type": "stream",
          "text": [
            "Nhập danh sách số cách nhau bởi dấu cách (có thể âm): 6 8 -9 -98 67 43\n",
            "Danh sách gốc: [6.0, 8.0, -9.0, -98.0, 67.0, 43.0]\n",
            "Danh sách giá trị tuyệt đối: [6.0, 8.0, 9.0, 98.0, 67.0, 43.0]\n"
          ]
        }
      ],
      "source": [
        "# Bài 15: Viết chương trình nhập list số, dùng map() và abs() để lấy giá trị tuyệt đối.\n",
        "input_str = input(\"Nhập danh sách số cách nhau bởi dấu cách (có thể âm): \")\n",
        "numbers_str = input_str.split()\n",
        "numbers = [float(num) for num in numbers_str]\n",
        "\n",
        "print(f\"Danh sách gốc: {numbers}\")\n",
        "\n",
        "absolute_numbers = list(map(abs, numbers))\n",
        "print(f\"Danh sách giá trị tuyệt đối: {absolute_numbers}\")"
      ]
    },
    {
      "cell_type": "code",
      "execution_count": 118,
      "metadata": {
        "colab": {
          "base_uri": "https://localhost:8080/",
          "height": 0
        },
        "id": "9bd83d60",
        "outputId": "00f0f179-ab51-44d0-8c41-02224ba0b3ed"
      },
      "outputs": [
        {
          "name": "stdout",
          "output_type": "stream",
          "text": [
            "Nhập danh sách số cách nhau bởi dấu cách: 6 76 4 2 5 6 7 8 76 \n",
            "Danh sách gốc: [6.0, 76.0, 4.0, 2.0, 5.0, 6.0, 7.0, 8.0, 76.0]\n",
            "Các số lớn hơn 10: [76.0, 76.0]\n"
          ]
        }
      ],
      "source": [
        "# Bài 16: Viết chương trình nhập list số, dùng filter() để lấy ra các số lớn hơn 10.\n",
        "input_str = input(\"Nhập danh sách số cách nhau bởi dấu cách: \")\n",
        "numbers_str = input_str.split()\n",
        "numbers = [float(num) for num in numbers_str]\n",
        "\n",
        "print(f\"Danh sách gốc: {numbers}\")\n",
        "\n",
        "numbers_greater_than_10 = list(filter(lambda x: x > 10, numbers))\n",
        "print(f\"Các số lớn hơn 10: {numbers_greater_than_10}\")"
      ]
    },
    {
      "cell_type": "code",
      "execution_count": 120,
      "metadata": {
        "colab": {
          "base_uri": "https://localhost:8080/",
          "height": 0
        },
        "id": "d82fbcbe",
        "outputId": "fdd2aea1-9373-4841-dd5d-5fa60d28735f"
      },
      "outputs": [
        {
          "name": "stdout",
          "output_type": "stream",
          "text": [
            "Nhập danh sách chuỗi cách nhau bởi dấu cách: nguyen hong yen\n",
            "Danh sách chuỗi gốc: ['nguyen', 'hong', 'yen']\n",
            "Danh sách sắp xếp theo độ dài: ['yen', 'hong', 'nguyen']\n"
          ]
        }
      ],
      "source": [
        "# Bài 17: Viết chương trình nhập list chuỗi, dùng sorted() để sắp xếp theo độ dài chuỗi.\n",
        "input_str = input(\"Nhập danh sách chuỗi cách nhau bởi dấu cách: \")\n",
        "string_list = input_str.split()\n",
        "\n",
        "print(f\"Danh sách chuỗi gốc: {string_list}\")\n",
        "\n",
        "sorted_by_length = sorted(string_list, key=len)\n",
        "print(f\"Danh sách sắp xếp theo độ dài: {sorted_by_length}\")"
      ]
    },
    {
      "cell_type": "code",
      "execution_count": 121,
      "metadata": {
        "colab": {
          "base_uri": "https://localhost:8080/",
          "height": 0
        },
        "id": "d1ccabeb",
        "outputId": "826054e0-e2e1-47d1-eeff-87b751b355e6"
      },
      "outputs": [
        {
          "name": "stdout",
          "output_type": "stream",
          "text": [
            "Writing converter.py\n"
          ]
        }
      ],
      "source": [
        "# Bài 18: Tạo một module converter.py có hàm đổi độ C sang độ F. Import và sử dụng.\n",
        "%%writefile converter.py\n",
        "def celsius_to_fahrenheit(celsius):\n",
        "  \"\"\"Chuyển đổi độ C sang độ F.\"\"\"\n",
        "  fahrenheit = (celsius * 9/5) + 32\n",
        "  return fahrenheit"
      ]
    },
    {
      "cell_type": "code",
      "execution_count": 122,
      "metadata": {
        "colab": {
          "base_uri": "https://localhost:8080/",
          "height": 0
        },
        "id": "72143a83",
        "outputId": "edc3b074-e346-44eb-879d-23bf0f5b5778"
      },
      "outputs": [
        {
          "name": "stdout",
          "output_type": "stream",
          "text": [
            "25 độ C bằng 77.0 độ F.\n",
            "0 độ C bằng 32.0 độ F.\n"
          ]
        }
      ],
      "source": [
        "# Tiếp tục Bài 18: Import và sử dụng module converter.py\n",
        "import converter\n",
        "\n",
        "celsius_temp = 25\n",
        "fahrenheit_temp = converter.celsius_to_fahrenheit(celsius_temp)\n",
        "print(f\"{celsius_temp} độ C bằng {fahrenheit_temp} độ F.\")\n",
        "\n",
        "celsius_temp = 0\n",
        "fahrenheit_temp = converter.celsius_to_fahrenheit(celsius_temp)\n",
        "print(f\"{celsius_temp} độ C bằng {fahrenheit_temp} độ F.\")"
      ]
    },
    {
      "cell_type": "code",
      "execution_count": 124,
      "metadata": {
        "colab": {
          "base_uri": "https://localhost:8080/",
          "height": 0
        },
        "id": "2ea8451f",
        "outputId": "81c8a497-f6d3-4ea5-8d8e-314f4d496d25"
      },
      "outputs": [
        {
          "name": "stdout",
          "output_type": "stream",
          "text": [
            "Nhập danh sách điểm cách nhau bởi dấu cách: 6 7.8 9.5 4.7 10\n",
            "Danh sách điểm gốc: [6.0, 7.8, 9.5, 4.7, 10.0]\n",
            "Danh sách điểm chuẩn hóa: [0.6, 0.78, 0.95, 0.47000000000000003, 1.0]\n"
          ]
        }
      ],
      "source": [
        "# Bài 19: Viết chương trình nhập danh sách điểm, dùng built-in function để chuẩn hóa điểm (chia cho max).\n",
        "# Chuẩn hóa điểm = điểm / điểm_max\n",
        "input_str = input(\"Nhập danh sách điểm cách nhau bởi dấu cách: \")\n",
        "scores_str = input_str.split()\n",
        "scores = [float(score) for score in scores_str]\n",
        "\n",
        "print(f\"Danh sách điểm gốc: {scores}\")\n",
        "\n",
        "if scores: # Kiểm tra danh sách không rỗng\n",
        "  max_score = max(scores)\n",
        "  if max_score > 0: # Tránh chia cho 0 nếu tất cả điểm là 0\n",
        "    normalized_scores = [score / max_score for score in scores]\n",
        "    print(f\"Danh sách điểm chuẩn hóa: {normalized_scores}\")\n",
        "  else:\n",
        "    print(\"Không thể chuẩn hóa: điểm tối đa là 0.\")\n",
        "else:\n",
        "  print(\"Danh sách điểm rỗng.\")"
      ]
    },
    {
      "cell_type": "code",
      "execution_count": 125,
      "metadata": {
        "colab": {
          "base_uri": "https://localhost:8080/",
          "height": 0
        },
        "id": "5b4d8371",
        "outputId": "27a5b49a-8298-4c2d-e9f9-5a06caa6bd54"
      },
      "outputs": [
        {
          "name": "stdout",
          "output_type": "stream",
          "text": [
            "Ngày tháng năm hiện tại: 18/10/2025\n"
          ]
        }
      ],
      "source": [
        "# Bài 20: Viết chương trình sử dụng module datetime để in ra ngày tháng năm hiện tại dưới định dạng dd/mm/yyyy.\n",
        "import datetime\n",
        "\n",
        "now = datetime.datetime.now()\n",
        "\n",
        "formatted_date = now.strftime(\"%d/%m/%Y\")\n",
        "\n",
        "print(f\"Ngày tháng năm hiện tại: {formatted_date}\")"
      ]
    }
  ],
  "metadata": {
    "colab": {
      "provenance": []
    },
    "kernelspec": {
      "display_name": "Python 3",
      "name": "python3"
    },
    "language_info": {
      "codemirror_mode": {
        "name": "ipython",
        "version": 3
      },
      "file_extension": ".py",
      "mimetype": "text/x-python",
      "name": "python",
      "nbconvert_exporter": "python",
      "pygments_lexer": "ipython3",
      "version": "3.12.8"
    }
  },
  "nbformat": 4,
  "nbformat_minor": 0
}
